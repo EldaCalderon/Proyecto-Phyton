{
 "cells": [
  {
   "cell_type": "markdown",
   "metadata": {},
   "source": [
    "### **Nombre:** Elda Magally Calderón Motta\n",
    "### **Carné:** 16003182\n",
    "### **Sección:** Virtual"
   ]
  },
  {
   "cell_type": "markdown",
   "metadata": {},
   "source": [
    "# Proyecto Python"
   ]
  },
  {
   "cell_type": "markdown",
   "metadata": {},
   "source": [
    "## Instalación e Importación de Paquetes"
   ]
  },
  {
   "cell_type": "code",
   "execution_count": 13,
   "metadata": {},
   "outputs": [],
   "source": [
    "import numpy as np\n",
    "from matplotlib import pyplot as plt "
   ]
  },
  {
   "cell_type": "code",
   "execution_count": 14,
   "metadata": {},
   "outputs": [
    {
     "name": "stdout",
     "output_type": "stream",
     "text": [
      "Requirement already up-to-date: scikit-learn in c:\\users\\elda\\anaconda3\\lib\\site-packages (0.22.2.post1)\n",
      "Requirement already satisfied, skipping upgrade: scipy>=0.17.0 in c:\\users\\elda\\anaconda3\\lib\\site-packages (from scikit-learn) (1.3.1)\n",
      "Requirement already satisfied, skipping upgrade: numpy>=1.11.0 in c:\\users\\elda\\anaconda3\\lib\\site-packages (from scikit-learn) (1.16.5)\n",
      "Requirement already satisfied, skipping upgrade: joblib>=0.11 in c:\\users\\elda\\anaconda3\\lib\\site-packages (from scikit-learn) (0.13.2)\n",
      "Note: you may need to restart the kernel to use updated packages.\n"
     ]
    }
   ],
   "source": [
    "pip install -U scikit-learn"
   ]
  },
  {
   "cell_type": "code",
   "execution_count": 15,
   "metadata": {},
   "outputs": [],
   "source": [
    "import sklearn as sl"
   ]
  },
  {
   "cell_type": "code",
   "execution_count": 16,
   "metadata": {},
   "outputs": [
    {
     "name": "stdout",
     "output_type": "stream",
     "text": [
      "Requirement already satisfied: seaborn in c:\\users\\elda\\anaconda3\\lib\\site-packages (0.9.0)\n",
      "Requirement already satisfied: matplotlib>=1.4.3 in c:\\users\\elda\\anaconda3\\lib\\site-packages (from seaborn) (3.1.1)\n",
      "Requirement already satisfied: pandas>=0.15.2 in c:\\users\\elda\\anaconda3\\lib\\site-packages (from seaborn) (0.25.1)\n",
      "Requirement already satisfied: numpy>=1.9.3 in c:\\users\\elda\\anaconda3\\lib\\site-packages (from seaborn) (1.16.5)\n",
      "Requirement already satisfied: scipy>=0.14.0 in c:\\users\\elda\\anaconda3\\lib\\site-packages (from seaborn) (1.3.1)\n",
      "Requirement already satisfied: cycler>=0.10 in c:\\users\\elda\\anaconda3\\lib\\site-packages (from matplotlib>=1.4.3->seaborn) (0.10.0)\n",
      "Requirement already satisfied: kiwisolver>=1.0.1 in c:\\users\\elda\\anaconda3\\lib\\site-packages (from matplotlib>=1.4.3->seaborn) (1.1.0)\n",
      "Requirement already satisfied: pyparsing!=2.0.4,!=2.1.2,!=2.1.6,>=2.0.1 in c:\\users\\elda\\anaconda3\\lib\\site-packages (from matplotlib>=1.4.3->seaborn) (2.4.2)\n",
      "Requirement already satisfied: python-dateutil>=2.1 in c:\\users\\elda\\anaconda3\\lib\\site-packages (from matplotlib>=1.4.3->seaborn) (2.8.0)\n",
      "Requirement already satisfied: pytz>=2017.2 in c:\\users\\elda\\anaconda3\\lib\\site-packages (from pandas>=0.15.2->seaborn) (2019.3)\n",
      "Requirement already satisfied: six in c:\\users\\elda\\anaconda3\\lib\\site-packages (from cycler>=0.10->matplotlib>=1.4.3->seaborn) (1.12.0)\n",
      "Requirement already satisfied: setuptools in c:\\users\\elda\\anaconda3\\lib\\site-packages (from kiwisolver>=1.0.1->matplotlib>=1.4.3->seaborn) (41.4.0)\n",
      "Note: you may need to restart the kernel to use updated packages.\n"
     ]
    }
   ],
   "source": [
    "pip install seaborn"
   ]
  },
  {
   "cell_type": "code",
   "execution_count": 17,
   "metadata": {},
   "outputs": [],
   "source": [
    "import seaborn as sb"
   ]
  },
  {
   "cell_type": "markdown",
   "metadata": {},
   "source": [
    "## Carga de Datos"
   ]
  },
  {
   "cell_type": "code",
   "execution_count": 18,
   "metadata": {},
   "outputs": [
    {
     "name": "stdout",
     "output_type": "stream",
     "text": [
      "[[2.08500e+05 7.00000e+00 8.56000e+02 8.00000e+00 2.00300e+03 6.50000e+01]\n",
      " [1.81500e+05 6.00000e+00 1.26200e+03 6.00000e+00 1.97600e+03 8.00000e+01]\n",
      " [2.23500e+05 7.00000e+00 9.20000e+02 6.00000e+00 2.00100e+03 6.80000e+01]\n",
      " ...\n",
      " [2.66500e+05 7.00000e+00 1.18800e+03 9.00000e+00 1.94100e+03 6.60000e+01]\n",
      " [1.42125e+05 5.00000e+00 1.07800e+03 5.00000e+00 1.95000e+03 6.80000e+01]\n",
      " [1.47500e+05 5.00000e+00 1.25600e+03 6.00000e+00 1.96500e+03 7.50000e+01]]\n"
     ]
    }
   ],
   "source": [
    "a=np.load('C:/Users/Elda/Dropbox/Data Science/1 Trimestre/Python para DS/Proyecto Python/proyecto_training_data.npy')\n",
    "print(a)"
   ]
  },
  {
   "cell_type": "code",
   "execution_count": 19,
   "metadata": {},
   "outputs": [
    {
     "data": {
      "text/plain": [
       "array([2.085e+05, 7.000e+00, 8.560e+02, 8.000e+00, 2.003e+03, 6.500e+01])"
      ]
     },
     "execution_count": 19,
     "metadata": {},
     "output_type": "execute_result"
    }
   ],
   "source": [
    "a[0]"
   ]
  },
  {
   "cell_type": "markdown",
   "metadata": {},
   "source": [
    "## Slicing\n",
    "\n",
    "### Datos de Entrenamiento 80%"
   ]
  },
  {
   "cell_type": "code",
   "execution_count": 20,
   "metadata": {},
   "outputs": [
    {
     "name": "stdout",
     "output_type": "stream",
     "text": [
      "1460\n",
      "1168.0\n"
     ]
    },
    {
     "data": {
      "text/plain": [
       "292.0"
      ]
     },
     "execution_count": 20,
     "metadata": {},
     "output_type": "execute_result"
    }
   ],
   "source": [
    "print(len(a))\n",
    "print(len(a)*0.8)\n",
    "len(a)*0.2"
   ]
  },
  {
   "cell_type": "code",
   "execution_count": 21,
   "metadata": {},
   "outputs": [
    {
     "data": {
      "text/plain": [
       "1168"
      ]
     },
     "execution_count": 21,
     "metadata": {},
     "output_type": "execute_result"
    }
   ],
   "source": [
    "train = a[0:1168]\n",
    "len(train)"
   ]
  },
  {
   "cell_type": "markdown",
   "metadata": {},
   "source": [
    "### Datos de Validación y Pruebas 20%"
   ]
  },
  {
   "cell_type": "code",
   "execution_count": 22,
   "metadata": {},
   "outputs": [
    {
     "data": {
      "text/plain": [
       "292"
      ]
     },
     "execution_count": 22,
     "metadata": {},
     "output_type": "execute_result"
    }
   ],
   "source": [
    "test = a[1168:1460]\n",
    "len(test)"
   ]
  },
  {
   "cell_type": "markdown",
   "metadata": {},
   "source": [
    "## Análisis Exploratorio Datos Entrenamiento"
   ]
  },
  {
   "cell_type": "markdown",
   "metadata": {},
   "source": [
    "### Precio de Venta"
   ]
  },
  {
   "cell_type": "code",
   "execution_count": 23,
   "metadata": {},
   "outputs": [
    {
     "name": "stdout",
     "output_type": "stream",
     "text": [
      "180590.27739726027\n",
      "755000.0\n",
      "34900.0\n",
      "720100.0\n",
      "78781.95108033362\n"
     ]
    }
   ],
   "source": [
    "mediaE0 = np.nanmean(train[:,0])\n",
    "maximoE0 = np.nanmax(train[:,0])\n",
    "minimoE0 = np.nanmin(train[:,0])\n",
    "rangoE0 = maximoE0 - minimoE0\n",
    "desvE0 = np.nanstd(train[:,0])\n",
    "\n",
    "print(mediaE0)\n",
    "print(maximoE0)\n",
    "print(minimoE0)\n",
    "print(rangoE0)\n",
    "print(desvE0)"
   ]
  },
  {
   "cell_type": "markdown",
   "metadata": {},
   "source": [
    "### Calidad Materiales"
   ]
  },
  {
   "cell_type": "code",
   "execution_count": 24,
   "metadata": {},
   "outputs": [
    {
     "name": "stdout",
     "output_type": "stream",
     "text": [
      "6.101027397260274\n",
      "10.0\n",
      "1.0\n",
      "9.0\n",
      "1.377435193240741\n"
     ]
    }
   ],
   "source": [
    "mediaE1 = np.nanmean(train[:,1])\n",
    "maximoE1 = np.nanmax(train[:,1])\n",
    "minimoE1 = np.nanmin(train[:,1])\n",
    "rangoE1 = maximoE1 - minimoE1\n",
    "desvE1 = np.nanstd(train[:,1])\n",
    "\n",
    "print(mediaE1)\n",
    "print(maximoE1)\n",
    "print(minimoE1)\n",
    "print(rangoE1)\n",
    "print(desvE1)"
   ]
  },
  {
   "cell_type": "markdown",
   "metadata": {},
   "source": [
    "### Pies Cuadrados"
   ]
  },
  {
   "cell_type": "code",
   "execution_count": 25,
   "metadata": {},
   "outputs": [
    {
     "name": "stdout",
     "output_type": "stream",
     "text": [
      "1156.3236301369864\n",
      "3228.0\n",
      "334.0\n",
      "2894.0\n",
      "373.620331503586\n"
     ]
    }
   ],
   "source": [
    "mediaE2 = np.nanmean(train[:,2])\n",
    "maximoE2 = np.nanmax(train[:,2])\n",
    "minimoE2 = np.nanmin(train[:,2])\n",
    "rangoE2 = maximoE2 - minimoE2\n",
    "desvE2 = np.nanstd(train[:,2])\n",
    "\n",
    "print(mediaE2)\n",
    "print(maximoE2)\n",
    "print(minimoE2)\n",
    "print(rangoE2)\n",
    "print(desvE2)"
   ]
  },
  {
   "cell_type": "markdown",
   "metadata": {},
   "source": [
    "### Número de Cuartos"
   ]
  },
  {
   "cell_type": "code",
   "execution_count": 26,
   "metadata": {},
   "outputs": [
    {
     "name": "stdout",
     "output_type": "stream",
     "text": [
      "6.4854452054794525\n",
      "14.0\n",
      "2.0\n",
      "12.0\n",
      "1.6084517167387253\n"
     ]
    }
   ],
   "source": [
    "mediaE3 = np.nanmean(train[:,3])\n",
    "maximoE3 = np.nanmax(train[:,3])\n",
    "minimoE3 = np.nanmin(train[:,3])\n",
    "rangoE3 = maximoE3 - minimoE3\n",
    "desvE3 = np.nanstd(train[:,3])\n",
    "\n",
    "print(mediaE3)\n",
    "print(maximoE3)\n",
    "print(minimoE3)\n",
    "print(rangoE3)\n",
    "print(desvE3)"
   ]
  },
  {
   "cell_type": "markdown",
   "metadata": {},
   "source": [
    "### Año de Construcción"
   ]
  },
  {
   "cell_type": "code",
   "execution_count": 27,
   "metadata": {},
   "outputs": [
    {
     "name": "stdout",
     "output_type": "stream",
     "text": [
      "1971.451198630137\n",
      "2010.0\n",
      "1875.0\n",
      "135.0\n",
      "29.93888206867768\n"
     ]
    }
   ],
   "source": [
    "mediaE4 = np.nanmean(train[:,4])\n",
    "maximoE4 = np.nanmax(train[:,4])\n",
    "minimoE4 = np.nanmin(train[:,4])\n",
    "rangoE4 = maximoE4 - minimoE4\n",
    "desvE4 = np.nanstd(train[:,4])\n",
    "\n",
    "print(mediaE4)\n",
    "print(maximoE4)\n",
    "print(minimoE4)\n",
    "print(rangoE4)\n",
    "print(desvE4)"
   ]
  },
  {
   "cell_type": "markdown",
   "metadata": {},
   "source": [
    "### Frente de la Casa"
   ]
  },
  {
   "cell_type": "code",
   "execution_count": 28,
   "metadata": {},
   "outputs": [
    {
     "name": "stdout",
     "output_type": "stream",
     "text": [
      "69.94698544698545\n",
      "313.0\n",
      "21.0\n",
      "292.0\n",
      "23.4659548199304\n"
     ]
    }
   ],
   "source": [
    "mediaE5 = np.nanmean(train[:,5])\n",
    "maximoE5 = np.nanmax(train[:,5])\n",
    "minimoE5 = np.nanmin(train[:,5])\n",
    "rangoE5 = maximoE5 - minimoE5\n",
    "desvE5 = np.nanstd(train[:,5])\n",
    "\n",
    "print(mediaE5)\n",
    "print(maximoE5)\n",
    "print(minimoE5)\n",
    "print(rangoE5)\n",
    "print(desvE5)"
   ]
  },
  {
   "cell_type": "markdown",
   "metadata": {},
   "source": [
    "### Histogramas Datos Entrenamiento"
   ]
  },
  {
   "cell_type": "code",
   "execution_count": 29,
   "metadata": {},
   "outputs": [
    {
     "data": {
      "text/plain": [
       "<matplotlib.axes._subplots.AxesSubplot at 0x203b88bce48>"
      ]
     },
     "execution_count": 29,
     "metadata": {},
     "output_type": "execute_result"
    },
    {
     "data": {
      "image/png": "[encoded data removed]",
      "text/plain": [
       "<Figure size 432x288 with 1 Axes>"
      ]
     },
     "metadata": {
      "needs_background": "light"
     },
     "output_type": "display_data"
    }
   ],
   "source": [
    "sb.distplot(train[:,0])"
   ]
  },
  {
   "cell_type": "code",
   "execution_count": 30,
   "metadata": {},
   "outputs": [
    {
     "data": {
      "text/plain": [
       "<matplotlib.axes._subplots.AxesSubplot at 0x203b88a80c8>"
      ]
     },
     "execution_count": 30,
     "metadata": {},
     "output_type": "execute_result"
    },
    {
     "data": {
      "image/png": "[encoded data removed]",
      "text/plain": [
       "<Figure size 432x288 with 1 Axes>"
      ]
     },
     "metadata": {
      "needs_background": "light"
     },
     "output_type": "display_data"
    }
   ],
   "source": [
    "sb.distplot(train[:,1])"
   ]
  },
  {
   "cell_type": "code",
   "execution_count": 31,
   "metadata": {},
   "outputs": [
    {
     "data": {
      "text/plain": [
       "<matplotlib.axes._subplots.AxesSubplot at 0x203b8d3cd88>"
      ]
     },
     "execution_count": 31,
     "metadata": {},
     "output_type": "execute_result"
    },
    {
     "data": {
      "image/png": "[encoded data removed]",
      "text/plain": [
       "<Figure size 432x288 with 1 Axes>"
      ]
     },
     "metadata": {
      "needs_background": "light"
     },
     "output_type": "display_data"
    }
   ],
   "source": [
    "sb.distplot(train[:,2])"
   ]
  },
  {
   "cell_type": "code",
   "execution_count": 32,
   "metadata": {},
   "outputs": [
    {
     "data": {
      "text/plain": [
       "<matplotlib.axes._subplots.AxesSubplot at 0x203b8e10048>"
      ]
     },
     "execution_count": 32,
     "metadata": {},
     "output_type": "execute_result"
    },
    {
     "data": {
      "image/png": "[encoded data removed]",
      "text/plain": [
       "<Figure size 432x288 with 1 Axes>"
      ]
     },
     "metadata": {
      "needs_background": "light"
     },
     "output_type": "display_data"
    }
   ],
   "source": [
    "sb.distplot(train[:,3])"
   ]
  },
  {
   "cell_type": "code",
   "execution_count": 33,
   "metadata": {},
   "outputs": [
    {
     "data": {
      "text/plain": [
       "<matplotlib.axes._subplots.AxesSubplot at 0x203b8ed5448>"
      ]
     },
     "execution_count": 33,
     "metadata": {},
     "output_type": "execute_result"
    },
    {
     "data": {
      "image/png": "[encoded data removed]",
      "text/plain": [
       "<Figure size 432x288 with 1 Axes>"
      ]
     },
     "metadata": {
      "needs_background": "light"
     },
     "output_type": "display_data"
    }
   ],
   "source": [
    "sb.distplot(train[:,4])"
   ]
  },
  {
   "cell_type": "code",
   "execution_count": 34,
   "metadata": {},
   "outputs": [
    {
     "data": {
      "text/plain": [
       "<matplotlib.axes._subplots.AxesSubplot at 0x203b8e93248>"
      ]
     },
     "execution_count": 34,
     "metadata": {},
     "output_type": "execute_result"
    },
    {
     "data": {
      "image/png": "[encoded data removed]",
      "text/plain": [
       "<Figure size 432x288 with 1 Axes>"
      ]
     },
     "metadata": {
      "needs_background": "light"
     },
     "output_type": "display_data"
    }
   ],
   "source": [
    "import math\n",
    "x = np.float64('nan')\n",
    "math.isnan(x)\n",
    "\n",
    "\n",
    "w = train[:,5]\n",
    "z = w[np.isnan(w) != np.isnan(x)]\n",
    "\n",
    "sb.distplot(z)"
   ]
  },
  {
   "cell_type": "markdown",
   "metadata": {},
   "source": [
    "## Análisis Exploratorio Datos Validación y Pruebas"
   ]
  },
  {
   "cell_type": "markdown",
   "metadata": {},
   "source": [
    "### Precio de Venta"
   ]
  },
  {
   "cell_type": "code",
   "execution_count": 35,
   "metadata": {},
   "outputs": [
    {
     "name": "stdout",
     "output_type": "stream",
     "text": [
      "182244.8698630137\n",
      "745000.0\n",
      "52500.0\n",
      "692500.0\n",
      "81886.32072372036\n"
     ]
    }
   ],
   "source": [
    "mediaT0 = np.nanmean(test[:,0])\n",
    "maximoT0 = np.nanmax(test[:,0])\n",
    "minimoT0 = np.nanmin(test[:,0])\n",
    "rangoT0 = maximoT0 - minimoT0\n",
    "desvT0 = np.nanstd(test[:,0])\n",
    "\n",
    "print(mediaT0)\n",
    "print(maximoT0)\n",
    "print(minimoT0)\n",
    "print(rangoT0)\n",
    "print(desvT0)"
   ]
  },
  {
   "cell_type": "markdown",
   "metadata": {},
   "source": [
    "### Calidad Materiales"
   ]
  },
  {
   "cell_type": "code",
   "execution_count": 36,
   "metadata": {},
   "outputs": [
    {
     "name": "stdout",
     "output_type": "stream",
     "text": [
      "6.092465753424658\n",
      "10.0\n",
      "3.0\n",
      "7.0\n",
      "1.4026679869819103\n"
     ]
    }
   ],
   "source": [
    "mediaT1 = np.nanmean(test[:,1])\n",
    "maximoT1 = np.nanmax(test[:,1])\n",
    "minimoT1 = np.nanmin(test[:,1])\n",
    "rangoT1 = maximoT1 - minimoT1\n",
    "desvT1 = np.nanstd(test[:,1])\n",
    "\n",
    "print(mediaT1)\n",
    "print(maximoT1)\n",
    "print(minimoT1)\n",
    "print(rangoT1)\n",
    "print(desvT1)"
   ]
  },
  {
   "cell_type": "markdown",
   "metadata": {},
   "source": [
    "### Pies Cuadrados"
   ]
  },
  {
   "cell_type": "code",
   "execution_count": 37,
   "metadata": {},
   "outputs": [
    {
     "name": "stdout",
     "output_type": "stream",
     "text": [
      "1187.8390410958905\n",
      "4692.0\n",
      "483.0\n",
      "4209.0\n",
      "433.09975216468075\n"
     ]
    }
   ],
   "source": [
    "mediaT2 = np.nanmean(test[:,2])\n",
    "maximoT2 = np.nanmax(test[:,2])\n",
    "minimoT2 = np.nanmin(test[:,2])\n",
    "rangoT2 = maximoT2 - minimoT2\n",
    "desvT2 = np.nanstd(test[:,2])\n",
    "\n",
    "print(mediaT2)\n",
    "print(maximoT2)\n",
    "print(minimoT2)\n",
    "print(rangoT2)\n",
    "print(desvT2)"
   ]
  },
  {
   "cell_type": "markdown",
   "metadata": {},
   "source": [
    "### Número de Cuartos"
   ]
  },
  {
   "cell_type": "code",
   "execution_count": 38,
   "metadata": {},
   "outputs": [
    {
     "name": "stdout",
     "output_type": "stream",
     "text": [
      "6.647260273972603\n",
      "12.0\n",
      "3.0\n",
      "9.0\n",
      "1.6825736648767897\n"
     ]
    }
   ],
   "source": [
    "mediaT3 = np.nanmean(test[:,3])\n",
    "maximoT3 = np.nanmax(test[:,3])\n",
    "minimoT3 = np.nanmin(test[:,3])\n",
    "rangoT3 = maximoT3 - minimoT3\n",
    "desvT3 = np.nanstd(test[:,3])\n",
    "\n",
    "print(mediaT3)\n",
    "print(maximoT3)\n",
    "print(minimoT3)\n",
    "print(rangoT3)\n",
    "print(desvT3)"
   ]
  },
  {
   "cell_type": "markdown",
   "metadata": {},
   "source": [
    "### Año de Construcción"
   ]
  },
  {
   "cell_type": "code",
   "execution_count": 39,
   "metadata": {},
   "outputs": [
    {
     "name": "stdout",
     "output_type": "stream",
     "text": [
      "1970.5342465753424\n",
      "2009.0\n",
      "1872.0\n",
      "137.0\n",
      "31.175852172457557\n"
     ]
    }
   ],
   "source": [
    "mediaT4 = np.nanmean(test[:,4])\n",
    "maximoT4 = np.nanmax(test[:,4])\n",
    "minimoT4 = np.nanmin(test[:,4])\n",
    "rangoT4 = maximoT4 - minimoT4\n",
    "desvT4 = np.nanstd(test[:,4])\n",
    "\n",
    "print(mediaT4)\n",
    "print(maximoT4)\n",
    "print(minimoT4)\n",
    "print(rangoT4)\n",
    "print(desvT4)"
   ]
  },
  {
   "cell_type": "markdown",
   "metadata": {},
   "source": [
    "### Frente de la Casa"
   ]
  },
  {
   "cell_type": "code",
   "execution_count": 40,
   "metadata": {},
   "outputs": [
    {
     "name": "stdout",
     "output_type": "stream",
     "text": [
      "70.46443514644352\n",
      "313.0\n",
      "21.0\n",
      "292.0\n",
      "27.28444985262555\n"
     ]
    }
   ],
   "source": [
    "mediaT5 = np.nanmean(test[:,5])\n",
    "maximoT5 = np.nanmax(test[:,5])\n",
    "minimoT5 = np.nanmin(test[:,5])\n",
    "rangoT5 = maximoT5 - minimoT5\n",
    "desvT5 = np.nanstd(test[:,5])\n",
    "\n",
    "print(mediaT5)\n",
    "print(maximoT5)\n",
    "print(minimoT5)\n",
    "print(rangoT5)\n",
    "print(desvT5)"
   ]
  },
  {
   "cell_type": "markdown",
   "metadata": {},
   "source": [
    "### Histogramas Datos Validación y Pruebas"
   ]
  },
  {
   "cell_type": "code",
   "execution_count": 41,
   "metadata": {},
   "outputs": [
    {
     "data": {
      "text/plain": [
       "<matplotlib.axes._subplots.AxesSubplot at 0x203b907a2c8>"
      ]
     },
     "execution_count": 41,
     "metadata": {},
     "output_type": "execute_result"
    },
    {
     "data": {
      "image/png": "[encoded data removed]",
      "text/plain": [
       "<Figure size 432x288 with 1 Axes>"
      ]
     },
     "metadata": {
      "needs_background": "light"
     },
     "output_type": "display_data"
    }
   ],
   "source": [
    "sb.distplot(test[:,0])"
   ]
  },
  {
   "cell_type": "code",
   "execution_count": 42,
   "metadata": {},
   "outputs": [
    {
     "data": {
      "text/plain": [
       "<matplotlib.axes._subplots.AxesSubplot at 0x203b910c848>"
      ]
     },
     "execution_count": 42,
     "metadata": {},
     "output_type": "execute_result"
    },
    {
     "data": {
      "image/png": "[encoded data removed]",
      "text/plain": [
       "<Figure size 432x288 with 1 Axes>"
      ]
     },
     "metadata": {
      "needs_background": "light"
     },
     "output_type": "display_data"
    }
   ],
   "source": [
    "sb.distplot(test[:,1])"
   ]
  },
  {
   "cell_type": "code",
   "execution_count": 43,
   "metadata": {},
   "outputs": [
    {
     "data": {
      "text/plain": [
       "<matplotlib.axes._subplots.AxesSubplot at 0x203b917c208>"
      ]
     },
     "execution_count": 43,
     "metadata": {},
     "output_type": "execute_result"
    },
    {
     "data": {
      "image/png": "[encoded data removed]",
      "text/plain": [
       "<Figure size 432x288 with 1 Axes>"
      ]
     },
     "metadata": {
      "needs_background": "light"
     },
     "output_type": "display_data"
    }
   ],
   "source": [
    "sb.distplot(test[:,2])"
   ]
  },
  {
   "cell_type": "code",
   "execution_count": 44,
   "metadata": {},
   "outputs": [
    {
     "data": {
      "text/plain": [
       "<matplotlib.axes._subplots.AxesSubplot at 0x203b9237648>"
      ]
     },
     "execution_count": 44,
     "metadata": {},
     "output_type": "execute_result"
    },
    {
     "data": {
      "image/png": "[encoded data removed]",
      "text/plain": [
       "<Figure size 432x288 with 1 Axes>"
      ]
     },
     "metadata": {
      "needs_background": "light"
     },
     "output_type": "display_data"
    }
   ],
   "source": [
    "sb.distplot(test[:,3])"
   ]
  },
  {
   "cell_type": "code",
   "execution_count": 45,
   "metadata": {},
   "outputs": [
    {
     "data": {
      "text/plain": [
       "<matplotlib.axes._subplots.AxesSubplot at 0x203b92cea08>"
      ]
     },
     "execution_count": 45,
     "metadata": {},
     "output_type": "execute_result"
    },
    {
     "data": {
      "image/png": "[encoded data removed]",
      "text/plain": [
       "<Figure size 432x288 with 1 Axes>"
      ]
     },
     "metadata": {
      "needs_background": "light"
     },
     "output_type": "display_data"
    }
   ],
   "source": [
    "sb.distplot(test[:,4])"
   ]
  },
  {
   "cell_type": "code",
   "execution_count": 46,
   "metadata": {},
   "outputs": [
    {
     "data": {
      "text/plain": [
       "<matplotlib.axes._subplots.AxesSubplot at 0x203b9349148>"
      ]
     },
     "execution_count": 46,
     "metadata": {},
     "output_type": "execute_result"
    },
    {
     "data": {
      "image/png": "[encoded data removed]",
      "text/plain": [
       "<Figure size 432x288 with 1 Axes>"
      ]
     },
     "metadata": {
      "needs_background": "light"
     },
     "output_type": "display_data"
    }
   ],
   "source": [
    "x = np.float64('nan')\n",
    "\n",
    "q = test[:,5]\n",
    "r = q[np.isnan(q) != np.isnan(x)]\n",
    "\n",
    "sb.distplot(r)"
   ]
  },
  {
   "cell_type": "markdown",
   "metadata": {},
   "source": [
    "## Coeficiente de Correlación Datos Entrenamiento"
   ]
  },
  {
   "cell_type": "code",
   "execution_count": 47,
   "metadata": {},
   "outputs": [
    {
     "data": {
      "text/plain": [
       "array([[1.        , 0.79399005],\n",
       "       [0.79399005, 1.        ]])"
      ]
     },
     "execution_count": 47,
     "metadata": {},
     "output_type": "execute_result"
    }
   ],
   "source": [
    "np.corrcoef(train[:,1], train[:,0])"
   ]
  },
  {
   "cell_type": "code",
   "execution_count": 48,
   "metadata": {},
   "outputs": [
    {
     "data": {
      "image/png": "[encoded data removed]",
      "text/plain": [
       "<Figure size 432x288 with 1 Axes>"
      ]
     },
     "metadata": {
      "needs_background": "light"
     },
     "output_type": "display_data"
    }
   ],
   "source": [
    "plt.scatter(train[:,1], train[:,0],marker=\"o\",color=\"y\")\n",
    "\n",
    "plt.xlabel('x - Calidad Materiales')\n",
    "plt.ylabel('y - Precio Venta')\n",
    "plt.title('Calidad Materiales - Precio     * Correlación = 0.7940 *')\n",
    "\n",
    "plt.show()"
   ]
  },
  {
   "cell_type": "code",
   "execution_count": 49,
   "metadata": {},
   "outputs": [
    {
     "data": {
      "text/plain": [
       "array([[1.       , 0.6162887],\n",
       "       [0.6162887, 1.       ]])"
      ]
     },
     "execution_count": 49,
     "metadata": {},
     "output_type": "execute_result"
    }
   ],
   "source": [
    "np.corrcoef(train[:,2], train[:,0])"
   ]
  },
  {
   "cell_type": "code",
   "execution_count": 50,
   "metadata": {},
   "outputs": [
    {
     "data": {
      "image/png": "[encoded data removed]",
      "text/plain": [
       "<Figure size 432x288 with 1 Axes>"
      ]
     },
     "metadata": {
      "needs_background": "light"
     },
     "output_type": "display_data"
    }
   ],
   "source": [
    "plt.scatter(train[:,2], train[:,0],marker=\"o\",color=\"y\")\n",
    "\n",
    "plt.xlabel('x - Area')\n",
    "plt.ylabel('y - Precio Venta')\n",
    "plt.title('Area - Precio    * Correlación = 0.6163 *')\n",
    "\n",
    "plt.show()"
   ]
  },
  {
   "cell_type": "code",
   "execution_count": 51,
   "metadata": {},
   "outputs": [
    {
     "data": {
      "text/plain": [
       "array([[1.        , 0.56470694],\n",
       "       [0.56470694, 1.        ]])"
      ]
     },
     "execution_count": 51,
     "metadata": {},
     "output_type": "execute_result"
    }
   ],
   "source": [
    "np.corrcoef(train[:,3], train[:,0])"
   ]
  },
  {
   "cell_type": "code",
   "execution_count": 52,
   "metadata": {},
   "outputs": [
    {
     "data": {
      "image/png": "[encoded data removed]",
      "text/plain": [
       "<Figure size 432x288 with 1 Axes>"
      ]
     },
     "metadata": {
      "needs_background": "light"
     },
     "output_type": "display_data"
    }
   ],
   "source": [
    "plt.scatter(train[:,3], train[:,0],marker=\"o\",color=\"y\")\n",
    "\n",
    "plt.xlabel('x - Cantidad Cuartos')\n",
    "plt.ylabel('y - Precio Venta')\n",
    "plt.title('Cantidad Cuartos - Precio    * Correlación = 0.5647 *')\n",
    "\n",
    "plt.show()"
   ]
  },
  {
   "cell_type": "code",
   "execution_count": 53,
   "metadata": {},
   "outputs": [
    {
     "data": {
      "text/plain": [
       "array([[1.        , 0.53417069],\n",
       "       [0.53417069, 1.        ]])"
      ]
     },
     "execution_count": 53,
     "metadata": {},
     "output_type": "execute_result"
    }
   ],
   "source": [
    "np.corrcoef(train[:,4], train[:,0])"
   ]
  },
  {
   "cell_type": "code",
   "execution_count": 54,
   "metadata": {},
   "outputs": [
    {
     "data": {
      "image/png": "[encoded data removed]",
      "text/plain": [
       "<Figure size 432x288 with 1 Axes>"
      ]
     },
     "metadata": {
      "needs_background": "light"
     },
     "output_type": "display_data"
    }
   ],
   "source": [
    "plt.scatter(train[:,4], train[:,0],marker=\"o\",color=\"y\")\n",
    "\n",
    "plt.xlabel('x - Año Construcción')\n",
    "plt.ylabel('y - Precio Venta')\n",
    "plt.title('Año Construcción - Precio    * Correlación = 0.5341 *')\n",
    "\n",
    "plt.show()"
   ]
  },
  {
   "cell_type": "code",
   "execution_count": 55,
   "metadata": {},
   "outputs": [
    {
     "data": {
      "text/plain": [
       "array([[1.        , 0.22620751],\n",
       "       [0.22620751, 1.        ]])"
      ]
     },
     "execution_count": 55,
     "metadata": {},
     "output_type": "execute_result"
    }
   ],
   "source": [
    "w = train[:,5]\n",
    "z = w[np.isnan(w) != np.isnan(x)]\n",
    "\n",
    "condicionesw = [np.isnan(w) != np.isnan(x)]\n",
    "resultadosw = [w]\n",
    "ww = np.select(condicionesw,resultadosw,0)\n",
    "\n",
    "\n",
    "np.corrcoef(ww, train[:,0])"
   ]
  },
  {
   "cell_type": "code",
   "execution_count": 56,
   "metadata": {},
   "outputs": [
    {
     "data": {
      "image/png": "[encoded data removed]",
      "text/plain": [
       "<Figure size 432x288 with 1 Axes>"
      ]
     },
     "metadata": {
      "needs_background": "light"
     },
     "output_type": "display_data"
    }
   ],
   "source": [
    "plt.scatter(train[:,5], train[:,0],marker=\"o\",color=\"y\")\n",
    "\n",
    "plt.xlabel('x - Frente Casa')\n",
    "plt.ylabel('y - Precio Venta')\n",
    "plt.title('Frente Casa - Precio    * Correlación = 0.2262 *')\n",
    "\n",
    "plt.show()"
   ]
  },
  {
   "cell_type": "markdown",
   "metadata": {},
   "source": [
    "## Elección Variables Mayor Potencial Predictivo Datos Entrenamiento"
   ]
  },
  {
   "cell_type": "markdown",
   "metadata": {},
   "source": [
    "De las cinco variables anteriores, las dos con mayor potencial predictivo son las que corresponden a:\n",
    "\n",
    "* Calidad de los materiales // train[:,1] // - correlación = 0.7940\n",
    "* Pies cuadrados (área) // train[:,2] // - correlación = 0.6163\n",
    "\n",
    "Ya que estas son las que muestran un mayor coeficiente de correlación con la variable y, precio de venta de la casa."
   ]
  },
  {
   "cell_type": "markdown",
   "metadata": {},
   "source": [
    "## Función para Entrenar Modelo de Regresión Lineal Datos Entrenamiento"
   ]
  },
  {
   "cell_type": "code",
   "execution_count": 200,
   "metadata": {},
   "outputs": [
    {
     "name": "stdout",
     "output_type": "stream",
     "text": [
      "[ 856. 1262.  920. ... 1502. 1694.  959.]\n"
     ]
    }
   ],
   "source": [
    "vectorX1 = train[:,1]\n",
    "\n",
    "vectorX2 = train[:,2]\n",
    "\n"
   ]
  },
  {
   "cell_type": "code",
   "execution_count": 251,
   "metadata": {},
   "outputs": [
    {
     "name": "stdout",
     "output_type": "stream",
     "text": [
      "18391393555101.164\n",
      "40982137355205.99\n",
      "91323649601499.86\n",
      "203505341347867.5\n",
      "453492507130710.9\n",
      "1010567214184376.5\n",
      "2251959860442752.5\n",
      "5018295654767241.0\n",
      "1.1182834932601744e+16\n",
      "2.491997580544274e+16\n",
      "5.5532002245014456e+16\n"
     ]
    },
    {
     "data": {
      "text/plain": [
       "{0: array([1.00037932e+06, 5.92043712e+01]),\n",
       " 1: array([1.00075879e+06, 1.18432477e+02]),\n",
       " 2: array([1.00113841e+06, 1.77684326e+02]),\n",
       " 3: array([1.00151819e+06, 2.36959929e+02]),\n",
       " 4: array([1.00189812e+06, 2.96259295e+02]),\n",
       " 5: array([1.00227820e+06, 3.55582434e+02]),\n",
       " 6: array([1.00265843e+06, 4.14929354e+02]),\n",
       " 7: array([1.00303881e+06, 4.74300066e+02]),\n",
       " 8: array([1.00341935e+06, 5.33694579e+02]),\n",
       " 9: array([1.00380004e+06, 5.93112903e+02]),\n",
       " 10: array([1.00418088e+06, 6.52555046e+02]),\n",
       " 11: array([1.00456188e+06, 7.12021020e+02]),\n",
       " 12: array([1.00494302e+06, 7.71510832e+02]),\n",
       " 13: array([1.00532432e+06, 8.31024494e+02]),\n",
       " 14: array([1.00570578e+06, 8.90562014e+02]),\n",
       " 15: array([1.00608738e+06, 9.50123401e+02]),\n",
       " 16: array([1006469.13924952,    1009.70866657]),\n",
       " 17: array([1006851.05072393,    1069.31781882]),\n",
       " 18: array([1007233.11523836,    1128.95086767]),\n",
       " 19: array([1007615.33285414,    1188.60782272]),\n",
       " 20: array([1007997.7036326 ,    1248.28869354]),\n",
       " 21: array([1008380.22763514,    1307.99348972]),\n",
       " 22: array([1008762.90492315,    1367.72222084]),\n",
       " 23: array([1009145.73555806,    1427.47489649]),\n",
       " 24: array([1009528.71960132,    1487.25152627]),\n",
       " 25: array([1009911.8571144 ,    1547.05211978]),\n",
       " 26: array([1010295.14815879,    1606.87668661]),\n",
       " 27: array([1010678.59279604,    1666.72523639]),\n",
       " 28: array([1011062.19108767,    1726.59777871]),\n",
       " 29: array([1011445.94309527,    1786.4943232 ]),\n",
       " 30: array([1011829.84888044,    1846.41487946]),\n",
       " 31: array([1012213.90850479,    1906.35945713]),\n",
       " 32: array([1012598.12202998,    1966.32806583]),\n",
       " 33: array([1012982.48951767,    2026.32071518]),\n",
       " 34: array([1013367.01102957,    2086.33741483]),\n",
       " 35: array([1013751.68662739,    2146.37817441]),\n",
       " 36: array([1014136.51637288,    2206.44300356]),\n",
       " 37: array([1014521.50032781,    2266.53191193]),\n",
       " 38: array([1014906.63855398,    2326.64490916]),\n",
       " 39: array([1015291.9311132 ,    2386.78200491]),\n",
       " 40: array([1015677.37806733,    2446.94320883]),\n",
       " 41: array([1016062.97947823,    2507.12853059]),\n",
       " 42: array([1016448.73540779,    2567.33797986]),\n",
       " 43: array([1016834.64591795,    2627.57156629]),\n",
       " 44: array([1017220.71107063,    2687.82929956]),\n",
       " 45: array([1017606.93092781,    2748.11118935]),\n",
       " 46: array([1017993.30555149,    2808.41724534]),\n",
       " 47: array([1018379.83500367,    2868.74747722]),\n",
       " 48: array([1018766.51934642,    2929.10189466]),\n",
       " 49: array([1019153.35864179,    2989.48050736]),\n",
       " 50: array([1019540.35295187,    3049.88332503]),\n",
       " 51: array([1019927.5023388 ,    3110.31035735]),\n",
       " 52: array([1020314.8068647 ,    3170.76161402]),\n",
       " 53: array([1020702.26659175,    3231.23710477]),\n",
       " 54: array([1021089.88158214,    3291.7368393 ]),\n",
       " 55: array([1021477.65189809,    3352.26082732]),\n",
       " 56: array([1021865.57760184,    3412.80907855]),\n",
       " 57: array([1022253.65875566,    3473.38160272]),\n",
       " 58: array([1022641.89542185,    3533.97840955]),\n",
       " 59: array([1023030.28766271,    3594.59950878]),\n",
       " 60: array([1023418.8355406 ,    3655.24491013]),\n",
       " 61: array([1023807.53911787,    3715.91462335]),\n",
       " 62: array([1024196.39845693,    3776.60865818]),\n",
       " 63: array([1024585.41362019,    3837.32702437]),\n",
       " 64: array([1024974.58467009,    3898.06973166]),\n",
       " 65: array([1025363.9116691 ,    3958.83678981]),\n",
       " 66: array([1025753.39467972,    4019.62820857]),\n",
       " 67: array([1026143.03376445,    4080.44399772]),\n",
       " 68: array([1026532.82898586,    4141.28416701]),\n",
       " 69: array([1026922.78040649,    4202.14872621]),\n",
       " 70: array([1027312.88808895,    4263.03768511]),\n",
       " 71: array([1027703.15209585,    4323.95105347]),\n",
       " 72: array([1028093.57248984,    4384.88884108]),\n",
       " 73: array([1028484.14933358,    4445.85105772]),\n",
       " 74: array([1028874.88268977,    4506.83771318]),\n",
       " 75: array([1029265.77262113,    4567.84881726]),\n",
       " 76: array([1029656.81919039,    4628.88437976]),\n",
       " 77: array([1030048.02246034,    4689.94441046]),\n",
       " 78: array([1030439.38249375,    4751.02891919]),\n",
       " 79: array([1030830.89935346,    4812.13791574]),\n",
       " 80: array([1031222.57310231,    4873.27140994]),\n",
       " 81: array([1031614.40380316,    4934.42941159]),\n",
       " 82: array([1032006.39151891,    4995.61193052]),\n",
       " 83: array([1032398.53631248,    5056.81897655]),\n",
       " 84: array([1032790.83824681,    5118.05055952]),\n",
       " 85: array([1033183.29738488,    5179.30668925]),\n",
       " 86: array([1033575.91378968,    5240.58737558]),\n",
       " 87: array([1033968.68752423,    5301.89262835]),\n",
       " 88: array([1034361.61865158,    5363.2224574 ]),\n",
       " 89: array([1034754.70723479,    5424.5768726 ]),\n",
       " 90: array([1035147.95333697,    5485.95588377]),\n",
       " 91: array([1035541.35702124,    5547.35950079]),\n",
       " 92: array([1035934.91835074,    5608.78773352]),\n",
       " 93: array([1036328.63738865,    5670.24059181]),\n",
       " 94: array([1036722.51419816,    5731.71808553]),\n",
       " 95: array([1037116.5488425 ,    5793.22022456]),\n",
       " 96: array([1037510.74138492,    5854.74701878]),\n",
       " 97: array([1037905.09188868,    5916.29847805]),\n",
       " 98: array([1038299.60041709,    5977.87461228]),\n",
       " 99: array([1038694.26703348,    6039.47543134]),\n",
       " 100: array([1039089.09180119,    6101.10094512]),\n",
       " 101: array([1039484.07478359,    6162.75116353]),\n",
       " 102: array([1039879.21604409,    6224.42609646]),\n",
       " 103: array([1040274.51564612,    6286.12575382]),\n",
       " 104: array([1040669.97365313,    6347.85014551]),\n",
       " 105: array([1041065.59012858,    6409.59928144]),\n",
       " 106: array([1041461.36513599,    6471.37317154]),\n",
       " 107: array([1041857.29873889,    6533.17182572]),\n",
       " 108: array([1042253.39100082,    6594.9952539 ]),\n",
       " 109: array([1042649.64198536,    6656.84346601]),\n",
       " 110: array([1043046.05175613,    6718.71647199]),\n",
       " 111: array([1043442.62037674,    6780.61428176]),\n",
       " 112: array([1043839.34791085,    6842.53690527]),\n",
       " 113: array([1044236.23442215,    6904.48435247]),\n",
       " 114: array([1044633.27997434,    6966.45663329]),\n",
       " 115: array([1045030.48463115,    7028.4537577 ]),\n",
       " 116: array([1045427.84845634,    7090.47573564]),\n",
       " 117: array([1045825.37151369,    7152.52257707]),\n",
       " 118: array([1046223.05386702,    7214.59429197]),\n",
       " 119: array([1046620.89558014,    7276.69089029]),\n",
       " 120: array([1047018.89671693,    7338.81238201]),\n",
       " 121: array([1047417.05734127,    7400.9587771 ]),\n",
       " 122: array([1047815.37751707,    7463.13008555]),\n",
       " 123: array([1048213.85730827,    7525.32631733]),\n",
       " 124: array([1048612.49677882,    7587.54748244]),\n",
       " 125: array([1049011.29599272,    7649.79359086]),\n",
       " 126: array([1049410.25501397,    7712.06465259]),\n",
       " 127: array([1049809.37390662,    7774.36067763]),\n",
       " 128: array([1050208.65273474,    7836.68167598]),\n",
       " 129: array([1050608.0915624 ,    7899.02765766]),\n",
       " 130: array([1051007.69045374,    7961.39863266]),\n",
       " 131: array([1051407.44947288,    8023.79461102]),\n",
       " 132: array([1051807.368684  ,    8086.21560274]),\n",
       " 133: array([1052207.44815129,    8148.66161785]),\n",
       " 134: array([1052607.68793896,    8211.13266638]),\n",
       " 135: array([1053008.08811127,    8273.62875836]),\n",
       " 136: array([1053408.64873248,    8336.14990382]),\n",
       " 137: array([1053809.36986689,    8398.69611281]),\n",
       " 138: array([1054210.25157882,    8461.26739537]),\n",
       " 139: array([1054611.29393262,    8523.86376154]),\n",
       " 140: array([1055012.49699266,    8586.48522139]),\n",
       " 141: array([1055413.86082334,    8649.13178495]),\n",
       " 142: array([1055815.38548908,    8711.8034623 ]),\n",
       " 143: array([1056217.07105434,    8774.50026349]),\n",
       " 144: array([1056618.91758359,    8837.2221986 ]),\n",
       " 145: array([1057020.92514134,    8899.96927769]),\n",
       " 146: array([1057423.09379211,    8962.74151085]),\n",
       " 147: array([1057825.42360045,    9025.53890815]),\n",
       " 148: array([1058227.91463095,    9088.36147967]),\n",
       " 149: array([1058630.56694821,    9151.20923551]),\n",
       " 150: array([1059033.38061687,    9214.08218575]),\n",
       " 151: array([1059436.35570157,    9276.9803405 ]),\n",
       " 152: array([1059839.49226702,    9339.90370985]),\n",
       " 153: array([1060242.7903779,    9402.8523039]),\n",
       " 154: array([1060646.25009897,    9465.82613277]),\n",
       " 155: array([1061049.87149497,    9528.82520656]),\n",
       " 156: array([1061453.65463071,    9591.8495354 ]),\n",
       " 157: array([1061857.59957098,    9654.8991294 ]),\n",
       " 158: array([1062261.70638064,    9717.97399868]),\n",
       " 159: array([1062665.97512454,    9781.07415339]),\n",
       " 160: array([1063070.40586758,    9844.19960364]),\n",
       " 161: array([1063474.99867467,    9907.35035957]),\n",
       " 162: array([1063879.75361076,    9970.52643134]),\n",
       " 163: array([1064284.67074081,   10033.72782907]),\n",
       " 164: array([1064689.75012983,   10096.95456292]),\n",
       " 165: array([1065094.99184283,   10160.20664304]),\n",
       " 166: array([1065500.39594485,   10223.48407959]),\n",
       " 167: array([1065905.96250098,   10286.78688274]),\n",
       " 168: array([1066311.69157632,   10350.11506263]),\n",
       " 169: array([1066717.58323598,   10413.46862945]),\n",
       " 170: array([1067123.63754512,   10476.84759337]),\n",
       " 171: array([1067529.85456892,   10540.25196456]),\n",
       " 172: array([1067936.23437258,   10603.68175321]),\n",
       " 173: array([1068342.77702133,   10667.13696949]),\n",
       " 174: array([1068749.48258043,   10730.61762361]),\n",
       " 175: array([1069156.35111516,   10794.12372576]),\n",
       " 176: array([1069563.38269082,   10857.65528612]),\n",
       " 177: array([1069970.57737276,   10921.21231491]),\n",
       " 178: array([1070377.93522633,   10984.79482233]),\n",
       " 179: array([1070785.45631693,   11048.40281858]),\n",
       " 180: array([1071193.14070995,   11112.03631389]),\n",
       " 181: array([1071600.98847085,   11175.69531847]),\n",
       " 182: array([1072008.99966509,   11239.37984255]),\n",
       " 183: array([1072417.17435816,   11303.08989634]),\n",
       " 184: array([1072825.51261558,   11366.82549009]),\n",
       " 185: array([1073234.01450289,   11430.58663402]),\n",
       " 186: array([1073642.68008566,   11494.37333837]),\n",
       " 187: array([1074051.5094295 ,   11558.18561339]),\n",
       " 188: array([1074460.50260002,   11622.02346933]),\n",
       " 189: array([1074869.65966287,   11685.88691642]),\n",
       " 190: array([1075278.98068373,   11749.77596494]),\n",
       " 191: array([1075688.4657283 ,   11813.69062513]),\n",
       " 192: array([1076098.11486231,   11877.63090727]),\n",
       " 193: array([1076507.92815151,   11941.59682161]),\n",
       " 194: array([1076917.9056617 ,   12005.58837844]),\n",
       " 195: array([1077328.04745866,   12069.60558802]),\n",
       " 196: array([1077738.35360824,   12133.64846063]),\n",
       " 197: array([1078148.82417629,   12197.71700657]),\n",
       " 198: array([1078559.45922871,   12261.81123611]),\n",
       " 199: array([1078970.25883141,   12325.93115955]),\n",
       " 200: array([1079381.22305032,   12390.07678719]),\n",
       " 201: array([1079792.35195142,   12454.24812932]),\n",
       " 202: array([1080203.64560069,   12518.44519626]),\n",
       " 203: array([1080615.10406415,   12582.6679983 ]),\n",
       " 204: array([1081026.72740785,   12646.91654576]),\n",
       " 205: array([1081438.51569785,   12711.19084897]),\n",
       " 206: array([1081850.46900027,   12775.49091823]),\n",
       " 207: array([1082262.58738122,   12839.81676387]),\n",
       " 208: array([1082674.87090685,   12904.16839623]),\n",
       " 209: array([1083087.31964335,   12968.54582564]),\n",
       " 210: array([1083499.93365691,   13032.94906243]),\n",
       " 211: array([1083912.71301376,   13097.37811695]),\n",
       " 212: array([1084325.65778017,   13161.83299954]),\n",
       " 213: array([1084738.76802241,   13226.31372055]),\n",
       " 214: array([1085152.04380681,   13290.82029034]),\n",
       " 215: array([1085565.48519968,   13355.35271927]),\n",
       " 216: array([1085979.09226741,   13419.91101769]),\n",
       " 217: array([1086392.86507637,   13484.49519597]),\n",
       " 218: array([1086806.80369299,   13549.10526449]),\n",
       " 219: array([1087220.9081837 ,   13613.74123362]),\n",
       " 220: array([1087635.17861498,   13678.40311373]),\n",
       " 221: array([1088049.61505333,   13743.09091522]),\n",
       " 222: array([1088464.21756526,   13807.80464846]),\n",
       " 223: array([1088878.98621734,   13872.54432386]),\n",
       " 224: array([1089293.92107612,   13937.3099518 ]),\n",
       " 225: array([1089709.02220822,   14002.10154269]),\n",
       " 226: array([1090124.28968027,   14066.91910693]),\n",
       " 227: array([1090539.72355892,   14131.76265492]),\n",
       " 228: array([1090955.32391086,   14196.63219708]),\n",
       " 229: array([1091371.0908028 ,   14261.52774384]),\n",
       " 230: array([1091787.02430147,   14326.4493056 ]),\n",
       " 231: array([1092203.12447364,   14391.39689279]),\n",
       " 232: array([1092619.39138609,   14456.37051584]),\n",
       " 233: array([1093035.82510565,   14521.37018519]),\n",
       " 234: array([1093452.42569916,   14586.39591127]),\n",
       " 235: array([1093869.19323348,   14651.44770452]),\n",
       " 236: array([1094286.12777553,   14716.52557539]),\n",
       " 237: array([1094703.22939221,   14781.62953433]),\n",
       " 238: array([1095120.49815048,   14846.7595918 ]),\n",
       " 239: array([1095537.93411733,   14911.91575825]),\n",
       " 240: array([1095955.53735975,   14977.09804414]),\n",
       " 241: array([1096373.30794477,   15042.30645994]),\n",
       " 242: array([1096791.24593946,   15107.54101612]),\n",
       " 243: array([1097209.35141089,   15172.80172317]),\n",
       " 244: array([1097627.62442619,   15238.08859154]),\n",
       " 245: array([1098046.06505249,   15303.40163174]),\n",
       " 246: array([1098464.67335695,   15368.74085425]),\n",
       " 247: array([1098883.44940677,   15434.10626955]),\n",
       " 248: array([1099302.39326918,   15499.49788815]),\n",
       " 249: array([1099721.5050114 ,   15564.91572055]),\n",
       " 250: array([1100140.78470073,   15630.35977725]),\n",
       " 251: array([1100560.23240446,   15695.83006876]),\n",
       " 252: array([1100979.84818991,   15761.32660559]),\n",
       " 253: array([1101399.63212445,   15826.84939825]),\n",
       " 254: array([1101819.58427545,   15892.39845728]),\n",
       " 255: array([1102239.70471032,   15957.9737932 ]),\n",
       " 256: array([1102659.9934965 ,   16023.57541653]),\n",
       " 257: array([1103080.45070145,   16089.20333781]),\n",
       " 258: array([1103501.07639266,   16154.85756758]),\n",
       " 259: array([1103921.87063765,   16220.53811638]),\n",
       " 260: array([1104342.83350396,   16286.24499476]),\n",
       " 261: array([1104763.96505916,   16351.97821327]),\n",
       " 262: array([1105185.26537085,   16417.73778246]),\n",
       " 263: array([1105606.73450665,   16483.5237129 ]),\n",
       " 264: array([1106028.37253422,   16549.33601514]),\n",
       " 265: array([1106450.17952123,   16615.17469975]),\n",
       " 266: array([1106872.1555354 ,   16681.03977732]),\n",
       " 267: array([1107294.30064445,   16746.9312584 ]),\n",
       " 268: array([1107716.61491615,   16812.84915359]),\n",
       " 269: array([1108139.09841828,   16878.79347347]),\n",
       " 270: array([1108561.75121866,   16944.76422863]),\n",
       " 271: array([1108984.57338513,   17010.76142965]),\n",
       " 272: array([1109407.56498556,   17076.78508714]),\n",
       " 273: array([1109830.72608784,   17142.83521171]),\n",
       " 274: array([1110254.0567599 ,   17208.91181395]),\n",
       " 275: array([1110677.5570697 ,   17275.01490447]),\n",
       " 276: array([1111101.2270852,   17341.1444939]),\n",
       " 277: array([1111525.06687442,   17407.30059285]),\n",
       " 278: array([1111949.07650539,   17473.48321194]),\n",
       " 279: array([1112373.25604616,   17539.6923618 ]),\n",
       " 280: array([1112797.60556482,   17605.92805306]),\n",
       " 281: array([1113222.12512949,   17672.19029636]),\n",
       " 282: array([1113646.81480832,   17738.47910233]),\n",
       " 283: array([1114071.67466946,   17804.79448163]),\n",
       " 284: array([1114496.70478111,   17871.1364449 ]),\n",
       " 285: array([1114921.90521151,   17937.50500279]),\n",
       " 286: array([1115347.27602889,   18003.90016596]),\n",
       " 287: array([1115772.81730155,   18070.32194507]),\n",
       " 288: array([1116198.52909777,   18136.77035079]),\n",
       " 289: array([1116624.41148591,   18203.24539379]),\n",
       " 290: array([1117050.46453431,   18269.74708474]),\n",
       " 291: array([1117476.68831137,   18336.27543432]),\n",
       " 292: array([1117903.08288549,   18402.83045321]),\n",
       " 293: array([1118329.64832513,   18469.4121521 ]),\n",
       " 294: array([1118756.38469876,   18536.02054169]),\n",
       " 295: array([1119183.29207486,   18602.65563266]),\n",
       " 296: array([1119610.37052197,   18669.31743571]),\n",
       " 297: array([1120037.62010864,   18736.00596156]),\n",
       " 298: array([1120465.04090345,   18802.72122091]),\n",
       " 299: array([1120892.632975  ,   18869.46322447]),\n",
       " 300: array([1121320.39639194,   18936.23198296]),\n",
       " 301: array([1121748.33122291,   19003.0275071 ]),\n",
       " 302: array([1122176.43753662,   19069.84980762]),\n",
       " 303: array([1122604.71540178,   19136.69889524]),\n",
       " 304: array([1123033.16488714,   19203.57478071]),\n",
       " 305: array([1123461.78606146,   19270.47747475]),\n",
       " 306: array([1123890.57899355,   19337.40698812]),\n",
       " 307: array([1124319.54375224,   19404.36333155]),\n",
       " 308: array([1124748.68040637,   19471.34651581]),\n",
       " 309: array([1125177.98902485,   19538.35655164]),\n",
       " 310: array([1125607.46967656,   19605.39344981]),\n",
       " 311: array([1126037.12243046,   19672.45722108]),\n",
       " 312: array([1126466.9473555 ,   19739.54787622]),\n",
       " 313: array([1126896.94452069,   19806.66542601]),\n",
       " 314: array([1127327.11399504,   19873.80988121]),\n",
       " 315: array([1127757.4558476 ,   19940.98125262]),\n",
       " 316: array([1128187.97014744,   20008.17955101]),\n",
       " 317: array([1128618.65696368,   20075.40478719]),\n",
       " 318: array([1129049.51636544,   20142.65697193]),\n",
       " 319: array([1129480.54842188,   20209.93611605]),\n",
       " 320: array([1129911.75320219,   20277.24223034]),\n",
       " 321: array([1130343.13077558,   20344.57532562]),\n",
       " 322: array([1130774.6812113 ,   20411.93541269]),\n",
       " 323: array([1131206.40457862,   20479.32250237]),\n",
       " 324: array([1131638.30094683,   20546.73660549]),\n",
       " 325: array([1132070.37038527,   20614.17773286]),\n",
       " 326: array([1132502.61296327,   20681.64589531]),\n",
       " 327: array([1132935.02875024,   20749.14110369]),\n",
       " 328: array([1133367.61781556,   20816.66336882]),\n",
       " 329: array([1133800.38022869,   20884.21270156]),\n",
       " 330: array([1134233.31605909,   20951.78911274]),\n",
       " 331: array([1134666.42537624,   21019.39261322]),\n",
       " 332: array([1135099.70824967,   21087.02321385]),\n",
       " 333: array([1135533.16474893,   21154.6809255 ]),\n",
       " 334: array([1135966.7949436 ,   21222.36575902]),\n",
       " 335: array([1136400.59890327,   21290.07772528]),\n",
       " 336: array([1136834.57669759,   21357.81683517]),\n",
       " 337: array([1137268.7283962 ,   21425.58309955]),\n",
       " 338: array([1137703.05406881,   21493.37652931]),\n",
       " 339: array([1138137.55378511,   21561.19713533]),\n",
       " 340: array([1138572.22761487,   21629.0449285 ]),\n",
       " 341: array([1139007.07562784,   21696.91991972]),\n",
       " 342: array([1139442.09789384,   21764.82211988]),\n",
       " 343: array([1139877.29448267,   21832.7515399 ]),\n",
       " 344: array([1140312.66546422,   21900.70819067]),\n",
       " 345: array([1140748.21090834,   21968.69208311]),\n",
       " 346: array([1141183.93088497,   22036.70322814]),\n",
       " 347: array([1141619.82546403,   22104.74163668]),\n",
       " 348: array([1142055.89471549,   22172.80731964]),\n",
       " 349: array([1142492.13870935,   22240.90028797]),\n",
       " 350: array([1142928.55751564,   22309.02055259]),\n",
       " 351: array([1143365.1512044 ,   22377.16812445]),\n",
       " 352: array([1143801.91984572,   22445.34301448]),\n",
       " 353: array([1144238.8635097 ,   22513.54523364]),\n",
       " 354: array([1144675.98226648,   22581.77479287]),\n",
       " 355: array([1145113.27618622,   22650.03170313]),\n",
       " 356: array([1145550.74533912,   22718.31597539]),\n",
       " 357: array([1145988.38979539,   22786.6276206 ]),\n",
       " 358: array([1146426.20962529,   22854.96664973]),\n",
       " 359: array([1146864.20489909,   22923.33307376]),\n",
       " 360: array([1147302.37568709,   22991.72690367]),\n",
       " 361: array([1147740.72205963,   23060.14815043]),\n",
       " 362: array([1148179.24408707,   23128.59682504]),\n",
       " 363: array([1148617.9418398 ,   23197.07293849]),\n",
       " 364: array([1149056.81538824,   23265.57650176]),\n",
       " 365: array([1149495.86480282,   23334.10752587]),\n",
       " 366: array([1149935.09015404,   23402.66602182]),\n",
       " 367: array([1150374.49151238,   23471.2520006 ]),\n",
       " 368: array([1150814.06894838,   23539.86547325]),\n",
       " 369: array([1151253.8225326 ,   23608.50645077]),\n",
       " 370: array([1151693.75233562,   23677.17494418]),\n",
       " 371: array([1152133.85842807,   23745.87096452]),\n",
       " 372: array([1152574.14088057,   23814.59452281]),\n",
       " 373: array([1153014.59976382,   23883.34563009]),\n",
       " 374: array([1153455.23514849,   23952.1242974 ]),\n",
       " 375: array([1153896.04710534,   24020.93053578]),\n",
       " 376: array([1154337.0357051 ,   24089.76435628]),\n",
       " 377: array([1154778.20101857,   24158.62576996]),\n",
       " 378: array([1155219.54311656,   24227.51478786]),\n",
       " 379: array([1155661.06206991,   24296.43142106]),\n",
       " 380: array([1156102.75794949,   24365.37568062]),\n",
       " 381: array([1156544.63082621,   24434.3475776 ]),\n",
       " 382: array([1156986.68077098,   24503.34712309]),\n",
       " 383: array([1157428.90785477,   24572.37432816]),\n",
       " 384: array([1157871.31214856,   24641.42920391]),\n",
       " 385: array([1158313.89372335,   24710.5117614 ]),\n",
       " 386: array([1158756.6526502 ,   24779.62201175]),\n",
       " 387: array([1159199.58900017,   24848.75996604]),\n",
       " 388: array([1159642.70284436,   24917.92563538]),\n",
       " 389: array([1160085.99425389,   24987.11903087]),\n",
       " 390: array([1160529.46329992,   25056.34016363]),\n",
       " 391: array([1160973.11005364,   25125.58904477]),\n",
       " 392: array([1161416.93458625,   25194.8656854 ]),\n",
       " 393: array([1161860.936969  ,   25264.17009666]),\n",
       " 394: array([1162305.11727315,   25333.50228967]),\n",
       " 395: array([1162749.47557001,   25402.86227557]),\n",
       " 396: array([1163194.01193089,   25472.25006548]),\n",
       " 397: array([1163638.72642716,   25541.66567056]),\n",
       " 398: array([1164083.6191302 ,   25611.10910195]),\n",
       " 399: array([1164528.69011141,   25680.58037079]),\n",
       " 400: array([1164973.93944224,   25750.07948826]),\n",
       " 401: array([1165419.36719416,   25819.60646549]),\n",
       " 402: array([1165864.97343867,   25889.16131367]),\n",
       " 403: array([1166310.75824729,   25958.74404395]),\n",
       " 404: array([1166756.72169158,   26028.35466752]),\n",
       " 405: array([1167202.86384312,   26097.99319554]),\n",
       " 406: array([1167649.18477353,   26167.6596392 ]),\n",
       " 407: array([1168095.68455444,   26237.35400969]),\n",
       " 408: array([1168542.36325752,   26307.0763182 ]),\n",
       " 409: array([1168989.22095448,   26376.82657592]),\n",
       " 410: array([1169436.25771704,   26446.60479405]),\n",
       " 411: array([1169883.47361696,   26516.4109838 ]),\n",
       " 412: array([1170330.86872602,   26586.24515638]),\n",
       " 413: array([1170778.44311603,   26656.107323  ]),\n",
       " 414: array([1171226.19685885,   26725.99749487]),\n",
       " 415: array([1171674.13002633,   26795.91568323]),\n",
       " 416: array([1172122.24269038,   26865.86189929]),\n",
       " 417: array([1172570.53492293,   26935.83615429]),\n",
       " 418: array([1173019.00679594,   27005.83845947]),\n",
       " 419: array([1173467.65838139,   27075.86882606]),\n",
       " 420: array([1173916.48975129,   27145.92726531]),\n",
       " 421: array([1174365.5009777 ,   27216.01378847]),\n",
       " 422: array([1174814.69213268,   27286.12840679]),\n",
       " 423: array([1175264.06328834,   27356.27113153]),\n",
       " 424: array([1175713.61451681,   27426.44197396]),\n",
       " 425: array([1176163.34589024,   27496.64094534]),\n",
       " 426: array([1176613.25748083,   27566.86805695]),\n",
       " 427: array([1177063.34936079,   27637.12332005]),\n",
       " 428: array([1177513.62160237,   27707.40674594]),\n",
       " 429: array([1177964.07427785,   27777.71834589]),\n",
       " 430: array([1178414.70745953,   27848.0581312 ]),\n",
       " 431: array([1178865.52121974,   27918.42611317]),\n",
       " 432: array([1179316.51563084,   27988.82230308]),\n",
       " 433: array([1179767.69076523,   28059.24671225]),\n",
       " 434: array([1180219.04669533,   28129.69935198]),\n",
       " 435: array([1180670.58349359,   28200.18023358]),\n",
       " 436: array([1181122.30123248,   28270.68936838]),\n",
       " 437: array([1181574.19998451,   28341.2267677 ]),\n",
       " 438: array([1182026.27982222,   28411.79244285]),\n",
       " 439: array([1182478.54081818,   28482.38640518]),\n",
       " 440: array([1182930.98304497,   28553.00866601]),\n",
       " 441: array([1183383.60657523,   28623.65923669]),\n",
       " 442: array([1183836.4114816 ,   28694.33812856]),\n",
       " 443: array([1184289.39783677,   28765.04535297]),\n",
       " 444: array([1184742.56571345,   28835.78092127]),\n",
       " 445: array([1185195.91518438,   28906.54484483]),\n",
       " 446: array([1185649.44632233,   28977.337135  ]),\n",
       " 447: array([1186103.15920009,   29048.15780315]),\n",
       " 448: array([1186557.0538905 ,   29119.00686066]),\n",
       " 449: array([1187011.13046641,   29189.8843189 ]),\n",
       " 450: array([1187465.3890007 ,   29260.79018924]),\n",
       " 451: array([1187919.8295663 ,   29331.72448309]),\n",
       " 452: array([1188374.45223615,   29402.68721182]),\n",
       " 453: array([1188829.25708322,   29473.67838683]),\n",
       " 454: array([1189284.24418051,   29544.69801952]),\n",
       " 455: array([1189739.41360106,   29615.74612129]),\n",
       " 456: array([1190194.76541793,   29686.82270356]),\n",
       " 457: array([1190650.29970421,   29757.92777773]),\n",
       " 458: array([1191106.01653301,   29829.06135523]),\n",
       " 459: array([1191561.9159775 ,   29900.22344747]),\n",
       " 460: array([1192017.99811084,   29971.41406588]),\n",
       " 461: array([1192474.26300624,   30042.63322189]),\n",
       " 462: array([1192930.71073695,   30113.88092694]),\n",
       " 463: array([1193387.34137622,   30185.15719246]),\n",
       " 464: array([1193844.15499737,   30256.46202992]),\n",
       " 465: array([1194301.1516737 ,   30327.79545074]),\n",
       " 466: array([1194758.33147858,   30399.15746639]),\n",
       " 467: array([1195215.69448538,   30470.54808832]),\n",
       " 468: array([1195673.24076753,   30541.96732801]),\n",
       " 469: array([1196130.97039847,   30613.41519691]),\n",
       " 470: array([1196588.88345166,   30684.8917065 ]),\n",
       " 471: array([1197046.98000062,   30756.39686825]),\n",
       " 472: array([1197505.26011886,   30827.93069366]),\n",
       " 473: array([1197963.72387996,   30899.49319419]),\n",
       " 474: array([1198422.37135751,   30971.08438135]),\n",
       " 475: array([1198881.20262511,   31042.70426663]),\n",
       " 476: array([1199340.21775643,   31114.35286154]),\n",
       " 477: array([1199799.41682514,   31186.03017756]),\n",
       " 478: array([1200258.79990495,   31257.73622622]),\n",
       " 479: array([1200718.36706959,   31329.47101903]),\n",
       " 480: array([1201178.11839284,   31401.23456751]),\n",
       " 481: array([1201638.0539485 ,   31473.02688317]),\n",
       " 482: array([1202098.17381038,   31544.84797755]),\n",
       " 483: array([1202558.47805234,   31616.69786218]),\n",
       " 484: array([1203018.96674828,   31688.5765486 ]),\n",
       " 485: array([1203479.6399721 ,   31760.48404835]),\n",
       " 486: array([1203940.49779775,   31832.42037297]),\n",
       " 487: array([1204401.5402992 ,   31904.38553402]),\n",
       " 488: array([1204862.76755046,   31976.37954305]),\n",
       " 489: array([1205324.17962557,   32048.40241162]),\n",
       " 490: array([1205785.77659859,   32120.45415129]),\n",
       " 491: array([1206247.5585436 ,   32192.53477364]),\n",
       " 492: array([1206709.52553474,   32264.64429024]),\n",
       " 493: array([1207171.67764615,   32336.78271267]),\n",
       " 494: array([1207634.01495202,   32408.95005251]),\n",
       " 495: array([1208096.53752656,   32481.14632134]),\n",
       " 496: array([1208559.24544401,   32553.37153077]),\n",
       " 497: array([1209022.13877865,   32625.62569239]),\n",
       " 498: array([1209485.21760477,   32697.9088178 ]),\n",
       " 499: array([1209948.4819967 ,   32770.22091861]),\n",
       " 500: array([1210411.93202881,   32842.56200642]),\n",
       " 501: array([1210875.56777549,   32914.93209286]),\n",
       " 502: array([1211339.38931116,   32987.33118954]),\n",
       " 503: array([1211803.39671026,   33059.7593081 ]),\n",
       " 504: array([1212267.59004729,   33132.21646015]),\n",
       " 505: array([1212731.96939674,   33204.70265734]),\n",
       " 506: array([1213196.53483316,   33277.2179113 ]),\n",
       " 507: array([1213661.28643111,   33349.76223368]),\n",
       " 508: array([1214126.22426521,   33422.33563612]),\n",
       " 509: array([1214591.34841007,   33494.93813028]),\n",
       " 510: array([1215056.65894036,   33567.56972782]),\n",
       " 511: array([1215522.15593076,   33640.2304404 ]),\n",
       " 512: array([1215987.839456  ,   33712.92027968]),\n",
       " 513: array([1216453.70959083,   33785.63925734]),\n",
       " 514: array([1216919.76641001,   33858.38738506]),\n",
       " 515: array([1217386.00998837,   33931.16467451]),\n",
       " 516: array([1217852.44040074,   34003.97113738]),\n",
       " 517: array([1218319.05772199,   34076.80678537]),\n",
       " 518: array([1218785.86202702,   34149.67163016]),\n",
       " 519: array([1219252.85339076,   34222.56568346]),\n",
       " 520: array([1219720.03188817,   34295.48895697]),\n",
       " 521: array([1220187.39759423,   34368.4414624 ]),\n",
       " 522: array([1220654.95058398,   34441.42321146]),\n",
       " 523: array([1221122.69093244,   34514.43421588]),\n",
       " 524: array([1221590.61871471,   34587.47448738]),\n",
       " 525: array([1222058.7340059 ,   34660.54403768]),\n",
       " 526: array([1222527.03688114,   34733.64287852]),\n",
       " 527: array([1222995.5274156 ,   34806.77102163]),\n",
       " 528: array([1223464.20568449,   34879.92847876]),\n",
       " 529: array([1223933.07176303,   34953.11526166]),\n",
       " 530: array([1224402.12572648,   35026.33138207]),\n",
       " 531: array([1224871.36765014,   35099.57685175]),\n",
       " 532: array([1225340.79760932,   35172.85168247]),\n",
       " 533: array([1225810.41567938,   35246.15588598]),\n",
       " 534: array([1226280.22193569,   35319.48947407]),\n",
       " 535: array([1226750.21645366,   35392.8524585 ]),\n",
       " 536: array([1227220.39930875,   35466.24485105]),\n",
       " 537: array([1227690.77057641,   35539.66666351]),\n",
       " 538: array([1228161.33033215,   35613.11790767]),\n",
       " 539: array([1228632.07865151,   35686.59859532]),\n",
       " 540: array([1229103.01561004,   35760.10873826]),\n",
       " 541: array([1229574.14128334,   35833.6483483 ]),\n",
       " 542: array([1230045.45574702,   35907.21743724]),\n",
       " 543: array([1230516.95907675,   35980.81601689]),\n",
       " 544: array([1230988.65134821,   36054.44409908]),\n",
       " 545: array([1231460.53263711,   36128.10169562]),\n",
       " 546: array([1231932.60301919,   36201.78881835]),\n",
       " 547: array([1232404.86257022,   36275.50547909]),\n",
       " 548: array([1232877.31136603,   36349.25168968]),\n",
       " 549: array([1233349.94948242,   36423.02746196]),\n",
       " 550: array([1233822.77699529,   36496.83280779]),\n",
       " 551: array([1234295.79398051,   36570.667739  ]),\n",
       " 552: array([1234769.00051402,   36644.53226746]),\n",
       " 553: array([1235242.39667177,   36718.42640502]),\n",
       " 554: array([1235715.98252975,   36792.35016355]),\n",
       " 555: array([1236189.75816398,   36866.30355493]),\n",
       " 556: array([1236663.72365051,   36940.28659102]),\n",
       " 557: array([1237137.87906541,   37014.2992837 ]),\n",
       " 558: array([1237612.22448479,   37088.34164486]),\n",
       " 559: array([1238086.7599848 ,   37162.41368639]),\n",
       " 560: array([1238561.4856416 ,   37236.51542018]),\n",
       " 561: array([1239036.40153139,   37310.64685813]),\n",
       " 562: array([1239511.50773041,   37384.80801215]),\n",
       " 563: array([1239986.80431491,   37458.99889413]),\n",
       " 564: array([1240462.2913612,   37533.219516 ]),\n",
       " 565: array([1240937.96894558,   37607.46988967]),\n",
       " 566: array([1241413.83714442,   37681.75002706]),\n",
       " 567: array([1241889.8960341 ,   37756.05994011]),\n",
       " 568: array([1242366.14569103,   37830.39964074]),\n",
       " 569: array([1242842.58619166,   37904.76914088]),\n",
       " 570: array([1243319.21761247,   37979.16845249]),\n",
       " 571: array([1243796.04002996,   38053.5975875 ]),\n",
       " 572: array([1244273.05352066,   38128.05655787]),\n",
       " 573: array([1244750.25816116,   38202.54537555]),\n",
       " 574: array([1245227.65402803,   38277.06405251]),\n",
       " 575: array([1245705.24119792,   38351.61260071]),\n",
       " 576: array([1246183.01974749,   38426.19103211]),\n",
       " 577: array([1246660.98975342,   38500.7993587 ]),\n",
       " 578: array([1247139.15129244,   38575.43759246]),\n",
       " 579: array([1247617.50444129,   38650.10574536]),\n",
       " 580: array([1248096.04927676,   38724.80382941]),\n",
       " 581: array([1248574.78587567,   38799.53185658]),\n",
       " 582: array([1249053.71431486,   38874.28983889]),\n",
       " 583: array([1249532.83467121,   38949.07778833]),\n",
       " 584: array([1250012.14702161,   39023.89571691]),\n",
       " 585: array([1250491.65144301,   39098.74363666]),\n",
       " 586: array([1250971.34801237,   39173.62155957]),\n",
       " 587: array([1251451.2368067 ,   39248.52949769]),\n",
       " 588: array([1251931.31790303,   39323.46746303]),\n",
       " 589: array([1252411.5913784 ,   39398.43546763]),\n",
       " 590: array([1252892.05730992,   39473.43352353]),\n",
       " 591: array([1253372.7157747 ,   39548.46164277]),\n",
       " 592: array([1253853.56684991,   39623.51983739]),\n",
       " 593: array([1254334.61061271,   39698.60811945]),\n",
       " 594: array([1254815.84714034,   39773.726501  ]),\n",
       " 595: array([1255297.27651003,   39848.87499411]),\n",
       " 596: array([1255778.89879906,   39924.05361084]),\n",
       " 597: array([1256260.71408473,   39999.26236327]),\n",
       " 598: array([1256742.72244439,   40074.50126347]),\n",
       " 599: array([1257224.92395541,   40149.77032352]),\n",
       " 600: array([1257707.31869519,   40225.0695555 ]),\n",
       " 601: array([1258189.90674115,   40300.39897151]),\n",
       " 602: array([1258672.68817076,   40375.75858365]),\n",
       " 603: array([1259155.66306152,   40451.14840401]),\n",
       " 604: array([1259638.83149095,   40526.5684447 ]),\n",
       " 605: array([1260122.1935366 ,   40602.01871782]),\n",
       " 606: array([1260605.74927607,   40677.4992355 ]),\n",
       " 607: array([1261089.49878696,   40753.01000985]),\n",
       " 608: array([1261573.44214693,   40828.55105301]),\n",
       " 609: array([1262057.57943367,   40904.12237708]),\n",
       " 610: array([1262541.91072487,   40979.72399422]),\n",
       " 611: array([1263026.43609829,   41055.35591657]),\n",
       " 612: array([1263511.15563169,   41131.01815625]),\n",
       " 613: array([1263996.06940288,   41206.71072543]),\n",
       " 614: array([1264481.17748971,   41282.43363626]),\n",
       " 615: array([1264966.47997002,   41358.18690089]),\n",
       " 616: array([1265451.97692173,   41433.9705315 ]),\n",
       " 617: array([1265937.66842276,   41509.78454024]),\n",
       " 618: array([1266423.55455108,   41585.62893929]),\n",
       " 619: array([1266909.63538467,   41661.50374084]),\n",
       " 620: array([1267395.91100156,   41737.40895706]),\n",
       " 621: array([1267882.3814798 ,   41813.34460013]),\n",
       " 622: array([1268369.04689748,   41889.31068226]),\n",
       " 623: array([1268855.90733272,   41965.30721565]),\n",
       " 624: array([1269342.96286366,   42041.33421248]),\n",
       " 625: array([1269830.21356849,   42117.39168498]),\n",
       " 626: array([1270317.65952541,   42193.47964535]),\n",
       " 627: array([1270805.30081267,   42269.59810581]),\n",
       " 628: array([1271293.13750854,   42345.74707859]),\n",
       " 629: array([1271781.16969133,   42421.92657591]),\n",
       " 630: array([1272269.39743937,   42498.13660999]),\n",
       " 631: array([1272757.82083104,   42574.37719309]),\n",
       " 632: array([1273246.43994472,   42650.64833744]),\n",
       " 633: array([1273735.25485886,   42726.95005528]),\n",
       " 634: array([1274224.26565191,   42803.28235888]),\n",
       " 635: array([1274713.47240236,   42879.64526048]),\n",
       " 636: array([1275202.87518875,   42956.03877234]),\n",
       " 637: array([1275692.47408963,   43032.46290674]),\n",
       " 638: array([1276182.26918358,   43108.91767595]),\n",
       " 639: array([1276672.26054923,   43185.40309223]),\n",
       " 640: array([1277162.44826523,   43261.91916788]),\n",
       " 641: array([1277652.83241025,   43338.46591517]),\n",
       " 642: array([1278143.41306302,   43415.0433464 ]),\n",
       " 643: array([1278634.19030228,   43491.65147387]),\n",
       " 644: array([1279125.16420681,   43568.29030987]),\n",
       " 645: array([1279616.33485541,   43644.95986672]),\n",
       " 646: array([1280107.70232693,   43721.66015671]),\n",
       " 647: array([1280599.26670024,   43798.39119217]),\n",
       " 648: array([1281091.02805423,   43875.15298542]),\n",
       " 649: array([1281582.98646785,   43951.94554878]),\n",
       " 650: array([1282075.14202007,   44028.76889458]),\n",
       " 651: array([1282567.49478987,   44105.62303517]),\n",
       " 652: array([1283060.0448563 ,   44182.50798287]),\n",
       " 653: array([1283552.79229841,   44259.42375004]),\n",
       " 654: array([1284045.7371953 ,   44336.37034902]),\n",
       " 655: array([1284538.87962609,   44413.34779216]),\n",
       " 656: array([1285032.21966993,   44490.35609184]),\n",
       " 657: array([1285525.75740602,   44567.39526042]),\n",
       " 658: array([1286019.49291358,   44644.46531025]),\n",
       " 659: array([1286513.42627186,   44721.56625373]),\n",
       " 660: array([1287007.55756015,   44798.69810322]),\n",
       " 661: array([1287501.88685775,   44875.86087112]),\n",
       " 662: array([1287996.41424401,   44953.05456981]),\n",
       " 663: array([1288491.13979832,   45030.27921169]),\n",
       " 664: array([1288986.06360009,   45107.53480916]),\n",
       " 665: array([1289481.18572875,   45184.82137462]),\n",
       " 666: array([1289976.50626379,   45262.13892049]),\n",
       " 667: array([1290472.02528471,   45339.48745917]),\n",
       " 668: array([1290967.74287104,   45416.86700309]),\n",
       " 669: array([1291463.65910237,   45494.27756466]),\n",
       " 670: array([1291959.77405828,   45571.71915633]),\n",
       " 671: array([1292456.08781842,   45649.19179053]),\n",
       " 672: array([1292952.60046244,   45726.69547969]),\n",
       " 673: array([1293449.31207006,   45804.23023626]),\n",
       " 674: array([1293946.22272099,   45881.79607268]),\n",
       " 675: array([1294443.332495  ,   45959.39300142]),\n",
       " 676: array([1294940.64147188,   46037.02103494]),\n",
       " 677: array([1295438.14973146,   46114.68018569]),\n",
       " 678: array([1295935.8573536 ,   46192.37046615]),\n",
       " 679: array([1296433.76441818,   46270.09188878]),\n",
       " 680: array([1296931.87100513,   46347.84446608]),\n",
       " 681: array([1297430.1771944 ,   46425.62821053]),\n",
       " 682: array([1297928.68306597,   46503.44313461]),\n",
       " 683: array([1298427.38869987,   46581.28925082]),\n",
       " 684: array([1298926.29417615,   46659.16657165]),\n",
       " 685: array([1299425.39957487,   46737.07510962]),\n",
       " 686: array([1299924.70497617,   46815.01487723]),\n",
       " 687: array([1300424.21046019,   46892.985887  ]),\n",
       " 688: array([1300923.91610709,   46970.98815145]),\n",
       " 689: array([1301423.8219971,   47049.0216831]),\n",
       " 690: array([1301923.92821046,   47127.08649447]),\n",
       " 691: array([1302424.23482744,   47205.18259812]),\n",
       " 692: array([1302924.74192835,   47283.31000656]),\n",
       " 693: array([1303425.44959352,   47361.46873236]),\n",
       " 694: array([1303926.35790333,   47439.65878806]),\n",
       " 695: array([1304427.46693819,   47517.88018621]),\n",
       " 696: array([1304928.77677852,   47596.13293937]),\n",
       " 697: array([1305430.28750479,   47674.41706011]),\n",
       " 698: array([1305931.99919751,   47752.732561  ]),\n",
       " 699: array([1306433.91193721,   47831.07945461]),\n",
       " 700: array([1306936.02580445,   47909.45775353]),\n",
       " 701: array([1307438.34087982,   47987.86747033]),\n",
       " 702: array([1307940.85724397,   48066.30861761]),\n",
       " 703: array([1308443.57497754,   48144.78120796]),\n",
       " 704: array([1308946.49416124,   48223.28525399]),\n",
       " 705: array([1309449.61487578,   48301.82076829]),\n",
       " 706: array([1309952.93720194,   48380.38776348]),\n",
       " 707: array([1310456.46122049,   48458.98625217]),\n",
       " 708: array([1310960.18701226,   48537.61624699]),\n",
       " 709: array([1311464.11465811,   48616.27776056]),\n",
       " 710: array([1311968.24423893,   48694.9708055 ]),\n",
       " 711: array([1312472.57583563,   48773.69539446]),\n",
       " 712: array([1312977.10952917,   48852.45154007]),\n",
       " 713: array([1313481.84540053,   48931.23925499]),\n",
       " 714: array([1313986.78353074,   49010.05855185]),\n",
       " 715: array([1314491.92400084,   49088.90944332]),\n",
       " 716: array([1314997.26689191,   49167.79194206]),\n",
       " 717: array([1315502.81228507,   49246.70606073]),\n",
       " 718: array([1316008.56026147,   49325.65181201]),\n",
       " 719: array([1316514.51090228,   49404.62920856]),\n",
       " 720: array([1317020.66428873,   49483.63826308]),\n",
       " 721: array([1317527.02050205,   49562.67898824]),\n",
       " 722: array([1318033.57962352,   49641.75139675]),\n",
       " 723: array([1318540.34173446,   49720.85550129]),\n",
       " 724: array([1319047.30691621,   49799.99131456]),\n",
       " 725: array([1319554.47525014,   49879.15884928]),\n",
       " 726: array([1320061.84681765,   49958.35811815]),\n",
       " 727: array([1320569.4217002 ,   50037.58913389]),\n",
       " 728: array([1321077.19997926,   50116.85190923]),\n",
       " 729: array([1321585.18173632,   50196.14645688]),\n",
       " 730: array([1322093.36705294,   50275.47278959]),\n",
       " 731: array([1322601.75601067,   50354.83092008]),\n",
       " 732: array([1323110.34869113,   50434.22086111]),\n",
       " 733: array([1323619.14517595,   50513.64262541]),\n",
       " 734: array([1324128.14554681,   50593.09622575]),\n",
       " 735: array([1324637.3498854 ,   50672.58167487]),\n",
       " 736: array([1325146.75827345,   50752.09898554]),\n",
       " 737: array([1325656.37079274,   50831.64817054]),\n",
       " 738: array([1326166.18752507,   50911.22924262]),\n",
       " 739: array([1326676.20855227,   50990.84221457]),\n",
       " 740: array([1327186.43395621,   51070.48709918]),\n",
       " 741: array([1327696.86381878,   51150.16390922]),\n",
       " 742: array([1328207.49822192,   51229.8726575 ]),\n",
       " 743: array([1328718.33724759,   51309.61335681]),\n",
       " 744: array([1329229.38097779,   51389.38601996]),\n",
       " 745: array([1329740.62949455,   51469.19065975]),\n",
       " 746: array([1330252.08287993,   51549.027289  ]),\n",
       " 747: array([1330763.74121603,   51628.89592053]),\n",
       " 748: array([1331275.60458498,   51708.79656716]),\n",
       " 749: array([1331787.67306893,   51788.72924172]),\n",
       " 750: array([1332299.94675009,   51868.69395705]),\n",
       " 751: array([1332812.42571068,   51948.69072598]),\n",
       " 752: array([1333325.11003297,   52028.71956136]),\n",
       " 753: array([1333837.99979924,   52108.78047604]),\n",
       " 754: array([1334351.09509182,   52188.87348287]),\n",
       " 755: array([1334864.39599307,   52268.99859472]),\n",
       " 756: array([1335377.90258539,   52349.15582445]),\n",
       " 757: array([1335891.6149512 ,   52429.34518492]),\n",
       " 758: array([1336405.53317295,   52509.56668903]),\n",
       " 759: array([1336919.65733315,   52589.82034964]),\n",
       " 760: array([1337433.98751431,   52670.10617964]),\n",
       " 761: array([1337948.52379899,   52750.42419193]),\n",
       " 762: array([1338463.26626979,   52830.77439939]),\n",
       " 763: array([1338978.21500933,   52911.15681494]),\n",
       " 764: array([1339493.37010026,   52991.57145148]),\n",
       " 765: array([1340008.73162527,   53072.01832191]),\n",
       " 766: array([1340524.2996671 ,   53152.49743916]),\n",
       " 767: array([1341040.07430849,   53233.00881615]),\n",
       " 768: array([1341556.05563223,   53313.55246581]),\n",
       " 769: array([1342072.24372115,   53394.12840106]),\n",
       " 770: array([1342588.6386581 ,   53474.73663485]),\n",
       " 771: array([1343105.24052598,   53555.37718012]),\n",
       " 772: array([1343622.0494077 ,   53636.05004982]),\n",
       " 773: array([1344139.06538622,   53716.7552569 ]),\n",
       " 774: array([1344656.28854453,   53797.49281431]),\n",
       " 775: array([1345173.71896565,   53878.26273503]),\n",
       " 776: array([1345691.35673264,   53959.06503202]),\n",
       " 777: array([1346209.20192858,   54039.89971825]),\n",
       " 778: array([1346727.2546366 ,   54120.76680671]),\n",
       " 779: array([1347245.51493986,   54201.66631037]),\n",
       " 780: array([1347763.98292153,   54282.59824224]),\n",
       " 781: array([1348282.65866485,   54363.56261529]),\n",
       " 782: array([1348801.54225307,   54444.55944254]),\n",
       " 783: array([1349320.63376948,   54525.58873699]),\n",
       " 784: array([1349839.93329739,   54606.65051165]),\n",
       " 785: array([1350359.44092017,   54687.74477953]),\n",
       " 786: array([1350879.15672121,   54768.87155365]),\n",
       " 787: array([1351399.08078392,   54850.03084705]),\n",
       " 788: array([1351919.21319176,   54931.22267275]),\n",
       " 789: array([1352439.55402822,   55012.44704379]),\n",
       " 790: array([1352960.10337683,   55093.70397321]),\n",
       " 791: array([1353480.86132114,   55174.99347406]),\n",
       " 792: array([1354001.82794473,   55256.31555938]),\n",
       " 793: array([1354523.00333124,   55337.67024225]),\n",
       " 794: array([1355044.38756432,   55419.05753571]),\n",
       " 795: array([1355565.98072765,   55500.47745284]),\n",
       " 796: array([1356087.78290497,   55581.93000671]),\n",
       " 797: array([1356609.79418003,   55663.41521041]),\n",
       " 798: array([1357132.01463662,   55744.933077  ]),\n",
       " 799: array([1357654.44435856,   55826.48361959]),\n",
       " 800: array([1358177.08342971,   55908.06685126]),\n",
       " 801: array([1358699.93193397,   55989.68278512]),\n",
       " 802: array([1359222.98995526,   56071.33143427]),\n",
       " 803: array([1359746.25757754,   56153.01281181]),\n",
       " 804: array([1360269.73488479,   56234.72693088]),\n",
       " 805: array([1360793.42196106,   56316.47380457]),\n",
       " 806: array([1361317.31889038,   56398.25344603]),\n",
       " 807: array([1361841.42575687,   56480.06586838]),\n",
       " 808: array([1362365.74264465,   56561.91108476]),\n",
       " 809: array([1362890.26963787,   56643.7891083 ]),\n",
       " 810: array([1363415.00682073,   56725.69995217]),\n",
       " 811: array([1363939.95427747,   56807.6436295 ]),\n",
       " 812: array([1364465.11209233,   56889.62015345]),\n",
       " 813: array([1364990.48034963,   56971.62953719]),\n",
       " 814: array([1365516.05913368,   57053.67179389]),\n",
       " 815: array([1366041.84852885,   57135.74693672]),\n",
       " 816: array([1366567.84861954,   57217.85497885]),\n",
       " 817: array([1367094.05949018,   57299.99593347]),\n",
       " 818: array([1367620.48122523,   57382.16981377]),\n",
       " 819: array([1368147.1139092 ,   57464.37663295]),\n",
       " 820: array([1368673.95762661,   57546.61640419]),\n",
       " 821: array([1369201.01246203,   57628.88914072]),\n",
       " 822: array([1369728.27850007,   57711.19485573]),\n",
       " 823: array([1370255.75582535,   57793.53356244]),\n",
       " 824: array([1370783.44452254,   57875.90527408]),\n",
       " 825: array([1371311.34467635,   57958.31000387]),\n",
       " 826: array([1371839.45637152,   58040.74776503]),\n",
       " 827: array([1372367.7796928 ,   58123.21857082]),\n",
       " 828: array([1372896.31472501,   58205.72243446]),\n",
       " 829: array([1373425.06155299,   58288.25936921]),\n",
       " 830: array([1373954.0202616 ,   58370.82938831]),\n",
       " 831: array([1374483.19093575,   58453.43250503]),\n",
       " 832: array([1375012.57366039,   58536.06873263]),\n",
       " 833: array([1375542.16852047,   58618.73808438]),\n",
       " 834: array([1376071.97560103,   58701.44057355]),\n",
       " 835: array([1376601.99498709,   58784.17621342]),\n",
       " 836: array([1377132.22676373,   58866.94501727]),\n",
       " 837: array([1377662.67101606,   58949.7469984 ]),\n",
       " 838: array([1378193.32782923,   59032.5821701 ]),\n",
       " 839: array([1378724.19728841,   59115.45054566]),\n",
       " 840: array([1379255.27947883,   59198.35213841]),\n",
       " 841: array([1379786.57448571,   59281.28696163]),\n",
       " 842: array([1380318.08239435,   59364.25502866]),\n",
       " 843: array([1380849.80329006,   59447.25635281]),\n",
       " 844: array([1381381.7372582 ,   59530.29094742]),\n",
       " 845: array([1381913.88438413,   59613.3588258 ]),\n",
       " 846: array([1382446.24475328,   59696.46000131]),\n",
       " 847: array([1382978.81845111,   59779.59448728]),\n",
       " 848: array([1383511.6055631 ,   59862.76229706]),\n",
       " 849: array([1384044.60617476,   59945.96344401]),\n",
       " 850: array([1384577.82037166,   60029.19794149]),\n",
       " 851: array([1385111.24823938,   60112.46580285]),\n",
       " 852: array([1385644.88986355,   60195.76704147]),\n",
       " 853: array([1386178.74532982,   60279.10167073]),\n",
       " 854: array([1386712.81472389,   60362.469704  ]),\n",
       " 855: array([1387247.09813148,   60445.87115467]),\n",
       " 856: array([1387781.59563835,   60529.30603613]),\n",
       " 857: array([1388316.3073303 ,   60612.77436178]),\n",
       " 858: array([1388851.23329316,   60696.27614502]),\n",
       " 859: array([1389386.37361279,   60779.81139926]),\n",
       " 860: array([1389921.72837508,   60863.38013791]),\n",
       " 861: array([1390457.29766598,   60946.98237438]),\n",
       " 862: array([1390993.08157145,   61030.61812211]),\n",
       " 863: array([1391529.08017748,   61114.28739452]),\n",
       " 864: array([1392065.29357012,   61197.99020504]),\n",
       " 865: array([1392601.72183544,   61281.72656712]),\n",
       " 866: array([1393138.36505954,   61365.49649419]),\n",
       " 867: array([1393675.22332855,   61449.29999972]),\n",
       " 868: array([1394212.29672867,   61533.13709715]),\n",
       " 869: array([1394749.58534608,   61617.00779994]),\n",
       " 870: array([1395287.08926704,   61700.91212157]),\n",
       " 871: array([1395824.80857783,   61784.85007551]),\n",
       " 872: array([1396362.74336475,   61868.82167522]),\n",
       " 873: array([1396900.89371415,   61952.8269342 ]),\n",
       " 874: array([1397439.25971241,   62036.86586594]),\n",
       " 875: array([1397977.84144596,   62120.93848392]),\n",
       " 876: array([1398516.63900123,   62205.04480164]),\n",
       " 877: array([1399055.65246472,   62289.18483262]),\n",
       " 878: array([1399594.88192294,   62373.35859035]),\n",
       " 879: array([1400134.32746246,   62457.56608836]),\n",
       " 880: array([1400673.98916985,   62541.80734016]),\n",
       " 881: array([1401213.86713174,   62626.08235929]),\n",
       " 882: array([1401753.9614348 ,   62710.39115927]),\n",
       " 883: array([1402294.27216571,   62794.73375363]),\n",
       " 884: array([1402834.7994112 ,   62879.11015593]),\n",
       " 885: array([1403375.54325804,   62963.52037971]),\n",
       " 886: array([1403916.50379302,   63047.96443852]),\n",
       " 887: array([1404457.68110297,   63132.44234592]),\n",
       " 888: array([1404999.07527477,   63216.95411548]),\n",
       " 889: array([1405540.68639532,   63301.49976076]),\n",
       " 890: array([1406082.51455154,   63386.07929534]),\n",
       " 891: array([1406624.55983042,   63470.6927328 ]),\n",
       " 892: array([1407166.82231896,   63555.34008672]),\n",
       " 893: array([1407709.3021042 ,   63640.02137071]),\n",
       " 894: array([1408251.99927321,   63724.73659834]),\n",
       " 895: array([1408794.91391312,   63809.48578323]),\n",
       " 896: array([1409338.04611105,   63894.26893898]),\n",
       " 897: array([1409881.39595421,   63979.08607921]),\n",
       " 898: array([1410424.96352979,   64063.93721753]),\n",
       " 899: array([1410968.74892506,   64148.82236758]),\n",
       " 900: array([1411512.75222729,   64233.74154296]),\n",
       " 901: array([1412056.97352382,   64318.69475733]),\n",
       " 902: array([1412601.41290199,   64403.68202433]),\n",
       " 903: array([1413146.07044919,   64488.70335759]),\n",
       " 904: array([1413690.94625286,   64573.75877077]),\n",
       " 905: array([1414236.04040044,   64658.84827753]),\n",
       " 906: array([1414781.35297945,   64743.97189152]),\n",
       " 907: array([1415326.8840774 ,   64829.12962642]),\n",
       " 908: array([1415872.63378187,   64914.32149591]),\n",
       " 909: array([1416418.60218046,   64999.54751364]),\n",
       " 910: array([1416964.7893608 ,   65084.80769332]),\n",
       " 911: array([1417511.19541056,   65170.10204864]),\n",
       " 912: array([1418057.82041745,   65255.43059327]),\n",
       " 913: array([1418604.66446921,   65340.79334094]),\n",
       " 914: array([1419151.72765362,   65426.19030534]),\n",
       " 915: array([1419699.01005849,   65511.62150018]),\n",
       " 916: array([1420246.51177167,   65597.08693918]),\n",
       " 917: array([1420794.23288104,   65682.58663607]),\n",
       " 918: array([1421342.17347452,   65768.12060457]),\n",
       " 919: array([1421890.33364006,   65853.68885841]),\n",
       " 920: array([1422438.71346565,   65939.29141134]),\n",
       " 921: array([1422987.3130393,   66024.9282771]),\n",
       " 922: array([1423536.13244909,   66110.59946944]),\n",
       " 923: array([1424085.1717831 ,   66196.30500211]),\n",
       " 924: array([1424634.43112947,   66282.04488887]),\n",
       " 925: array([1425183.91057635,   66367.8191435 ]),\n",
       " 926: array([1425733.61021196,   66453.62777977]),\n",
       " 927: array([1426283.53012451,   66539.47081144]),\n",
       " 928: array([1426833.67040229,   66625.34825231]),\n",
       " 929: array([1427384.0311336 ,   66711.26011616]),\n",
       " 930: array([1427934.61240677,   66797.20641679]),\n",
       " 931: array([1428485.4143102,   66883.187168 ]),\n",
       " 932: array([1429036.43693228,   66969.20238359]),\n",
       " 933: array([1429587.68036147,   67055.25207738]),\n",
       " 934: array([1430139.14468625,   67141.33626317]),\n",
       " 935: array([1430690.82999514,   67227.45495479]),\n",
       " 936: array([1431242.73637669,   67313.60816608]),\n",
       " 937: array([1431794.8639195 ,   67399.79591085]),\n",
       " 938: array([1432347.21271217,   67486.01820296]),\n",
       " 939: array([1432899.78284339,   67572.27505624]),\n",
       " 940: array([1433452.57440184,   67658.56648454]),\n",
       " 941: array([1434005.58747625,   67744.89250172]),\n",
       " 942: array([1434558.82215539,   67831.25312165]),\n",
       " 943: array([1435112.27852807,   67917.64835817]),\n",
       " 944: array([1435665.95668312,   68004.07822518]),\n",
       " 945: array([1436219.85670941,   68090.54273653]),\n",
       " 946: array([1436773.97869586,   68177.04190613]),\n",
       " 947: array([1437328.32273141,   68263.57574785]),\n",
       " 948: array([1437882.88890504,   68350.14427559]),\n",
       " 949: array([1438437.67730577,   68436.74750326]),\n",
       " 950: array([1438992.68802265,   68523.38544474]),\n",
       " 951: array([1439547.92114476,   68610.05811396]),\n",
       " 952: array([1440103.37676123,   68696.76552484]),\n",
       " 953: array([1440659.05496123,   68783.50769128]),\n",
       " 954: array([1441214.95583393,   68870.28462723]),\n",
       " 955: array([1441771.07946858,   68957.09634661]),\n",
       " 956: array([1442327.42595444,   69043.94286336]),\n",
       " 957: array([1442883.99538082,   69130.82419143]),\n",
       " 958: array([1443440.78783704,   69217.74034477]),\n",
       " 959: array([1443997.80341249,   69304.69133733]),\n",
       " 960: array([1444555.04219658,   69391.67718307]),\n",
       " 961: array([1445112.50427874,   69478.69789596]),\n",
       " 962: array([1445670.18974846,   69565.75348997]),\n",
       " 963: array([1446228.09869527,   69652.84397909]),\n",
       " 964: array([1446786.2312087 ,   69739.96937728]),\n",
       " 965: array([1447344.58737835,   69827.12969855]),\n",
       " 966: array([1447903.16729384,   69914.32495688]),\n",
       " 967: array([1448461.97104484,   70001.55516628]),\n",
       " 968: array([1449020.99872104,   70088.82034075]),\n",
       " 969: array([1449580.25041217,   70176.1204943 ]),\n",
       " 970: array([1450139.72620801,   70263.45564095]),\n",
       " 971: array([1450699.42619835,   70350.82579473]),\n",
       " 972: array([1451259.35047304,   70438.23096966]),\n",
       " 973: array([1451819.49912195,   70525.67117977]),\n",
       " 974: array([1452379.87223499,   70613.14643911]),\n",
       " 975: array([1452940.46990212,   70700.65676172]),\n",
       " 976: array([1453501.29221332,   70788.20216165]),\n",
       " 977: array([1454062.3392586 ,   70875.78265295]),\n",
       " 978: array([1454623.61112804,   70963.39824969]),\n",
       " 979: array([1455185.1079117 ,   71051.04896595]),\n",
       " 980: array([1455746.82969974,   71138.73481578]),\n",
       " 981: array([1456308.77658231,   71226.45581326]),\n",
       " 982: array([1456870.94864961,   71314.2119725 ]),\n",
       " 983: array([1457433.34599188,   71402.00330756]),\n",
       " 984: array([1457995.96869939,   71489.82983256]),\n",
       " 985: array([1458558.81686246,   71577.69156158]),\n",
       " 986: array([1459121.89057143,   71665.58850875]),\n",
       " 987: array([1459685.18991667,   71753.52068816]),\n",
       " 988: array([1460248.71498862,   71841.48811394]),\n",
       " 989: array([1460812.46587771,   71929.49080022]),\n",
       " 990: array([1461376.44267445,   72017.52876112]),\n",
       " 991: array([1461940.64546937,   72105.60201078]),\n",
       " 992: array([1462505.07435301,   72193.71056334]),\n",
       " 993: array([1463069.72941599,   72281.85443294]),\n",
       " 994: array([1463634.61074893,   72370.03363374]),\n",
       " 995: array([1464199.71844252,   72458.2481799 ]),\n",
       " 996: array([1464765.05258746,   72546.49808558]),\n",
       " 997: array([1465330.61327449,   72634.78336496]),\n",
       " 998: array([1465896.4005944 ,   72723.10403219]),\n",
       " 999: array([1466462.41463799,   72811.46010147]),\n",
       " ...}"
      ]
     },
     "execution_count": 251,
     "metadata": {},
     "output_type": "execute_result"
    }
   ],
   "source": [
    "def regresion_lineal(vectorX, vectorY, epochs, imprimirErrorCada, lr):\n",
    "    \n",
    "    unos = np.ones_like(vectorX)\n",
    "    m = 1000000\n",
    "    b = 0\n",
    "    listaE = []\n",
    "    resultado = {}\n",
    "\n",
    "    # Generar Matriz\n",
    "    matriz1 = np.array([vectorX, unos])\n",
    "    matriz = matriz1.transpose()\n",
    "\n",
    "    # Vector con los parametros m,b\n",
    "    vectorP = np.array((m, b))\n",
    "\n",
    "    for i in range(epochs+1):\n",
    "    \n",
    "        yhat = np.dot(matriz, vectorP)\n",
    "\n",
    "        dif = vectorY - yhat\n",
    "\n",
    "        error = (np.sum((dif)**2) / len(yhat)) / 2\n",
    "\n",
    "        # Vector del error\n",
    "        vectorE = listaE.append(error) \n",
    "    \n",
    "        if i % imprimirErrorCada == 0:\n",
    "            print(error)\n",
    "\n",
    "        # Gradiente del error \n",
    "\n",
    "        matrizG = np.array((matriz[:,0]*dif,matriz[:,1]*dif)).transpose()\n",
    "\n",
    "        vectorG = np.array((np.sum(matrizG[:,0]) / len(matrizG), np.sum(matrizG[:,1]) / len(matrizG)))\n",
    "\n",
    "        # Actualizar parametros m,b\n",
    "\n",
    "        vectorP = vectorP - lr * vectorG\n",
    "        \n",
    "        resultado[i] = vectorP\n",
    "    \n",
    "    vectorE = np.asarray(listaE)\n",
    "    \n",
    "    return resultado\n",
    "\n",
    "regresion_lineal(vectorX1, train[:,0], 10000, 1000, 0.00001)\n"
   ]
  },
  {
   "cell_type": "markdown",
   "metadata": {},
   "source": [
    "## Función Grafico para el Error"
   ]
  },
  {
   "cell_type": "code",
   "execution_count": 250,
   "metadata": {},
   "outputs": [
    {
     "data": {
      "image/png": "[encoded data removed]",
      "text/plain": [
       "<Figure size 432x288 with 1 Axes>"
      ]
     },
     "metadata": {
      "needs_background": "light"
     },
     "output_type": "display_data"
    }
   ],
   "source": [
    "def grafico_error(vectorX, vectorY, epochs, imprimirErrorCada, lr):\n",
    "    \n",
    "    unos = np.ones_like(vectorX)\n",
    "    m = 1000000\n",
    "    b = 0\n",
    "    listaE = []\n",
    "    resultado = {}\n",
    "\n",
    "    # Generar Matriz\n",
    "    matriz1 = np.array([vectorX, unos])\n",
    "    matriz = matriz1.transpose()\n",
    "\n",
    "    # Vector con los parametros m,b\n",
    "    vectorP = np.array((m, b))\n",
    "\n",
    "    for i in range(epochs+1):\n",
    "    \n",
    "        yhat = np.dot(matriz, vectorP)\n",
    "\n",
    "        dif = vectorY - yhat\n",
    "\n",
    "        error = (np.sum((dif)**2) / len(yhat)) / 2\n",
    "\n",
    "        # Vector del error\n",
    "        vectorE = listaE.append(error) \n",
    "    \n",
    "        # Gradiente del error \n",
    "\n",
    "        matrizG = np.array((matriz[:,0]*dif,matriz[:,1]*dif)).transpose()\n",
    "\n",
    "        vectorG = np.array((np.sum(matrizG[:,0]) / len(matrizG), np.sum(matrizG[:,1]) / len(matrizG)))\n",
    "\n",
    "        # Actualizar parametros m,b\n",
    "\n",
    "        vectorP = vectorP - lr * vectorG\n",
    "        \n",
    "        resultado[i] = vectorP\n",
    "    \n",
    "    vectorE = np.asarray(listaE)\n",
    "    \n",
    "    \n",
    "    # Grafica\n",
    "    x = np.arange(0, epochs+1,1)\n",
    "    y = vectorE\n",
    "\n",
    "    plt.plot(x,y)\n",
    "\n",
    "    plt.xlabel('Iteracion')\n",
    "    plt.ylabel('Error')\n",
    "    plt.title('Grafica del Error por Iteracion')\n",
    "    \n",
    "    return plt.show()\n",
    "\n",
    "\n",
    "grafico_error(vectorX1, train[:,0], 10000, 1000, 0.00001)\n"
   ]
  },
  {
   "cell_type": "markdown",
   "metadata": {},
   "source": [
    "## Función Grafico Evolucion del Modelo"
   ]
  },
  {
   "cell_type": "code",
   "execution_count": 334,
   "metadata": {},
   "outputs": [
    {
     "name": "stdout",
     "output_type": "stream",
     "text": [
      "18391393555101.164\n",
      "40982137355205.99\n",
      "91323649601499.86\n",
      "203505341347867.5\n",
      "453492507130710.9\n",
      "1010567214184376.5\n",
      "2251959860442752.5\n",
      "5018295654767241.0\n",
      "1.1182834932601744e+16\n",
      "2.491997580544274e+16\n",
      "5.5532002245014456e+16\n"
     ]
    },
    {
     "data": {
      "image/png": "[encoded data removed]",
      "text/plain": [
       "<Figure size 432x288 with 1 Axes>"
      ]
     },
     "metadata": {
      "needs_background": "light"
     },
     "output_type": "display_data"
    },
    {
     "data": {
      "image/png": "[encoded data removed]",
      "text/plain": [
       "<Figure size 432x288 with 1 Axes>"
      ]
     },
     "metadata": {
      "needs_background": "light"
     },
     "output_type": "display_data"
    },
    {
     "data": {
      "image/png": "[encoded data removed]",
      "text/plain": [
       "<Figure size 432x288 with 1 Axes>"
      ]
     },
     "metadata": {
      "needs_background": "light"
     },
     "output_type": "display_data"
    }
   ],
   "source": [
    "def grafico_evolucion(estructura_datos, n, vectorx, vectory, epochs):\n",
    "    \n",
    "    x = vectorx\n",
    "    dic = estructura_datos\n",
    "\n",
    "    for i in range (epochs+1):\n",
    "        vector = dic[i]\n",
    "        m = vector[0]\n",
    "        b = vector[1]\n",
    "        y = m * x + b\n",
    "\n",
    "        if i % n == 0:\n",
    "            plt.plot(x,y)\n",
    "            plt.scatter(vectorx, vectory,marker=\"o\",color=\"r\")\n",
    "            plt.xlabel('x')\n",
    "            plt.ylabel('y')\n",
    "            plt.xlim(0,np.max(x))\n",
    "            plt.ylim(0,np.max(y))\n",
    "            plt.title('Evolucion del Modelo')\n",
    "            plt.show()\n",
    "        \n",
    "                \n",
    "\n",
    "epochs = 10000\n",
    "grafico_evolucion(regresion_lineal(vectorX1, train[:,0], epochs, 1000, 0.00001),5000, train[:,1], train[:,0], epochs)\n"
   ]
  },
  {
   "cell_type": "markdown",
   "metadata": {},
   "source": [
    "## Entrenamiento de Modelos\n",
    "\n",
    "### Calidad Materiales"
   ]
  },
  {
   "cell_type": "code",
   "execution_count": 359,
   "metadata": {},
   "outputs": [],
   "source": [
    "vectorX1 = train[:,1] #Calidad Materiales \n",
    "\n",
    "vectorX2 = train[:,2] #Pies cuadrados area\n"
   ]
  },
  {
   "cell_type": "code",
   "execution_count": 360,
   "metadata": {},
   "outputs": [
    {
     "name": "stdout",
     "output_type": "stream",
     "text": [
      "18391393555101.164\n",
      "18398764439260.26\n",
      "18406138277709.348\n",
      "18413515071632.516\n",
      "18420894822214.363\n",
      "18428277530639.887\n",
      "18435663198094.6\n",
      "18443051825764.547\n",
      "18450443414836.22\n",
      "18457837966496.535\n",
      "18465235481932.89\n",
      "18472635962333.234\n",
      "18480039408885.848\n"
     ]
    },
    {
     "data": {
      "image/png": "[encoded data removed]",
      "text/plain": [
       "<Figure size 432x288 with 1 Axes>"
      ]
     },
     "metadata": {
      "needs_background": "light"
     },
     "output_type": "display_data"
    },
    {
     "data": {
      "image/png": "[encoded data removed]",
      "text/plain": [
       "<Figure size 432x288 with 1 Axes>"
      ]
     },
     "metadata": {
      "needs_background": "light"
     },
     "output_type": "display_data"
    },
    {
     "data": {
      "image/png": "[encoded data removed]",
      "text/plain": [
       "<Figure size 432x288 with 1 Axes>"
      ]
     },
     "metadata": {
      "needs_background": "light"
     },
     "output_type": "display_data"
    },
    {
     "data": {
      "image/png": "[encoded data removed]",
      "text/plain": [
       "<Figure size 432x288 with 1 Axes>"
      ]
     },
     "metadata": {
      "needs_background": "light"
     },
     "output_type": "display_data"
    },
    {
     "data": {
      "image/png": "[encoded data removed]",
      "text/plain": [
       "<Figure size 432x288 with 1 Axes>"
      ]
     },
     "metadata": {
      "needs_background": "light"
     },
     "output_type": "display_data"
    },
    {
     "data": {
      "image/png": "[encoded data removed]",
      "text/plain": [
       "<Figure size 432x288 with 1 Axes>"
      ]
     },
     "metadata": {
      "needs_background": "light"
     },
     "output_type": "display_data"
    },
    {
     "data": {
      "image/png": "[encoded data removed]",
      "text/plain": [
       "<Figure size 432x288 with 1 Axes>"
      ]
     },
     "metadata": {
      "needs_background": "light"
     },
     "output_type": "display_data"
    }
   ],
   "source": [
    "epochs = 6000\n",
    "grafico_evolucion(regresion_lineal(vectorX1, train[:,0], epochs, 500, 0.00000001),1000, train[:,1], train[:,0], epochs)"
   ]
  },
  {
   "cell_type": "markdown",
   "metadata": {},
   "source": [
    "### Pies Cuadrados (Area)"
   ]
  },
  {
   "cell_type": "code",
   "execution_count": 370,
   "metadata": {},
   "outputs": [
    {
     "name": "stdout",
     "output_type": "stream",
     "text": [
      "7.381113032940278e+17\n",
      "8.555559298956584e+17\n",
      "9.916877657201601e+17\n",
      "1.1494802272502094e+18\n",
      "1.3323798463210145e+18\n",
      "1.5443815498997059e+18\n",
      "1.7901159180116022e+18\n",
      "2.0749503257168922e+18\n",
      "2.405106178299471e+18\n",
      "2.787794800340216e+18\n",
      "3.2313749467888287e+18\n",
      "3.7455353764198436e+18\n",
      "4.341506475475741e+18\n",
      "5.032305553819383e+18\n",
      "5.833021171399492e+18\n"
     ]
    },
    {
     "data": {
      "image/png": "[encoded data removed]",
      "text/plain": [
       "<Figure size 432x288 with 1 Axes>"
      ]
     },
     "metadata": {
      "needs_background": "light"
     },
     "output_type": "display_data"
    },
    {
     "data": {
      "image/png": "[encoded data removed]",
      "text/plain": [
       "<Figure size 432x288 with 1 Axes>"
      ]
     },
     "metadata": {
      "needs_background": "light"
     },
     "output_type": "display_data"
    },
    {
     "data": {
      "image/png": "[encoded data removed]",
      "text/plain": [
       "<Figure size 432x288 with 1 Axes>"
      ]
     },
     "metadata": {
      "needs_background": "light"
     },
     "output_type": "display_data"
    },
    {
     "data": {
      "image/png": "[encoded data removed]",
      "text/plain": [
       "<Figure size 432x288 with 1 Axes>"
      ]
     },
     "metadata": {
      "needs_background": "light"
     },
     "output_type": "display_data"
    },
    {
     "data": {
      "image/png": "[encoded data removed]",
      "text/plain": [
       "<Figure size 432x288 with 1 Axes>"
      ]
     },
     "metadata": {
      "needs_background": "light"
     },
     "output_type": "display_data"
    },
    {
     "data": {
      "image/png": "[encoded data removed]",
      "text/plain": [
       "<Figure size 432x288 with 1 Axes>"
      ]
     },
     "metadata": {
      "needs_background": "light"
     },
     "output_type": "display_data"
    },
    {
     "data": {
      "image/png": "[encoded data removed]",
      "text/plain": [
       "<Figure size 432x288 with 1 Axes>"
      ]
     },
     "metadata": {
      "needs_background": "light"
     },
     "output_type": "display_data"
    },
    {
     "data": {
      "image/png": "[encoded data removed]",
      "text/plain": [
       "<Figure size 432x288 with 1 Axes>"
      ]
     },
     "metadata": {
      "needs_background": "light"
     },
     "output_type": "display_data"
    }
   ],
   "source": [
    "epochs = 7000\n",
    "grafico_evolucion(regresion_lineal(vectorX2, train[:,0], epochs, 500, 0.0000000001),1000, train[:,1], train[:,0], epochs)"
   ]
  },
  {
   "cell_type": "markdown",
   "metadata": {},
   "source": [
    "## Entrenamiento de Modelos con Scikit-Learn\n",
    "\n",
    "### Calidad Materiales"
   ]
  },
  {
   "cell_type": "code",
   "execution_count": 374,
   "metadata": {},
   "outputs": [],
   "source": [
    "import numpy as np\n",
    "from sklearn import linear_model\n",
    "from sklearn.linear_model import LinearRegression"
   ]
  },
  {
   "cell_type": "code",
   "execution_count": 414,
   "metadata": {},
   "outputs": [],
   "source": [
    "x1 = train[:,1].reshape(-1,1) #Calidad Materiales \n",
    "\n",
    "y = train[:,0].reshape(-1,1)"
   ]
  },
  {
   "cell_type": "code",
   "execution_count": 415,
   "metadata": {},
   "outputs": [
    {
     "data": {
      "text/plain": [
       "LinearRegression(copy_X=True, fit_intercept=True, n_jobs=None, normalize=False)"
      ]
     },
     "execution_count": 415,
     "metadata": {},
     "output_type": "execute_result"
    }
   ],
   "source": [
    "reg = linear_model.LinearRegression()\n",
    "reg.fit(x1, y)"
   ]
  },
  {
   "cell_type": "code",
   "execution_count": 506,
   "metadata": {},
   "outputs": [],
   "source": [
    "m_sl1 = reg.coef_[0,0]"
   ]
  },
  {
   "cell_type": "code",
   "execution_count": 510,
   "metadata": {},
   "outputs": [],
   "source": [
    "b_sl1 = reg.intercept_[0]"
   ]
  },
  {
   "cell_type": "code",
   "execution_count": 417,
   "metadata": {},
   "outputs": [
    {
     "name": "stdout",
     "output_type": "stream",
     "text": [
      "[[221414.42013537]\n",
      " [176002.42135622]\n",
      " [221414.42013537]\n",
      " ...\n",
      " [221414.42013537]\n",
      " [266826.41891453]\n",
      " [176002.42135622]]\n"
     ]
    }
   ],
   "source": [
    "y_pred1 = reg.predict(x1)\n",
    "print(y_pred1)"
   ]
  },
  {
   "cell_type": "markdown",
   "metadata": {},
   "source": [
    "### Pies Cuadrados (Area)"
   ]
  },
  {
   "cell_type": "code",
   "execution_count": 419,
   "metadata": {},
   "outputs": [],
   "source": [
    "x2 = train[:,2].reshape(-1,1) #Area \n",
    "\n",
    "y = train[:,0].reshape(-1,1)"
   ]
  },
  {
   "cell_type": "code",
   "execution_count": 422,
   "metadata": {},
   "outputs": [
    {
     "data": {
      "text/plain": [
       "LinearRegression(copy_X=True, fit_intercept=True, n_jobs=None, normalize=False)"
      ]
     },
     "execution_count": 422,
     "metadata": {},
     "output_type": "execute_result"
    }
   ],
   "source": [
    "reg2 = linear_model.LinearRegression()\n",
    "reg2.fit(x2, y)"
   ]
  },
  {
   "cell_type": "code",
   "execution_count": 449,
   "metadata": {},
   "outputs": [],
   "source": [
    "m_sl2 = reg2.coef_[0,0]"
   ]
  },
  {
   "cell_type": "code",
   "execution_count": 450,
   "metadata": {},
   "outputs": [],
   "source": [
    "b_sl2 = reg2.intercept_[0]"
   ]
  },
  {
   "cell_type": "code",
   "execution_count": 425,
   "metadata": {},
   "outputs": [
    {
     "name": "stdout",
     "output_type": "stream",
     "text": [
      "[[141562.84857277]\n",
      " [194323.05294136]\n",
      " [149879.72807915]\n",
      " ...\n",
      " [225511.35109027]\n",
      " [250461.98960941]\n",
      " [154947.82652835]]\n"
     ]
    }
   ],
   "source": [
    "y_pred2 = reg.predict(x2)\n",
    "print(y_pred2)"
   ]
  },
  {
   "cell_type": "markdown",
   "metadata": {},
   "source": [
    "## Funcion Promedio de los Modelos Predictivos\n",
    "\n",
    "### Calidad Materiales"
   ]
  },
  {
   "cell_type": "code",
   "execution_count": 513,
   "metadata": {},
   "outputs": [],
   "source": [
    "def promedio_y(m_manual, b_manual, m_sl, b_sl, x):\n",
    "    \n",
    "    # Modelo Manual\n",
    "    y_manual = m_manual * x + b_manual\n",
    "    \n",
    "    # Modelo Scikit-Learn\n",
    "    y_sl = m_sl * x + b_sl\n",
    "    \n",
    "    # Modelo Promedio\n",
    "    y_prom = (y_manual + y_sl) / 2\n",
    "    \n",
    "    return (y_manual, y_sl, y_prom)"
   ]
  },
  {
   "cell_type": "code",
   "execution_count": 458,
   "metadata": {},
   "outputs": [
    {
     "name": "stdout",
     "output_type": "stream",
     "text": [
      "18391393555101.164\n",
      "18398764439260.26\n",
      "18406138277709.348\n",
      "18413515071632.516\n",
      "18420894822214.363\n",
      "18428277530639.887\n",
      "18435663198094.6\n",
      "18443051825764.547\n",
      "18450443414836.22\n",
      "18457837966496.535\n",
      "18465235481932.89\n",
      "18472635962333.234\n",
      "18480039408885.848\n"
     ]
    }
   ],
   "source": [
    "dicx1 = regresion_lineal(vectorX1, train[:,0], 6000, 500, 0.00000001)\n",
    "vp1 = dicx1[6000]\n",
    "m_manual1 = vp1[0]\n",
    "b_manual1 = vp1[1]"
   ]
  },
  {
   "cell_type": "code",
   "execution_count": 461,
   "metadata": {},
   "outputs": [
    {
     "data": {
      "text/plain": [
       "(array([7016308.94344455, 6014029.91053314, 7016308.94344455, ...,\n",
       "        7016308.94344455, 8018587.97635595, 6014029.91053314]),\n",
       " array([31234.24387097, 31104.29262869, 31234.24387097, ...,\n",
       "        31234.24387097, 31364.19511326, 31104.29262869]),\n",
       " array([3523771.59365776, 3022567.10158092, 3523771.59365776, ...,\n",
       "        3523771.59365776, 4024976.0857346 , 3022567.10158092]))"
      ]
     },
     "execution_count": 461,
     "metadata": {},
     "output_type": "execute_result"
    }
   ],
   "source": [
    "promedio_y(m_manual1, b_manual1, m_sl1, b_sl1, vectorX1)"
   ]
  },
  {
   "cell_type": "markdown",
   "metadata": {},
   "source": [
    "### Pies Cuadrados (Area)"
   ]
  },
  {
   "cell_type": "code",
   "execution_count": 460,
   "metadata": {},
   "outputs": [
    {
     "name": "stdout",
     "output_type": "stream",
     "text": [
      "7.381113032940278e+17\n",
      "8.555559298956584e+17\n",
      "9.916877657201601e+17\n",
      "1.1494802272502094e+18\n",
      "1.3323798463210145e+18\n",
      "1.5443815498997059e+18\n",
      "1.7901159180116022e+18\n",
      "2.0749503257168922e+18\n",
      "2.405106178299471e+18\n",
      "2.787794800340216e+18\n",
      "3.2313749467888287e+18\n",
      "3.7455353764198436e+18\n",
      "4.341506475475741e+18\n",
      "5.032305553819383e+18\n",
      "5.833021171399492e+18\n"
     ]
    }
   ],
   "source": [
    "dicx2 = regresion_lineal(vectorX2, train[:,0], epochs, 500, 0.0000000001)\n",
    "vp2 = dicx2[6000]\n",
    "m_manual2 = vp[0]\n",
    "b_manual2 = vp[1]"
   ]
  },
  {
   "cell_type": "code",
   "execution_count": 516,
   "metadata": {},
   "outputs": [],
   "source": [
    "promedio_y(m_manual2, b_manual2, m_sl2, b_sl2, vectorX2)"
   ]
  },
  {
   "cell_type": "markdown",
   "metadata": {},
   "source": [
    "## Error Usando los Datos de Validacion (20%)\n",
    "\n",
    "### Calidad Materiales"
   ]
  },
  {
   "cell_type": "code",
   "execution_count": 468,
   "metadata": {},
   "outputs": [
    {
     "data": {
      "text/plain": [
       "array([1236., 1831., 1118., 1261.,  625., 1636., 1170., 2129.,  923.,\n",
       "        818.,  820., 1124., 1298., 1652., 2411., 1130., 1572.,  949.,\n",
       "       1014., 1624.,  831., 1028., 1622.,  764.,  842., 1224.,  663.,\n",
       "        728.,  879.,  815., 1212., 1382.,  864.,  866.,  884., 1630.,\n",
       "       1074., 2196., 1056., 1700., 1283., 1660., 1055., 1080.,  672.,\n",
       "        960.,  999.,  894., 1318., 1314.,  672.,  672.,  912., 1211.,\n",
       "       1168., 2136.,  788., 1138.,  894.,  912., 1702., 1507., 1361.,\n",
       "       1190., 1224., 1188., 1024.,  892.,  764.,  847., 1141., 1484.,\n",
       "        884., 1689., 1173., 2076.,  792., 1140.,  756., 1034., 1134.,\n",
       "        988., 2110., 1405.,  874., 1516.,  760.,  959., 1987.,  864.,\n",
       "       1166., 1054.,  892., 1050., 1104., 1060., 1337.,  713.,  964.,\n",
       "       2018., 1968.,  874., 1332., 1489.,  935., 1357.,  661.,  928.,\n",
       "        735., 1724., 1128.,  698., 1573., 1339., 1040.,  912., 1699.,\n",
       "        825., 1328., 1582., 1659., 1120., 1152.,  630., 1378.,  832.,\n",
       "        864., 1052., 1128., 1072., 4692., 1246., 1005.,  753., 1203.,\n",
       "       1616.,  976., 1652., 1368.,  990., 1122., 1294., 1902., 1274.,\n",
       "       1453., 1422.,  948., 1092., 1630., 1352., 1787.,  948., 1478.,\n",
       "        720., 1061.,  708., 1795.,  796.,  774.,  816., 1584.,  955.,\n",
       "       1588.,  954.,  816.,  803.,  765., 1334., 1656.,  693.,  920.,\n",
       "        864.,  872., 1114., 1284., 1172.,  728.,  960., 2156., 1776.,\n",
       "       1494.,  938., 1338.,  858.,  786., 2053.,  992., 1222.,  892.,\n",
       "       1078.,  769., 1980.,  990., 1530., 1281.,  616.,  520.,  814.,\n",
       "        882.,  925.,  848., 1668.,  840., 1661., 1108., 2633., 1026.,\n",
       "       1571.,  790.,  984.,  483.,  754.,  864., 2117.,  998., 1416.,\n",
       "        698.,  796., 1392., 1664., 1746.,  869., 1525., 1584.,  900.,\n",
       "       1221., 1500., 1133., 1687.,  939., 1136., 1160.,  950.,  864.,\n",
       "       1294., 1464.,  694., 1646.,  768.,  833.,  741., 1236.,  944.,\n",
       "       1112., 1040., 1844., 1053., 1569., 1246., 1310., 1144., 1844.,\n",
       "        708., 1069.,  848., 1575., 1344., 1252., 1223., 1048.,  804.,\n",
       "       1440.,  734.,  958.,  968.,  962., 1126., 1537.,  864., 1932.,\n",
       "       1236., 1040., 1423.,  848., 1026.,  952., 1422.,  913., 1188.,\n",
       "       1220.,  796.,  630.,  896., 1578., 1072., 1140., 1221.,  953.,\n",
       "       2073., 1188., 1078., 1256.])"
      ]
     },
     "execution_count": 468,
     "metadata": {},
     "output_type": "execute_result"
    }
   ],
   "source": [
    "test[:,0] # y\n",
    "test[:,1] # x1\n",
    "test[:,2] # x2"
   ]
  },
  {
   "cell_type": "code",
   "execution_count": 555,
   "metadata": {},
   "outputs": [],
   "source": [
    "prediccion1 = promedio_y(m_manual1, b_manual1, m_sl1, b_sl1, test[:,1])\n",
    "\n",
    "prediccion1[0] # y modelo manual\n",
    "prediccion1[1] # y modelo sl\n",
    "test[:,0] # y real\n",
    "\n",
    "# Calculo del error\n",
    "\n",
    "error_manual1 = np.abs(prediccion1[0] - test[:,0])\n",
    "error_total_manual1 = np.sum(error_manual1) / len(error_manual1)\n",
    "\n",
    "error_sl1 = np.abs(prediccion1[1] - test[:,0])\n",
    "error_total_sl1 = np.sum(error_sl1) / len(error_sl1)"
   ]
  },
  {
   "cell_type": "code",
   "execution_count": 556,
   "metadata": {},
   "outputs": [],
   "source": [
    "prediccion2 = promedio_y(m_manual2, b_manual2, m_sl2, b_sl2, test[:,2])\n",
    "\n",
    "prediccion2[0] # y modelo manual\n",
    "prediccion2[1] # y modelo sl\n",
    "test[:,0] # y real\n",
    "\n",
    "# Calculo del error\n",
    "\n",
    "error_manual2 = np.abs(prediccion2[0] - test[:,0])\n",
    "error_total_manual2 = np.sum(error_manual2) /  len(error_manual2)\n",
    "\n",
    "error_sl2 = np.abs(prediccion2[1] - test[:,0])\n",
    "error_total_sl2 = np.sum(error_sl2) / len(error_sl2)"
   ]
  },
  {
   "cell_type": "code",
   "execution_count": 562,
   "metadata": {},
   "outputs": [
    {
     "data": {
      "image/png": "[encoded data removed]",
      "text/plain": [
       "<Figure size 432x288 with 1 Axes>"
      ]
     },
     "metadata": {
      "needs_background": "light"
     },
     "output_type": "display_data"
    }
   ],
   "source": [
    "fig = plt.figure(u'Gráfica de barras')\n",
    "ax1 = fig.add_subplot(1,1,1)\n",
    "\n",
    "nombres1 = ['Error Manual 1','Error SL 1','Error Manual 2','Error SL 2']\n",
    "datos1 = [error_total_manual1, error_total_sl1, error_total_manual2, error_total_sl2]\n",
    "xx1 = range(len(datos1))\n",
    "\n",
    "ax1.bar(xx1, datos1, width=0.8, align='center')\n",
    "ax1.set_xticks(xx1)\n",
    "ax1.set_xticklabels(nombres1)\n",
    "\n",
    "plt.show()"
   ]
  },
  {
   "cell_type": "code",
   "execution_count": 561,
   "metadata": {},
   "outputs": [
    {
     "data": {
      "image/png": "[encoded data removed]",
      "text/plain": [
       "<Figure size 432x288 with 3 Axes>"
      ]
     },
     "metadata": {
      "needs_background": "light"
     },
     "output_type": "display_data"
    }
   ],
   "source": [
    "fig = plt.figure(u'Gráfica de barras')\n",
    "ax1 = fig.add_subplot(2,2,1)\n",
    "ax2 = fig.add_subplot(2,2,2)\n",
    "ax3 = fig.add_subplot(2,2,3)\n",
    "\n",
    "nombres1 = ['Error Manual 1','Error SL 1','Error Manual 2','Error SL 2']\n",
    "datos1 = [error_total_manual1, error_total_sl1, error_total_manual2, error_total_sl2]\n",
    "xx1 = range(len(datos1))\n",
    "\n",
    "ax1.bar(xx1, datos1, width=0.8, align='center')\n",
    "ax1.set_xticks(xx1)\n",
    "ax1.set_xticklabels(nombres1)\n",
    "\n",
    "\n",
    "\n",
    "nombres2 = ['Error Manual 1','Error SL 1']\n",
    "datos2 = [error_total_manual1, error_total_sl1]\n",
    "xx2 = range(len(datos2))\n",
    "\n",
    "ax2.bar(xx2, datos2, width=0.8, align='center')\n",
    "ax2.set_xticks(xx2)\n",
    "ax2.set_xticklabels(nombres2)\n",
    "\n",
    "\n",
    "\n",
    "nombres3 = ['Error Manual 2','Error SL 2']\n",
    "datos3 = [error_total_manual2, error_total_sl2]\n",
    "xx3 = range(len(datos3))\n",
    "\n",
    "ax3.bar(xx3, datos3, width=0.8, align='center')\n",
    "ax3.set_xticks(xx3)\n",
    "ax3.set_xticklabels(nombres3)\n",
    "\n",
    "\n",
    "\n",
    "plt.show()"
   ]
  },
  {
   "cell_type": "code",
   "execution_count": 560,
   "metadata": {},
   "outputs": [
    {
     "data": {
      "image/png": "[encoded data removed]",
      "text/plain": [
       "<Figure size 432x288 with 2 Axes>"
      ]
     },
     "metadata": {
      "needs_background": "light"
     },
     "output_type": "display_data"
    }
   ],
   "source": [
    "fig = plt.figure(u'Gráfica de barras')\n",
    "ax2 = fig.add_subplot(1,2,1)\n",
    "ax3 = fig.add_subplot(1,2,2)\n",
    "\n",
    "nombres1 = ['Error Manual 1','Error SL 1','Error Manual 2','Error SL 2']\n",
    "datos1 = [error_total_manual1, error_total_sl1, error_total_manual2, error_total_sl2]\n",
    "xx1 = range(len(datos1))\n",
    "\n",
    "ax1.bar(xx1, datos1, width=0.8, align='center')\n",
    "ax1.set_xticks(xx1)\n",
    "ax1.set_xticklabels(nombres1)\n",
    "\n",
    "\n",
    "\n",
    "nombres2 = ['Error Manual 1','Error SL 1']\n",
    "datos2 = [error_total_manual1, error_total_sl1]\n",
    "xx2 = range(len(datos2))\n",
    "\n",
    "ax2.bar(xx2, datos2, width=0.8, align='center')\n",
    "ax2.set_xticks(xx2)\n",
    "ax2.set_xticklabels(nombres2)\n",
    "\n",
    "\n",
    "\n",
    "nombres3 = ['Error Manual 2','Error SL 2']\n",
    "datos3 = [error_total_manual2, error_total_sl2]\n",
    "xx3 = range(len(datos3))\n",
    "\n",
    "ax3.bar(xx3, datos3, width=0.8, align='center')\n",
    "ax3.set_xticks(xx3)\n",
    "ax3.set_xticklabels(nombres3)\n",
    "\n",
    "\n",
    "\n",
    "plt.show()"
   ]
  },
  {
   "cell_type": "markdown",
   "metadata": {},
   "source": [
    "## Conclusion\n",
    "\n",
    "Se ha denotado como error 1 y error 2 a los errores que brindan los modelos manuales y generados por Scikit-Learn para las variables independientes x. Los errores 1 se refieren a la variable \"Calidad de Materiales\" y los errores 2 a la variable \"Pies Cuadrados (Área)\".\n",
    "\n",
    "\n",
    "Visualizando las gráficas de los errores se puede observar que el error promedio generado por el modelo manual para ambas variables independientes x es significativamente mayor que el generado por el modelo de Scikit-Learn.\n",
    "\n",
    "Por tanto, para estas variables independientes es más recomendado utilizar el modelo que genera Scikit-Learn ya que es el que genera el menor error."
   ]
  }
 ],
 "metadata": {
  "kernelspec": {
   "display_name": "Python 3",
   "language": "python",
   "name": "python3"
  },
  "language_info": {
   "codemirror_mode": {
    "name": "ipython",
    "version": 3
   },
   "file_extension": ".py",
   "mimetype": "text/x-python",
   "name": "python",
   "nbconvert_exporter": "python",
   "pygments_lexer": "ipython3",
   "version": "3.7.4"
  }
 },
 "nbformat": 4,
 "nbformat_minor": 4
}
