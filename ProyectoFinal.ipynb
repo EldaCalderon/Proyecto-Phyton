{
 "cells": [
  {
   "cell_type": "markdown",
   "metadata": {},
   "source": [
    "### **Nombre:** Elda Magally Calderón Motta\n",
    "### **Carné:** 16003182\n",
    "### **Sección:** Virtual"
   ]
  },
  {
   "cell_type": "markdown",
   "metadata": {},
   "source": [
    "# Proyecto Python"
   ]
  },
  {
   "cell_type": "markdown",
   "metadata": {},
   "source": [
    "## Instalación e Importación de Paquetes"
   ]
  },
  {
   "cell_type": "code",
   "execution_count": 3,
   "metadata": {},
   "outputs": [],
   "source": [
    "import numpy as np\n",
    "from matplotlib import pyplot as plt "
   ]
  },
  {
   "cell_type": "code",
   "execution_count": 4,
   "metadata": {},
   "outputs": [
    {
     "name": "stdout",
     "output_type": "stream",
     "text": [
      "Requirement already up-to-date: scikit-learn in c:\\users\\elda\\anaconda3\\lib\\site-packages (0.22.2.post1)\n",
      "Requirement already satisfied, skipping upgrade: joblib>=0.11 in c:\\users\\elda\\anaconda3\\lib\\site-packages (from scikit-learn) (0.13.2)\n",
      "Requirement already satisfied, skipping upgrade: numpy>=1.11.0 in c:\\users\\elda\\anaconda3\\lib\\site-packages (from scikit-learn) (1.16.5)\n",
      "Requirement already satisfied, skipping upgrade: scipy>=0.17.0 in c:\\users\\elda\\anaconda3\\lib\\site-packages (from scikit-learn) (1.3.1)\n",
      "Note: you may need to restart the kernel to use updated packages.\n"
     ]
    }
   ],
   "source": [
    "pip install -U scikit-learn"
   ]
  },
  {
   "cell_type": "code",
   "execution_count": 5,
   "metadata": {},
   "outputs": [],
   "source": [
    "import sklearn as sl"
   ]
  },
  {
   "cell_type": "code",
   "execution_count": 6,
   "metadata": {},
   "outputs": [
    {
     "name": "stdout",
     "output_type": "stream",
     "text": [
      "Requirement already satisfied: seaborn in c:\\users\\elda\\anaconda3\\lib\\site-packages (0.9.0)\n",
      "Requirement already satisfied: scipy>=0.14.0 in c:\\users\\elda\\anaconda3\\lib\\site-packages (from seaborn) (1.3.1)\n",
      "Requirement already satisfied: pandas>=0.15.2 in c:\\users\\elda\\anaconda3\\lib\\site-packages (from seaborn) (0.25.1)\n",
      "Requirement already satisfied: numpy>=1.9.3 in c:\\users\\elda\\anaconda3\\lib\\site-packages (from seaborn) (1.16.5)\n",
      "Requirement already satisfied: matplotlib>=1.4.3 in c:\\users\\elda\\anaconda3\\lib\\site-packages (from seaborn) (3.1.1)\n",
      "Requirement already satisfied: pytz>=2017.2 in c:\\users\\elda\\anaconda3\\lib\\site-packages (from pandas>=0.15.2->seaborn) (2019.3)\n",
      "Requirement already satisfied: python-dateutil>=2.6.1 in c:\\users\\elda\\anaconda3\\lib\\site-packages (from pandas>=0.15.2->seaborn) (2.8.0)\n",
      "Requirement already satisfied: cycler>=0.10 in c:\\users\\elda\\anaconda3\\lib\\site-packages (from matplotlib>=1.4.3->seaborn) (0.10.0)\n",
      "Requirement already satisfied: kiwisolver>=1.0.1 in c:\\users\\elda\\anaconda3\\lib\\site-packages (from matplotlib>=1.4.3->seaborn) (1.1.0)\n",
      "Requirement already satisfied: pyparsing!=2.0.4,!=2.1.2,!=2.1.6,>=2.0.1 in c:\\users\\elda\\anaconda3\\lib\\site-packages (from matplotlib>=1.4.3->seaborn) (2.4.2)\n",
      "Requirement already satisfied: six>=1.5 in c:\\users\\elda\\anaconda3\\lib\\site-packages (from python-dateutil>=2.6.1->pandas>=0.15.2->seaborn) (1.12.0)\n",
      "Requirement already satisfied: setuptools in c:\\users\\elda\\anaconda3\\lib\\site-packages (from kiwisolver>=1.0.1->matplotlib>=1.4.3->seaborn) (41.4.0)\n",
      "Note: you may need to restart the kernel to use updated packages.\n"
     ]
    }
   ],
   "source": [
    "pip install seaborn"
   ]
  },
  {
   "cell_type": "code",
   "execution_count": 7,
   "metadata": {},
   "outputs": [],
   "source": [
    "import seaborn as sb"
   ]
  },
  {
   "cell_type": "markdown",
   "metadata": {},
   "source": [
    "## Carga de Datos"
   ]
  },
  {
   "cell_type": "code",
   "execution_count": 8,
   "metadata": {},
   "outputs": [
    {
     "name": "stdout",
     "output_type": "stream",
     "text": [
      "[[2.08500e+05 7.00000e+00 8.56000e+02 8.00000e+00 2.00300e+03 6.50000e+01]\n",
      " [1.81500e+05 6.00000e+00 1.26200e+03 6.00000e+00 1.97600e+03 8.00000e+01]\n",
      " [2.23500e+05 7.00000e+00 9.20000e+02 6.00000e+00 2.00100e+03 6.80000e+01]\n",
      " ...\n",
      " [2.66500e+05 7.00000e+00 1.18800e+03 9.00000e+00 1.94100e+03 6.60000e+01]\n",
      " [1.42125e+05 5.00000e+00 1.07800e+03 5.00000e+00 1.95000e+03 6.80000e+01]\n",
      " [1.47500e+05 5.00000e+00 1.25600e+03 6.00000e+00 1.96500e+03 7.50000e+01]]\n"
     ]
    }
   ],
   "source": [
    "a=np.load('C:/Users/Elda/Dropbox/Data Science/1 Trimestre/Python para DS/Proyecto Python/proyecto_training_data.npy')\n",
    "print(a)"
   ]
  },
  {
   "cell_type": "code",
   "execution_count": 9,
   "metadata": {},
   "outputs": [
    {
     "data": {
      "text/plain": [
       "array([2.085e+05, 7.000e+00, 8.560e+02, 8.000e+00, 2.003e+03, 6.500e+01])"
      ]
     },
     "execution_count": 9,
     "metadata": {},
     "output_type": "execute_result"
    }
   ],
   "source": [
    "a[0]"
   ]
  },
  {
   "cell_type": "markdown",
   "metadata": {},
   "source": [
    "## Slicing\n",
    "\n",
    "### Datos de Entrenamiento 80%"
   ]
  },
  {
   "cell_type": "code",
   "execution_count": 10,
   "metadata": {},
   "outputs": [
    {
     "name": "stdout",
     "output_type": "stream",
     "text": [
      "1460\n",
      "1168.0\n"
     ]
    },
    {
     "data": {
      "text/plain": [
       "292.0"
      ]
     },
     "execution_count": 10,
     "metadata": {},
     "output_type": "execute_result"
    }
   ],
   "source": [
    "print(len(a))\n",
    "print(len(a)*0.8)\n",
    "len(a)*0.2"
   ]
  },
  {
   "cell_type": "code",
   "execution_count": 11,
   "metadata": {},
   "outputs": [
    {
     "data": {
      "text/plain": [
       "1168"
      ]
     },
     "execution_count": 11,
     "metadata": {},
     "output_type": "execute_result"
    }
   ],
   "source": [
    "train = a[0:1168]\n",
    "len(train)"
   ]
  },
  {
   "cell_type": "markdown",
   "metadata": {},
   "source": [
    "### Datos de Validación y Pruebas 20%"
   ]
  },
  {
   "cell_type": "code",
   "execution_count": 12,
   "metadata": {},
   "outputs": [
    {
     "data": {
      "text/plain": [
       "292"
      ]
     },
     "execution_count": 12,
     "metadata": {},
     "output_type": "execute_result"
    }
   ],
   "source": [
    "test = a[1168:1460]\n",
    "len(test)"
   ]
  },
  {
   "cell_type": "markdown",
   "metadata": {},
   "source": [
    "## Análisis Exploratorio Datos Entrenamiento"
   ]
  },
  {
   "cell_type": "markdown",
   "metadata": {},
   "source": [
    "### Precio de Venta"
   ]
  },
  {
   "cell_type": "code",
   "execution_count": 13,
   "metadata": {},
   "outputs": [
    {
     "name": "stdout",
     "output_type": "stream",
     "text": [
      "180590.27739726027\n",
      "755000.0\n",
      "34900.0\n",
      "720100.0\n",
      "78781.95108033362\n"
     ]
    }
   ],
   "source": [
    "mediaE0 = np.nanmean(train[:,0])\n",
    "maximoE0 = np.nanmax(train[:,0])\n",
    "minimoE0 = np.nanmin(train[:,0])\n",
    "rangoE0 = maximoE0 - minimoE0\n",
    "desvE0 = np.nanstd(train[:,0])\n",
    "\n",
    "print(mediaE0)\n",
    "print(maximoE0)\n",
    "print(minimoE0)\n",
    "print(rangoE0)\n",
    "print(desvE0)"
   ]
  },
  {
   "cell_type": "markdown",
   "metadata": {},
   "source": [
    "### Calidad Materiales"
   ]
  },
  {
   "cell_type": "code",
   "execution_count": 14,
   "metadata": {},
   "outputs": [
    {
     "name": "stdout",
     "output_type": "stream",
     "text": [
      "6.101027397260274\n",
      "10.0\n",
      "1.0\n",
      "9.0\n",
      "1.377435193240741\n"
     ]
    }
   ],
   "source": [
    "mediaE1 = np.nanmean(train[:,1])\n",
    "maximoE1 = np.nanmax(train[:,1])\n",
    "minimoE1 = np.nanmin(train[:,1])\n",
    "rangoE1 = maximoE1 - minimoE1\n",
    "desvE1 = np.nanstd(train[:,1])\n",
    "\n",
    "print(mediaE1)\n",
    "print(maximoE1)\n",
    "print(minimoE1)\n",
    "print(rangoE1)\n",
    "print(desvE1)"
   ]
  },
  {
   "cell_type": "markdown",
   "metadata": {},
   "source": [
    "### Pies Cuadrados"
   ]
  },
  {
   "cell_type": "code",
   "execution_count": 15,
   "metadata": {},
   "outputs": [
    {
     "name": "stdout",
     "output_type": "stream",
     "text": [
      "1156.3236301369864\n",
      "3228.0\n",
      "334.0\n",
      "2894.0\n",
      "373.620331503586\n"
     ]
    }
   ],
   "source": [
    "mediaE2 = np.nanmean(train[:,2])\n",
    "maximoE2 = np.nanmax(train[:,2])\n",
    "minimoE2 = np.nanmin(train[:,2])\n",
    "rangoE2 = maximoE2 - minimoE2\n",
    "desvE2 = np.nanstd(train[:,2])\n",
    "\n",
    "print(mediaE2)\n",
    "print(maximoE2)\n",
    "print(minimoE2)\n",
    "print(rangoE2)\n",
    "print(desvE2)"
   ]
  },
  {
   "cell_type": "markdown",
   "metadata": {},
   "source": [
    "### Número de Cuartos"
   ]
  },
  {
   "cell_type": "code",
   "execution_count": 16,
   "metadata": {},
   "outputs": [
    {
     "name": "stdout",
     "output_type": "stream",
     "text": [
      "6.4854452054794525\n",
      "14.0\n",
      "2.0\n",
      "12.0\n",
      "1.6084517167387253\n"
     ]
    }
   ],
   "source": [
    "mediaE3 = np.nanmean(train[:,3])\n",
    "maximoE3 = np.nanmax(train[:,3])\n",
    "minimoE3 = np.nanmin(train[:,3])\n",
    "rangoE3 = maximoE3 - minimoE3\n",
    "desvE3 = np.nanstd(train[:,3])\n",
    "\n",
    "print(mediaE3)\n",
    "print(maximoE3)\n",
    "print(minimoE3)\n",
    "print(rangoE3)\n",
    "print(desvE3)"
   ]
  },
  {
   "cell_type": "markdown",
   "metadata": {},
   "source": [
    "### Año de Construcción"
   ]
  },
  {
   "cell_type": "code",
   "execution_count": 17,
   "metadata": {},
   "outputs": [
    {
     "name": "stdout",
     "output_type": "stream",
     "text": [
      "1971.451198630137\n",
      "2010.0\n",
      "1875.0\n",
      "135.0\n",
      "29.93888206867768\n"
     ]
    }
   ],
   "source": [
    "mediaE4 = np.nanmean(train[:,4])\n",
    "maximoE4 = np.nanmax(train[:,4])\n",
    "minimoE4 = np.nanmin(train[:,4])\n",
    "rangoE4 = maximoE4 - minimoE4\n",
    "desvE4 = np.nanstd(train[:,4])\n",
    "\n",
    "print(mediaE4)\n",
    "print(maximoE4)\n",
    "print(minimoE4)\n",
    "print(rangoE4)\n",
    "print(desvE4)"
   ]
  },
  {
   "cell_type": "markdown",
   "metadata": {},
   "source": [
    "### Frente de la Casa"
   ]
  },
  {
   "cell_type": "code",
   "execution_count": 18,
   "metadata": {},
   "outputs": [
    {
     "name": "stdout",
     "output_type": "stream",
     "text": [
      "69.94698544698545\n",
      "313.0\n",
      "21.0\n",
      "292.0\n",
      "23.4659548199304\n"
     ]
    }
   ],
   "source": [
    "mediaE5 = np.nanmean(train[:,5])\n",
    "maximoE5 = np.nanmax(train[:,5])\n",
    "minimoE5 = np.nanmin(train[:,5])\n",
    "rangoE5 = maximoE5 - minimoE5\n",
    "desvE5 = np.nanstd(train[:,5])\n",
    "\n",
    "print(mediaE5)\n",
    "print(maximoE5)\n",
    "print(minimoE5)\n",
    "print(rangoE5)\n",
    "print(desvE5)"
   ]
  },
  {
   "cell_type": "markdown",
   "metadata": {},
   "source": [
    "### Histogramas Datos Entrenamiento"
   ]
  },
  {
   "cell_type": "code",
   "execution_count": 19,
   "metadata": {},
   "outputs": [
    {
     "data": {
      "text/plain": [
       "<matplotlib.axes._subplots.AxesSubplot at 0x20e2809f748>"
      ]
     },
     "execution_count": 19,
     "metadata": {},
     "output_type": "execute_result"
    },
    {
     "data": {
      "image/png": "[encoded data removed]",
      "text/plain": [
       "<Figure size 432x288 with 1 Axes>"
      ]
     },
     "metadata": {
      "needs_background": "light"
     },
     "output_type": "display_data"
    }
   ],
   "source": [
    "sb.distplot(train[:,0])"
   ]
  },
  {
   "cell_type": "code",
   "execution_count": 20,
   "metadata": {},
   "outputs": [
    {
     "data": {
      "text/plain": [
       "<matplotlib.axes._subplots.AxesSubplot at 0x20e28434b88>"
      ]
     },
     "execution_count": 20,
     "metadata": {},
     "output_type": "execute_result"
    },
    {
     "data": {
      "image/png": "[encoded data removed]",
      "text/plain": [
       "<Figure size 432x288 with 1 Axes>"
      ]
     },
     "metadata": {
      "needs_background": "light"
     },
     "output_type": "display_data"
    }
   ],
   "source": [
    "sb.distplot(train[:,1])"
   ]
  },
  {
   "cell_type": "code",
   "execution_count": 21,
   "metadata": {},
   "outputs": [
    {
     "data": {
      "text/plain": [
       "<matplotlib.axes._subplots.AxesSubplot at 0x20e28502048>"
      ]
     },
     "execution_count": 21,
     "metadata": {},
     "output_type": "execute_result"
    },
    {
     "data": {
      "image/png": "[encoded data removed]",
      "text/plain": [
       "<Figure size 432x288 with 1 Axes>"
      ]
     },
     "metadata": {
      "needs_background": "light"
     },
     "output_type": "display_data"
    }
   ],
   "source": [
    "sb.distplot(train[:,2])"
   ]
  },
  {
   "cell_type": "code",
   "execution_count": 22,
   "metadata": {},
   "outputs": [
    {
     "data": {
      "text/plain": [
       "<matplotlib.axes._subplots.AxesSubplot at 0x20e285d7608>"
      ]
     },
     "execution_count": 22,
     "metadata": {},
     "output_type": "execute_result"
    },
    {
     "data": {
      "image/png": "[encoded data removed]",
      "text/plain": [
       "<Figure size 432x288 with 1 Axes>"
      ]
     },
     "metadata": {
      "needs_background": "light"
     },
     "output_type": "display_data"
    }
   ],
   "source": [
    "sb.distplot(train[:,3])"
   ]
  },
  {
   "cell_type": "code",
   "execution_count": 23,
   "metadata": {},
   "outputs": [
    {
     "data": {
      "text/plain": [
       "<matplotlib.axes._subplots.AxesSubplot at 0x20e28696588>"
      ]
     },
     "execution_count": 23,
     "metadata": {},
     "output_type": "execute_result"
    },
    {
     "data": {
      "image/png": "[encoded data removed]",
      "text/plain": [
       "<Figure size 432x288 with 1 Axes>"
      ]
     },
     "metadata": {
      "needs_background": "light"
     },
     "output_type": "display_data"
    }
   ],
   "source": [
    "sb.distplot(train[:,4])"
   ]
  },
  {
   "cell_type": "code",
   "execution_count": 24,
   "metadata": {},
   "outputs": [
    {
     "data": {
      "text/plain": [
       "<matplotlib.axes._subplots.AxesSubplot at 0x20e287211c8>"
      ]
     },
     "execution_count": 24,
     "metadata": {},
     "output_type": "execute_result"
    },
    {
     "data": {
      "image/png": "[encoded data removed]",
      "text/plain": [
       "<Figure size 432x288 with 1 Axes>"
      ]
     },
     "metadata": {
      "needs_background": "light"
     },
     "output_type": "display_data"
    }
   ],
   "source": [
    "import math\n",
    "x = np.float64('nan')\n",
    "math.isnan(x)\n",
    "\n",
    "\n",
    "w = train[:,5]\n",
    "z = w[np.isnan(w) != np.isnan(x)]\n",
    "\n",
    "sb.distplot(z)"
   ]
  },
  {
   "cell_type": "markdown",
   "metadata": {},
   "source": [
    "## Análisis Exploratorio Datos Validación y Pruebas"
   ]
  },
  {
   "cell_type": "markdown",
   "metadata": {},
   "source": [
    "### Precio de Venta"
   ]
  },
  {
   "cell_type": "code",
   "execution_count": 25,
   "metadata": {},
   "outputs": [
    {
     "name": "stdout",
     "output_type": "stream",
     "text": [
      "182244.8698630137\n",
      "745000.0\n",
      "52500.0\n",
      "692500.0\n",
      "81886.32072372036\n"
     ]
    }
   ],
   "source": [
    "mediaT0 = np.nanmean(test[:,0])\n",
    "maximoT0 = np.nanmax(test[:,0])\n",
    "minimoT0 = np.nanmin(test[:,0])\n",
    "rangoT0 = maximoT0 - minimoT0\n",
    "desvT0 = np.nanstd(test[:,0])\n",
    "\n",
    "print(mediaT0)\n",
    "print(maximoT0)\n",
    "print(minimoT0)\n",
    "print(rangoT0)\n",
    "print(desvT0)"
   ]
  },
  {
   "cell_type": "markdown",
   "metadata": {},
   "source": [
    "### Calidad Materiales"
   ]
  },
  {
   "cell_type": "code",
   "execution_count": 26,
   "metadata": {},
   "outputs": [
    {
     "name": "stdout",
     "output_type": "stream",
     "text": [
      "6.092465753424658\n",
      "10.0\n",
      "3.0\n",
      "7.0\n",
      "1.4026679869819103\n"
     ]
    }
   ],
   "source": [
    "mediaT1 = np.nanmean(test[:,1])\n",
    "maximoT1 = np.nanmax(test[:,1])\n",
    "minimoT1 = np.nanmin(test[:,1])\n",
    "rangoT1 = maximoT1 - minimoT1\n",
    "desvT1 = np.nanstd(test[:,1])\n",
    "\n",
    "print(mediaT1)\n",
    "print(maximoT1)\n",
    "print(minimoT1)\n",
    "print(rangoT1)\n",
    "print(desvT1)"
   ]
  },
  {
   "cell_type": "markdown",
   "metadata": {},
   "source": [
    "### Pies Cuadrados"
   ]
  },
  {
   "cell_type": "code",
   "execution_count": 27,
   "metadata": {},
   "outputs": [
    {
     "name": "stdout",
     "output_type": "stream",
     "text": [
      "1187.8390410958905\n",
      "4692.0\n",
      "483.0\n",
      "4209.0\n",
      "433.09975216468075\n"
     ]
    }
   ],
   "source": [
    "mediaT2 = np.nanmean(test[:,2])\n",
    "maximoT2 = np.nanmax(test[:,2])\n",
    "minimoT2 = np.nanmin(test[:,2])\n",
    "rangoT2 = maximoT2 - minimoT2\n",
    "desvT2 = np.nanstd(test[:,2])\n",
    "\n",
    "print(mediaT2)\n",
    "print(maximoT2)\n",
    "print(minimoT2)\n",
    "print(rangoT2)\n",
    "print(desvT2)"
   ]
  },
  {
   "cell_type": "markdown",
   "metadata": {},
   "source": [
    "### Número de Cuartos"
   ]
  },
  {
   "cell_type": "code",
   "execution_count": 28,
   "metadata": {},
   "outputs": [
    {
     "name": "stdout",
     "output_type": "stream",
     "text": [
      "6.647260273972603\n",
      "12.0\n",
      "3.0\n",
      "9.0\n",
      "1.6825736648767897\n"
     ]
    }
   ],
   "source": [
    "mediaT3 = np.nanmean(test[:,3])\n",
    "maximoT3 = np.nanmax(test[:,3])\n",
    "minimoT3 = np.nanmin(test[:,3])\n",
    "rangoT3 = maximoT3 - minimoT3\n",
    "desvT3 = np.nanstd(test[:,3])\n",
    "\n",
    "print(mediaT3)\n",
    "print(maximoT3)\n",
    "print(minimoT3)\n",
    "print(rangoT3)\n",
    "print(desvT3)"
   ]
  },
  {
   "cell_type": "markdown",
   "metadata": {},
   "source": [
    "### Año de Construcción"
   ]
  },
  {
   "cell_type": "code",
   "execution_count": 29,
   "metadata": {},
   "outputs": [
    {
     "name": "stdout",
     "output_type": "stream",
     "text": [
      "1970.5342465753424\n",
      "2009.0\n",
      "1872.0\n",
      "137.0\n",
      "31.175852172457557\n"
     ]
    }
   ],
   "source": [
    "mediaT4 = np.nanmean(test[:,4])\n",
    "maximoT4 = np.nanmax(test[:,4])\n",
    "minimoT4 = np.nanmin(test[:,4])\n",
    "rangoT4 = maximoT4 - minimoT4\n",
    "desvT4 = np.nanstd(test[:,4])\n",
    "\n",
    "print(mediaT4)\n",
    "print(maximoT4)\n",
    "print(minimoT4)\n",
    "print(rangoT4)\n",
    "print(desvT4)"
   ]
  },
  {
   "cell_type": "markdown",
   "metadata": {},
   "source": [
    "### Frente de la Casa"
   ]
  },
  {
   "cell_type": "code",
   "execution_count": 30,
   "metadata": {},
   "outputs": [
    {
     "name": "stdout",
     "output_type": "stream",
     "text": [
      "70.46443514644352\n",
      "313.0\n",
      "21.0\n",
      "292.0\n",
      "27.28444985262555\n"
     ]
    }
   ],
   "source": [
    "mediaT5 = np.nanmean(test[:,5])\n",
    "maximoT5 = np.nanmax(test[:,5])\n",
    "minimoT5 = np.nanmin(test[:,5])\n",
    "rangoT5 = maximoT5 - minimoT5\n",
    "desvT5 = np.nanstd(test[:,5])\n",
    "\n",
    "print(mediaT5)\n",
    "print(maximoT5)\n",
    "print(minimoT5)\n",
    "print(rangoT5)\n",
    "print(desvT5)"
   ]
  },
  {
   "cell_type": "markdown",
   "metadata": {},
   "source": [
    "### Histogramas Datos Validación y Pruebas"
   ]
  },
  {
   "cell_type": "code",
   "execution_count": 31,
   "metadata": {},
   "outputs": [
    {
     "data": {
      "text/plain": [
       "<matplotlib.axes._subplots.AxesSubplot at 0x20e2884d348>"
      ]
     },
     "execution_count": 31,
     "metadata": {},
     "output_type": "execute_result"
    },
    {
     "data": {
      "image/png": "[encoded data removed]",
      "text/plain": [
       "<Figure size 432x288 with 1 Axes>"
      ]
     },
     "metadata": {
      "needs_background": "light"
     },
     "output_type": "display_data"
    }
   ],
   "source": [
    "sb.distplot(test[:,0])"
   ]
  },
  {
   "cell_type": "code",
   "execution_count": 32,
   "metadata": {},
   "outputs": [
    {
     "data": {
      "text/plain": [
       "<matplotlib.axes._subplots.AxesSubplot at 0x20e288abc48>"
      ]
     },
     "execution_count": 32,
     "metadata": {},
     "output_type": "execute_result"
    },
    {
     "data": {
      "image/png": "[encoded data removed]",
      "text/plain": [
       "<Figure size 432x288 with 1 Axes>"
      ]
     },
     "metadata": {
      "needs_background": "light"
     },
     "output_type": "display_data"
    }
   ],
   "source": [
    "sb.distplot(test[:,1])"
   ]
  },
  {
   "cell_type": "code",
   "execution_count": 33,
   "metadata": {},
   "outputs": [
    {
     "data": {
      "text/plain": [
       "<matplotlib.axes._subplots.AxesSubplot at 0x20e28965748>"
      ]
     },
     "execution_count": 33,
     "metadata": {},
     "output_type": "execute_result"
    },
    {
     "data": {
      "image/png": "[encoded data removed]",
      "text/plain": [
       "<Figure size 432x288 with 1 Axes>"
      ]
     },
     "metadata": {
      "needs_background": "light"
     },
     "output_type": "display_data"
    }
   ],
   "source": [
    "sb.distplot(test[:,2])"
   ]
  },
  {
   "cell_type": "code",
   "execution_count": 34,
   "metadata": {},
   "outputs": [
    {
     "data": {
      "text/plain": [
       "<matplotlib.axes._subplots.AxesSubplot at 0x20e28a1cd48>"
      ]
     },
     "execution_count": 34,
     "metadata": {},
     "output_type": "execute_result"
    },
    {
     "data": {
      "image/png": "[encoded data removed]",
      "text/plain": [
       "<Figure size 432x288 with 1 Axes>"
      ]
     },
     "metadata": {
      "needs_background": "light"
     },
     "output_type": "display_data"
    }
   ],
   "source": [
    "sb.distplot(test[:,3])"
   ]
  },
  {
   "cell_type": "code",
   "execution_count": 35,
   "metadata": {},
   "outputs": [
    {
     "data": {
      "text/plain": [
       "<matplotlib.axes._subplots.AxesSubplot at 0x20e28a120c8>"
      ]
     },
     "execution_count": 35,
     "metadata": {},
     "output_type": "execute_result"
    },
    {
     "data": {
      "image/png": "[encoded data removed]",
      "text/plain": [
       "<Figure size 432x288 with 1 Axes>"
      ]
     },
     "metadata": {
      "needs_background": "light"
     },
     "output_type": "display_data"
    }
   ],
   "source": [
    "sb.distplot(test[:,4])"
   ]
  },
  {
   "cell_type": "code",
   "execution_count": 36,
   "metadata": {},
   "outputs": [
    {
     "data": {
      "text/plain": [
       "<matplotlib.axes._subplots.AxesSubplot at 0x20e28b15b08>"
      ]
     },
     "execution_count": 36,
     "metadata": {},
     "output_type": "execute_result"
    },
    {
     "data": {
      "image/png": "[encoded data removed]",
      "text/plain": [
       "<Figure size 432x288 with 1 Axes>"
      ]
     },
     "metadata": {
      "needs_background": "light"
     },
     "output_type": "display_data"
    }
   ],
   "source": [
    "x = np.float64('nan')\n",
    "\n",
    "q = test[:,5]\n",
    "r = q[np.isnan(q) != np.isnan(x)]\n",
    "\n",
    "sb.distplot(r)"
   ]
  },
  {
   "cell_type": "markdown",
   "metadata": {},
   "source": [
    "## Coeficiente de Correlación Datos Entrenamiento"
   ]
  },
  {
   "cell_type": "code",
   "execution_count": 37,
   "metadata": {},
   "outputs": [
    {
     "data": {
      "text/plain": [
       "array([[1.        , 0.79399005],\n",
       "       [0.79399005, 1.        ]])"
      ]
     },
     "execution_count": 37,
     "metadata": {},
     "output_type": "execute_result"
    }
   ],
   "source": [
    "np.corrcoef(train[:,1], train[:,0])"
   ]
  },
  {
   "cell_type": "code",
   "execution_count": 38,
   "metadata": {},
   "outputs": [
    {
     "data": {
      "image/png": "[encoded data removed]",
      "text/plain": [
       "<Figure size 432x288 with 1 Axes>"
      ]
     },
     "metadata": {
      "needs_background": "light"
     },
     "output_type": "display_data"
    }
   ],
   "source": [
    "plt.scatter(train[:,1], train[:,0],marker=\"o\",color=\"y\")\n",
    "\n",
    "plt.xlabel('x - Calidad Materiales')\n",
    "plt.ylabel('y - Precio Venta')\n",
    "plt.title('Calidad Materiales - Precio     * Correlación = 0.7940 *')\n",
    "\n",
    "plt.show()"
   ]
  },
  {
   "cell_type": "code",
   "execution_count": 39,
   "metadata": {},
   "outputs": [
    {
     "data": {
      "text/plain": [
       "array([[1.       , 0.6162887],\n",
       "       [0.6162887, 1.       ]])"
      ]
     },
     "execution_count": 39,
     "metadata": {},
     "output_type": "execute_result"
    }
   ],
   "source": [
    "np.corrcoef(train[:,2], train[:,0])"
   ]
  },
  {
   "cell_type": "code",
   "execution_count": 40,
   "metadata": {},
   "outputs": [
    {
     "data": {
      "image/png": "[encoded data removed]",
      "text/plain": [
       "<Figure size 432x288 with 1 Axes>"
      ]
     },
     "metadata": {
      "needs_background": "light"
     },
     "output_type": "display_data"
    }
   ],
   "source": [
    "plt.scatter(train[:,2], train[:,0],marker=\"o\",color=\"y\")\n",
    "\n",
    "plt.xlabel('x - Area')\n",
    "plt.ylabel('y - Precio Venta')\n",
    "plt.title('Area - Precio    * Correlación = 0.6163 *')\n",
    "\n",
    "plt.show()"
   ]
  },
  {
   "cell_type": "code",
   "execution_count": 41,
   "metadata": {},
   "outputs": [
    {
     "data": {
      "text/plain": [
       "array([[1.        , 0.56470694],\n",
       "       [0.56470694, 1.        ]])"
      ]
     },
     "execution_count": 41,
     "metadata": {},
     "output_type": "execute_result"
    }
   ],
   "source": [
    "np.corrcoef(train[:,3], train[:,0])"
   ]
  },
  {
   "cell_type": "code",
   "execution_count": 42,
   "metadata": {},
   "outputs": [
    {
     "data": {
      "image/png": "[encoded data removed]",
      "text/plain": [
       "<Figure size 432x288 with 1 Axes>"
      ]
     },
     "metadata": {
      "needs_background": "light"
     },
     "output_type": "display_data"
    }
   ],
   "source": [
    "plt.scatter(train[:,3], train[:,0],marker=\"o\",color=\"y\")\n",
    "\n",
    "plt.xlabel('x - Cantidad Cuartos')\n",
    "plt.ylabel('y - Precio Venta')\n",
    "plt.title('Cantidad Cuartos - Precio    * Correlación = 0.5647 *')\n",
    "\n",
    "plt.show()"
   ]
  },
  {
   "cell_type": "code",
   "execution_count": 43,
   "metadata": {},
   "outputs": [
    {
     "data": {
      "text/plain": [
       "array([[1.        , 0.53417069],\n",
       "       [0.53417069, 1.        ]])"
      ]
     },
     "execution_count": 43,
     "metadata": {},
     "output_type": "execute_result"
    }
   ],
   "source": [
    "np.corrcoef(train[:,4], train[:,0])"
   ]
  },
  {
   "cell_type": "code",
   "execution_count": 44,
   "metadata": {},
   "outputs": [
    {
     "data": {
      "image/png": "[encoded data removed]",
      "text/plain": [
       "<Figure size 432x288 with 1 Axes>"
      ]
     },
     "metadata": {
      "needs_background": "light"
     },
     "output_type": "display_data"
    }
   ],
   "source": [
    "plt.scatter(train[:,4], train[:,0],marker=\"o\",color=\"y\")\n",
    "\n",
    "plt.xlabel('x - Año Construcción')\n",
    "plt.ylabel('y - Precio Venta')\n",
    "plt.title('Año Construcción - Precio    * Correlación = 0.5341 *')\n",
    "\n",
    "plt.show()"
   ]
  },
  {
   "cell_type": "code",
   "execution_count": 45,
   "metadata": {},
   "outputs": [
    {
     "data": {
      "text/plain": [
       "array([[1.        , 0.22620751],\n",
       "       [0.22620751, 1.        ]])"
      ]
     },
     "execution_count": 45,
     "metadata": {},
     "output_type": "execute_result"
    }
   ],
   "source": [
    "w = train[:,5]\n",
    "z = w[np.isnan(w) != np.isnan(x)]\n",
    "\n",
    "condicionesw = [np.isnan(w) != np.isnan(x)]\n",
    "resultadosw = [w]\n",
    "ww = np.select(condicionesw,resultadosw,0)\n",
    "\n",
    "\n",
    "np.corrcoef(ww, train[:,0])"
   ]
  },
  {
   "cell_type": "code",
   "execution_count": 46,
   "metadata": {},
   "outputs": [
    {
     "data": {
      "image/png": "[encoded data removed]",
      "text/plain": [
       "<Figure size 432x288 with 1 Axes>"
      ]
     },
     "metadata": {
      "needs_background": "light"
     },
     "output_type": "display_data"
    }
   ],
   "source": [
    "plt.scatter(train[:,5], train[:,0],marker=\"o\",color=\"y\")\n",
    "\n",
    "plt.xlabel('x - Frente Casa')\n",
    "plt.ylabel('y - Precio Venta')\n",
    "plt.title('Frente Casa - Precio    * Correlación = 0.2262 *')\n",
    "\n",
    "plt.show()"
   ]
  },
  {
   "cell_type": "markdown",
   "metadata": {},
   "source": [
    "## Elección Variables Mayor Potencial Predictivo Datos Entrenamiento"
   ]
  },
  {
   "cell_type": "markdown",
   "metadata": {},
   "source": [
    "De las cinco variables anteriores, las dos con mayor potencial predictivo son las que corresponden a:\n",
    "\n",
    "* Calidad de los materiales // train[:,1] // - correlación = 0.7940\n",
    "* Pies cuadrados (área) // train[:,2] // - correlación = 0.6163\n",
    "\n",
    "Ya que estas son las que muestran un mayor coeficiente de correlación con la variable y, precio de venta de la casa."
   ]
  },
  {
   "cell_type": "markdown",
   "metadata": {},
   "source": [
    "## Función para Entrenar Modelo de Regresión Lineal Datos Entrenamiento"
   ]
  },
  {
   "cell_type": "code",
   "execution_count": 69,
   "metadata": {},
   "outputs": [
    {
     "name": "stdout",
     "output_type": "stream",
     "text": [
      "[ 856. 1262.  920. ... 1502. 1694.  959.]\n"
     ]
    }
   ],
   "source": [
    "vectorX1 = train[:,1]\n",
    "\n",
    "vectorX2 = train[:,2]\n"
   ]
  },
  {
   "cell_type": "code",
   "execution_count": 85,
   "metadata": {},
   "outputs": [
    {
     "name": "stdout",
     "output_type": "stream",
     "text": [
      "1.8241334310927226\n",
      "1.8241347813451005\n",
      "1.8241361315985605\n",
      "1.8241374818531029\n",
      "1.8241388321087275\n",
      "1.824140182365434\n",
      "1.8241415326232227\n",
      "1.8241428828820936\n",
      "1.8241442331420465\n",
      "1.824145583403082\n",
      "1.8241469336651992\n"
     ]
    },
    {
     "data": {
      "text/plain": [
       "{0: array([ 9.99999989e+02, -1.74489250e-06]),\n",
       " 1: array([ 9.99999977e+02, -3.48978500e-06]),\n",
       " 2: array([ 9.99999966e+02, -5.23467750e-06]),\n",
       " 3: array([ 9.99999954e+02, -6.97957000e-06]),\n",
       " 4: array([ 9.99999943e+02, -8.72446251e-06]),\n",
       " 5: array([ 9.99999931e+02, -1.04693550e-05]),\n",
       " 6: array([ 9.99999920e+02, -1.22142475e-05]),\n",
       " 7: array([ 9.99999908e+02, -1.39591400e-05]),\n",
       " 8: array([ 9.99999897e+02, -1.57040325e-05]),\n",
       " 9: array([ 9.99999885e+02, -1.74489250e-05]),\n",
       " 10: array([ 9.99999874e+02, -1.91938175e-05]),\n",
       " 11: array([ 9.99999862e+02, -2.09387100e-05]),\n",
       " 12: array([ 9.99999851e+02, -2.26836026e-05]),\n",
       " 13: array([ 9.99999839e+02, -2.44284951e-05]),\n",
       " 14: array([ 9.99999828e+02, -2.61733876e-05]),\n",
       " 15: array([ 9.99999816e+02, -2.79182801e-05]),\n",
       " 16: array([ 9.99999805e+02, -2.96631726e-05]),\n",
       " 17: array([ 9.99999793e+02, -3.14080651e-05]),\n",
       " 18: array([ 9.99999782e+02, -3.31529576e-05]),\n",
       " 19: array([ 9.99999770e+02, -3.48978501e-05]),\n",
       " 20: array([ 9.99999759e+02, -3.66427427e-05]),\n",
       " 21: array([ 9.99999747e+02, -3.83876352e-05]),\n",
       " 22: array([ 9.99999736e+02, -4.01325277e-05]),\n",
       " 23: array([ 9.99999724e+02, -4.18774202e-05]),\n",
       " 24: array([ 9.99999713e+02, -4.36223127e-05]),\n",
       " 25: array([ 9.99999701e+02, -4.53672052e-05]),\n",
       " 26: array([ 9.99999690e+02, -4.71120978e-05]),\n",
       " 27: array([ 9.99999678e+02, -4.88569903e-05]),\n",
       " 28: array([ 9.99999667e+02, -5.06018828e-05]),\n",
       " 29: array([ 9.99999655e+02, -5.23467753e-05]),\n",
       " 30: array([ 9.99999644e+02, -5.40916678e-05]),\n",
       " 31: array([ 9.99999632e+02, -5.58365604e-05]),\n",
       " 32: array([ 9.99999621e+02, -5.75814529e-05]),\n",
       " 33: array([ 9.99999609e+02, -5.93263454e-05]),\n",
       " 34: array([ 9.99999598e+02, -6.10712379e-05]),\n",
       " 35: array([ 9.99999586e+02, -6.28161305e-05]),\n",
       " 36: array([ 9.99999575e+02, -6.45610230e-05]),\n",
       " 37: array([ 9.99999563e+02, -6.63059155e-05]),\n",
       " 38: array([ 9.99999552e+02, -6.80508080e-05]),\n",
       " 39: array([ 9.99999540e+02, -6.97957006e-05]),\n",
       " 40: array([ 9.99999529e+02, -7.15405931e-05]),\n",
       " 41: array([ 9.99999517e+02, -7.32854856e-05]),\n",
       " 42: array([ 9.99999506e+02, -7.50303781e-05]),\n",
       " 43: array([ 9.99999495e+02, -7.67752707e-05]),\n",
       " 44: array([ 9.99999483e+02, -7.85201632e-05]),\n",
       " 45: array([ 9.99999472e+02, -8.02650557e-05]),\n",
       " 46: array([ 9.99999460e+02, -8.20099483e-05]),\n",
       " 47: array([ 9.99999449e+02, -8.37548408e-05]),\n",
       " 48: array([ 9.99999437e+02, -8.54997333e-05]),\n",
       " 49: array([ 9.99999426e+02, -8.72446259e-05]),\n",
       " 50: array([ 9.99999414e+02, -8.89895184e-05]),\n",
       " 51: array([ 9.99999403e+02, -9.07344110e-05]),\n",
       " 52: array([ 9.99999391e+02, -9.24793035e-05]),\n",
       " 53: array([ 9.9999938e+02, -9.4224196e-05]),\n",
       " 54: array([ 9.99999368e+02, -9.59690886e-05]),\n",
       " 55: array([ 9.99999357e+02, -9.77139811e-05]),\n",
       " 56: array([ 9.99999345e+02, -9.94588736e-05]),\n",
       " 57: array([ 9.99999334e+02, -1.01203766e-04]),\n",
       " 58: array([ 9.99999322e+02, -1.02948659e-04]),\n",
       " 59: array([ 9.99999311e+02, -1.04693551e-04]),\n",
       " 60: array([ 9.99999299e+02, -1.06438444e-04]),\n",
       " 61: array([ 9.99999288e+02, -1.08183336e-04]),\n",
       " 62: array([ 9.99999276e+02, -1.09928229e-04]),\n",
       " 63: array([ 9.99999265e+02, -1.11673121e-04]),\n",
       " 64: array([ 9.99999253e+02, -1.13418014e-04]),\n",
       " 65: array([ 9.99999242e+02, -1.15162907e-04]),\n",
       " 66: array([ 9.99999230e+02, -1.16907799e-04]),\n",
       " 67: array([ 9.99999219e+02, -1.18652692e-04]),\n",
       " 68: array([ 9.99999207e+02, -1.20397584e-04]),\n",
       " 69: array([ 9.99999196e+02, -1.22142477e-04]),\n",
       " 70: array([ 9.99999184e+02, -1.23887369e-04]),\n",
       " 71: array([ 9.99999173e+02, -1.25632262e-04]),\n",
       " 72: array([ 9.99999161e+02, -1.27377154e-04]),\n",
       " 73: array([ 9.99999150e+02, -1.29122047e-04]),\n",
       " 74: array([ 9.99999138e+02, -1.30866939e-04]),\n",
       " 75: array([ 9.99999127e+02, -1.32611832e-04]),\n",
       " 76: array([ 9.99999115e+02, -1.34356725e-04]),\n",
       " 77: array([ 9.99999104e+02, -1.36101617e-04]),\n",
       " 78: array([ 9.99999092e+02, -1.37846510e-04]),\n",
       " 79: array([ 9.99999081e+02, -1.39591402e-04]),\n",
       " 80: array([ 9.99999069e+02, -1.41336295e-04]),\n",
       " 81: array([ 9.99999058e+02, -1.43081187e-04]),\n",
       " 82: array([ 9.99999046e+02, -1.44826080e-04]),\n",
       " 83: array([ 9.99999035e+02, -1.46570973e-04]),\n",
       " 84: array([ 9.99999023e+02, -1.48315865e-04]),\n",
       " 85: array([ 9.99999012e+02, -1.50060758e-04]),\n",
       " 86: array([ 9.99999001e+02, -1.51805650e-04]),\n",
       " 87: array([ 9.99998989e+02, -1.53550543e-04]),\n",
       " 88: array([ 9.99998978e+02, -1.55295435e-04]),\n",
       " 89: array([ 9.99998966e+02, -1.57040328e-04]),\n",
       " 90: array([ 9.99998955e+02, -1.58785220e-04]),\n",
       " 91: array([ 9.99998943e+02, -1.60530113e-04]),\n",
       " 92: array([ 9.99998932e+02, -1.62275006e-04]),\n",
       " 93: array([ 9.99998920e+02, -1.64019898e-04]),\n",
       " 94: array([ 9.99998909e+02, -1.65764791e-04]),\n",
       " 95: array([ 9.99998897e+02, -1.67509683e-04]),\n",
       " 96: array([ 9.99998886e+02, -1.69254576e-04]),\n",
       " 97: array([ 9.99998874e+02, -1.70999468e-04]),\n",
       " 98: array([ 9.99998863e+02, -1.72744361e-04]),\n",
       " 99: array([ 9.99998851e+02, -1.74489254e-04]),\n",
       " 100: array([ 9.99998840e+02, -1.76234146e-04]),\n",
       " 101: array([ 9.99998828e+02, -1.77979039e-04]),\n",
       " 102: array([ 9.99998817e+02, -1.79723931e-04]),\n",
       " 103: array([ 9.99998805e+02, -1.81468824e-04]),\n",
       " 104: array([ 9.99998794e+02, -1.83213716e-04]),\n",
       " 105: array([ 9.99998782e+02, -1.84958609e-04]),\n",
       " 106: array([ 9.99998771e+02, -1.86703502e-04]),\n",
       " 107: array([ 9.99998759e+02, -1.88448394e-04]),\n",
       " 108: array([ 9.99998748e+02, -1.90193287e-04]),\n",
       " 109: array([ 9.99998736e+02, -1.91938179e-04]),\n",
       " 110: array([ 9.99998725e+02, -1.93683072e-04]),\n",
       " 111: array([ 9.99998713e+02, -1.95427964e-04]),\n",
       " 112: array([ 9.99998702e+02, -1.97172857e-04]),\n",
       " 113: array([ 9.9999869e+02, -1.9891775e-04]),\n",
       " 114: array([ 9.99998679e+02, -2.00662642e-04]),\n",
       " 115: array([ 9.99998667e+02, -2.02407535e-04]),\n",
       " 116: array([ 9.99998656e+02, -2.04152427e-04]),\n",
       " 117: array([ 9.99998644e+02, -2.05897320e-04]),\n",
       " 118: array([ 9.99998633e+02, -2.07642213e-04]),\n",
       " 119: array([ 9.99998621e+02, -2.09387105e-04]),\n",
       " 120: array([ 9.99998610e+02, -2.11131998e-04]),\n",
       " 121: array([ 9.99998598e+02, -2.12876890e-04]),\n",
       " 122: array([ 9.99998587e+02, -2.14621783e-04]),\n",
       " 123: array([ 9.99998575e+02, -2.16366675e-04]),\n",
       " 124: array([ 9.99998564e+02, -2.18111568e-04]),\n",
       " 125: array([ 9.99998552e+02, -2.19856461e-04]),\n",
       " 126: array([ 9.99998541e+02, -2.21601353e-04]),\n",
       " 127: array([ 9.99998530e+02, -2.23346246e-04]),\n",
       " 128: array([ 9.99998518e+02, -2.25091138e-04]),\n",
       " 129: array([ 9.99998507e+02, -2.26836031e-04]),\n",
       " 130: array([ 9.99998495e+02, -2.28580924e-04]),\n",
       " 131: array([ 9.99998484e+02, -2.30325816e-04]),\n",
       " 132: array([ 9.99998472e+02, -2.32070709e-04]),\n",
       " 133: array([ 9.99998461e+02, -2.33815601e-04]),\n",
       " 134: array([ 9.99998449e+02, -2.35560494e-04]),\n",
       " 135: array([ 9.99998438e+02, -2.37305387e-04]),\n",
       " 136: array([ 9.99998426e+02, -2.39050279e-04]),\n",
       " 137: array([ 9.99998415e+02, -2.40795172e-04]),\n",
       " 138: array([ 9.99998403e+02, -2.42540064e-04]),\n",
       " 139: array([ 9.99998392e+02, -2.44284957e-04]),\n",
       " 140: array([ 9.9999838e+02, -2.4602985e-04]),\n",
       " 141: array([ 9.99998369e+02, -2.47774742e-04]),\n",
       " 142: array([ 9.99998357e+02, -2.49519635e-04]),\n",
       " 143: array([ 9.99998346e+02, -2.51264527e-04]),\n",
       " 144: array([ 9.99998334e+02, -2.53009420e-04]),\n",
       " 145: array([ 9.99998323e+02, -2.54754313e-04]),\n",
       " 146: array([ 9.99998311e+02, -2.56499205e-04]),\n",
       " 147: array([ 9.99998300e+02, -2.58244098e-04]),\n",
       " 148: array([ 9.99998288e+02, -2.59988990e-04]),\n",
       " 149: array([ 9.99998277e+02, -2.61733883e-04]),\n",
       " 150: array([ 9.99998265e+02, -2.63478776e-04]),\n",
       " 151: array([ 9.99998254e+02, -2.65223668e-04]),\n",
       " 152: array([ 9.99998242e+02, -2.66968561e-04]),\n",
       " 153: array([ 9.99998231e+02, -2.68713453e-04]),\n",
       " 154: array([ 9.99998219e+02, -2.70458346e-04]),\n",
       " 155: array([ 9.99998208e+02, -2.72203239e-04]),\n",
       " 156: array([ 9.99998196e+02, -2.73948131e-04]),\n",
       " 157: array([ 9.99998185e+02, -2.75693024e-04]),\n",
       " 158: array([ 9.99998173e+02, -2.77437917e-04]),\n",
       " 159: array([ 9.99998162e+02, -2.79182809e-04]),\n",
       " 160: array([ 9.99998150e+02, -2.80927702e-04]),\n",
       " 161: array([ 9.99998139e+02, -2.82672594e-04]),\n",
       " 162: array([ 9.99998127e+02, -2.84417487e-04]),\n",
       " 163: array([ 9.99998116e+02, -2.86162380e-04]),\n",
       " 164: array([ 9.99998104e+02, -2.87907272e-04]),\n",
       " 165: array([ 9.99998093e+02, -2.89652165e-04]),\n",
       " 166: array([ 9.99998081e+02, -2.91397057e-04]),\n",
       " 167: array([ 9.9999807e+02, -2.9314195e-04]),\n",
       " 168: array([ 9.99998058e+02, -2.94886843e-04]),\n",
       " 169: array([ 9.99998047e+02, -2.96631735e-04]),\n",
       " 170: array([ 9.99998036e+02, -2.98376628e-04]),\n",
       " 171: array([ 9.99998024e+02, -3.00121521e-04]),\n",
       " 172: array([ 9.99998013e+02, -3.01866413e-04]),\n",
       " 173: array([ 9.99998001e+02, -3.03611306e-04]),\n",
       " 174: array([ 9.99997990e+02, -3.05356198e-04]),\n",
       " 175: array([ 9.99997978e+02, -3.07101091e-04]),\n",
       " 176: array([ 9.99997967e+02, -3.08845984e-04]),\n",
       " 177: array([ 9.99997955e+02, -3.10590876e-04]),\n",
       " 178: array([ 9.99997944e+02, -3.12335769e-04]),\n",
       " 179: array([ 9.99997932e+02, -3.14080662e-04]),\n",
       " 180: array([ 9.99997921e+02, -3.15825554e-04]),\n",
       " 181: array([ 9.99997909e+02, -3.17570447e-04]),\n",
       " 182: array([ 9.99997898e+02, -3.19315339e-04]),\n",
       " 183: array([ 9.99997886e+02, -3.21060232e-04]),\n",
       " 184: array([ 9.99997875e+02, -3.22805125e-04]),\n",
       " 185: array([ 9.99997863e+02, -3.24550017e-04]),\n",
       " 186: array([ 9.99997852e+02, -3.26294910e-04]),\n",
       " 187: array([ 9.99997840e+02, -3.28039803e-04]),\n",
       " 188: array([ 9.99997829e+02, -3.29784695e-04]),\n",
       " 189: array([ 9.99997817e+02, -3.31529588e-04]),\n",
       " 190: array([ 9.99997806e+02, -3.33274481e-04]),\n",
       " 191: array([ 9.99997794e+02, -3.35019373e-04]),\n",
       " 192: array([ 9.99997783e+02, -3.36764266e-04]),\n",
       " 193: array([ 9.99997771e+02, -3.38509158e-04]),\n",
       " 194: array([ 9.99997760e+02, -3.40254051e-04]),\n",
       " 195: array([ 9.99997748e+02, -3.41998944e-04]),\n",
       " 196: array([ 9.99997737e+02, -3.43743836e-04]),\n",
       " 197: array([ 9.99997725e+02, -3.45488729e-04]),\n",
       " 198: array([ 9.99997714e+02, -3.47233622e-04]),\n",
       " 199: array([ 9.99997702e+02, -3.48978514e-04]),\n",
       " 200: array([ 9.99997691e+02, -3.50723407e-04]),\n",
       " 201: array([ 9.99997679e+02, -3.52468300e-04]),\n",
       " 202: array([ 9.99997668e+02, -3.54213192e-04]),\n",
       " 203: array([ 9.99997656e+02, -3.55958085e-04]),\n",
       " 204: array([ 9.99997645e+02, -3.57702978e-04]),\n",
       " 205: array([ 9.99997633e+02, -3.59447870e-04]),\n",
       " 206: array([ 9.99997622e+02, -3.61192763e-04]),\n",
       " 207: array([ 9.99997610e+02, -3.62937655e-04]),\n",
       " 208: array([ 9.99997599e+02, -3.64682548e-04]),\n",
       " 209: array([ 9.99997587e+02, -3.66427441e-04]),\n",
       " 210: array([ 9.99997576e+02, -3.68172333e-04]),\n",
       " 211: array([ 9.99997564e+02, -3.69917226e-04]),\n",
       " 212: array([ 9.99997553e+02, -3.71662119e-04]),\n",
       " 213: array([ 9.99997542e+02, -3.73407011e-04]),\n",
       " 214: array([ 9.99997530e+02, -3.75151904e-04]),\n",
       " 215: array([ 9.99997519e+02, -3.76896797e-04]),\n",
       " 216: array([ 9.99997507e+02, -3.78641689e-04]),\n",
       " 217: array([ 9.99997496e+02, -3.80386582e-04]),\n",
       " 218: array([ 9.99997484e+02, -3.82131475e-04]),\n",
       " 219: array([ 9.99997473e+02, -3.83876367e-04]),\n",
       " 220: array([ 9.99997461e+02, -3.85621260e-04]),\n",
       " 221: array([ 9.99997450e+02, -3.87366153e-04]),\n",
       " 222: array([ 9.99997438e+02, -3.89111045e-04]),\n",
       " 223: array([ 9.99997427e+02, -3.90855938e-04]),\n",
       " 224: array([ 9.99997415e+02, -3.92600831e-04]),\n",
       " 225: array([ 9.99997404e+02, -3.94345723e-04]),\n",
       " 226: array([ 9.99997392e+02, -3.96090616e-04]),\n",
       " 227: array([ 9.99997381e+02, -3.97835509e-04]),\n",
       " 228: array([ 9.99997369e+02, -3.99580401e-04]),\n",
       " 229: array([ 9.99997358e+02, -4.01325294e-04]),\n",
       " 230: array([ 9.99997346e+02, -4.03070187e-04]),\n",
       " 231: array([ 9.99997335e+02, -4.04815079e-04]),\n",
       " 232: array([ 9.99997323e+02, -4.06559972e-04]),\n",
       " 233: array([ 9.99997312e+02, -4.08304865e-04]),\n",
       " 234: array([ 9.99997300e+02, -4.10049757e-04]),\n",
       " 235: array([ 9.99997289e+02, -4.11794650e-04]),\n",
       " 236: array([ 9.99997277e+02, -4.13539543e-04]),\n",
       " 237: array([ 9.99997266e+02, -4.15284435e-04]),\n",
       " 238: array([ 9.99997254e+02, -4.17029328e-04]),\n",
       " 239: array([ 9.99997243e+02, -4.18774221e-04]),\n",
       " 240: array([ 9.99997231e+02, -4.20519113e-04]),\n",
       " 241: array([ 9.99997220e+02, -4.22264006e-04]),\n",
       " 242: array([ 9.99997208e+02, -4.24008899e-04]),\n",
       " 243: array([ 9.99997197e+02, -4.25753791e-04]),\n",
       " 244: array([ 9.99997185e+02, -4.27498684e-04]),\n",
       " 245: array([ 9.99997174e+02, -4.29243577e-04]),\n",
       " 246: array([ 9.99997162e+02, -4.30988469e-04]),\n",
       " 247: array([ 9.99997151e+02, -4.32733362e-04]),\n",
       " 248: array([ 9.99997139e+02, -4.34478255e-04]),\n",
       " 249: array([ 9.99997128e+02, -4.36223147e-04]),\n",
       " 250: array([ 9.99997116e+02, -4.37968040e-04]),\n",
       " 251: array([ 9.99997105e+02, -4.39712933e-04]),\n",
       " 252: array([ 9.99997093e+02, -4.41457825e-04]),\n",
       " 253: array([ 9.99997082e+02, -4.43202718e-04]),\n",
       " 254: array([ 9.99997070e+02, -4.44947611e-04]),\n",
       " 255: array([ 9.99997059e+02, -4.46692503e-04]),\n",
       " 256: array([ 9.99997048e+02, -4.48437396e-04]),\n",
       " 257: array([ 9.99997036e+02, -4.50182289e-04]),\n",
       " 258: array([ 9.99997025e+02, -4.51927182e-04]),\n",
       " 259: array([ 9.99997013e+02, -4.53672074e-04]),\n",
       " 260: array([ 9.99997002e+02, -4.55416967e-04]),\n",
       " 261: array([ 9.9999699e+02, -4.5716186e-04]),\n",
       " 262: array([ 9.99996979e+02, -4.58906752e-04]),\n",
       " 263: array([ 9.99996967e+02, -4.60651645e-04]),\n",
       " 264: array([ 9.99996956e+02, -4.62396538e-04]),\n",
       " 265: array([ 9.99996944e+02, -4.64141430e-04]),\n",
       " 266: array([ 9.99996933e+02, -4.65886323e-04]),\n",
       " 267: array([ 9.99996921e+02, -4.67631216e-04]),\n",
       " 268: array([ 9.99996910e+02, -4.69376108e-04]),\n",
       " 269: array([ 9.99996898e+02, -4.71121001e-04]),\n",
       " 270: array([ 9.99996887e+02, -4.72865894e-04]),\n",
       " 271: array([ 9.99996875e+02, -4.74610786e-04]),\n",
       " 272: array([ 9.99996864e+02, -4.76355679e-04]),\n",
       " 273: array([ 9.99996852e+02, -4.78100572e-04]),\n",
       " 274: array([ 9.99996841e+02, -4.79845465e-04]),\n",
       " 275: array([ 9.99996829e+02, -4.81590357e-04]),\n",
       " 276: array([ 9.99996818e+02, -4.83335250e-04]),\n",
       " 277: array([ 9.99996806e+02, -4.85080143e-04]),\n",
       " 278: array([ 9.99996795e+02, -4.86825035e-04]),\n",
       " 279: array([ 9.99996783e+02, -4.88569928e-04]),\n",
       " 280: array([ 9.99996772e+02, -4.90314821e-04]),\n",
       " 281: array([ 9.99996760e+02, -4.92059713e-04]),\n",
       " 282: array([ 9.99996749e+02, -4.93804606e-04]),\n",
       " 283: array([ 9.99996737e+02, -4.95549499e-04]),\n",
       " 284: array([ 9.99996726e+02, -4.97294392e-04]),\n",
       " 285: array([ 9.99996714e+02, -4.99039284e-04]),\n",
       " 286: array([ 9.99996703e+02, -5.00784177e-04]),\n",
       " 287: array([ 9.99996691e+02, -5.02529070e-04]),\n",
       " 288: array([ 9.99996680e+02, -5.04273962e-04]),\n",
       " 289: array([ 9.99996668e+02, -5.06018855e-04]),\n",
       " 290: array([ 9.99996657e+02, -5.07763748e-04]),\n",
       " 291: array([ 9.99996645e+02, -5.09508641e-04]),\n",
       " 292: array([ 9.99996634e+02, -5.11253533e-04]),\n",
       " 293: array([ 9.99996622e+02, -5.12998426e-04]),\n",
       " 294: array([ 9.99996611e+02, -5.14743319e-04]),\n",
       " 295: array([ 9.99996599e+02, -5.16488211e-04]),\n",
       " 296: array([ 9.99996588e+02, -5.18233104e-04]),\n",
       " 297: array([ 9.99996576e+02, -5.19977997e-04]),\n",
       " 298: array([ 9.99996565e+02, -5.21722890e-04]),\n",
       " 299: array([ 9.99996554e+02, -5.23467782e-04]),\n",
       " 300: array([ 9.99996542e+02, -5.25212675e-04]),\n",
       " 301: array([ 9.99996531e+02, -5.26957568e-04]),\n",
       " 302: array([ 9.99996519e+02, -5.28702460e-04]),\n",
       " 303: array([ 9.99996508e+02, -5.30447353e-04]),\n",
       " 304: array([ 9.99996496e+02, -5.32192246e-04]),\n",
       " 305: array([ 9.99996485e+02, -5.33937139e-04]),\n",
       " 306: array([ 9.99996473e+02, -5.35682031e-04]),\n",
       " 307: array([ 9.99996462e+02, -5.37426924e-04]),\n",
       " 308: array([ 9.99996450e+02, -5.39171817e-04]),\n",
       " 309: array([ 9.99996439e+02, -5.40916709e-04]),\n",
       " 310: array([ 9.99996427e+02, -5.42661602e-04]),\n",
       " 311: array([ 9.99996416e+02, -5.44406495e-04]),\n",
       " 312: array([ 9.99996404e+02, -5.46151388e-04]),\n",
       " 313: array([ 9.99996393e+02, -5.47896280e-04]),\n",
       " 314: array([ 9.99996381e+02, -5.49641173e-04]),\n",
       " 315: array([ 9.99996370e+02, -5.51386066e-04]),\n",
       " 316: array([ 9.99996358e+02, -5.53130958e-04]),\n",
       " 317: array([ 9.99996347e+02, -5.54875851e-04]),\n",
       " 318: array([ 9.99996335e+02, -5.56620744e-04]),\n",
       " 319: array([ 9.99996324e+02, -5.58365637e-04]),\n",
       " 320: array([ 9.99996312e+02, -5.60110529e-04]),\n",
       " 321: array([ 9.99996301e+02, -5.61855422e-04]),\n",
       " 322: array([ 9.99996289e+02, -5.63600315e-04]),\n",
       " 323: array([ 9.99996278e+02, -5.65345208e-04]),\n",
       " 324: array([ 9.99996266e+02, -5.67090100e-04]),\n",
       " 325: array([ 9.99996255e+02, -5.68834993e-04]),\n",
       " 326: array([ 9.99996243e+02, -5.70579886e-04]),\n",
       " 327: array([ 9.99996232e+02, -5.72324779e-04]),\n",
       " 328: array([ 9.99996220e+02, -5.74069671e-04]),\n",
       " 329: array([ 9.99996209e+02, -5.75814564e-04]),\n",
       " 330: array([ 9.99996197e+02, -5.77559457e-04]),\n",
       " 331: array([ 9.99996186e+02, -5.79304349e-04]),\n",
       " 332: array([ 9.99996174e+02, -5.81049242e-04]),\n",
       " 333: array([ 9.99996163e+02, -5.82794135e-04]),\n",
       " 334: array([ 9.99996151e+02, -5.84539028e-04]),\n",
       " 335: array([ 9.9999614e+02, -5.8628392e-04]),\n",
       " 336: array([ 9.99996128e+02, -5.88028813e-04]),\n",
       " 337: array([ 9.99996117e+02, -5.89773706e-04]),\n",
       " 338: array([ 9.99996105e+02, -5.91518599e-04]),\n",
       " 339: array([ 9.99996094e+02, -5.93263491e-04]),\n",
       " 340: array([ 9.99996082e+02, -5.95008384e-04]),\n",
       " 341: array([ 9.99996071e+02, -5.96753277e-04]),\n",
       " 342: array([ 9.9999606e+02, -5.9849817e-04]),\n",
       " 343: array([ 9.99996048e+02, -6.00243062e-04]),\n",
       " 344: array([ 9.99996037e+02, -6.01987955e-04]),\n",
       " 345: array([ 9.99996025e+02, -6.03732848e-04]),\n",
       " 346: array([ 9.99996014e+02, -6.05477741e-04]),\n",
       " 347: array([ 9.99996002e+02, -6.07222633e-04]),\n",
       " 348: array([ 9.99995991e+02, -6.08967526e-04]),\n",
       " 349: array([ 9.99995979e+02, -6.10712419e-04]),\n",
       " 350: array([ 9.99995968e+02, -6.12457312e-04]),\n",
       " 351: array([ 9.99995956e+02, -6.14202204e-04]),\n",
       " 352: array([ 9.99995945e+02, -6.15947097e-04]),\n",
       " 353: array([ 9.99995933e+02, -6.17691990e-04]),\n",
       " 354: array([ 9.99995922e+02, -6.19436883e-04]),\n",
       " 355: array([ 9.99995910e+02, -6.21181775e-04]),\n",
       " 356: array([ 9.99995899e+02, -6.22926668e-04]),\n",
       " 357: array([ 9.99995887e+02, -6.24671561e-04]),\n",
       " 358: array([ 9.99995876e+02, -6.26416454e-04]),\n",
       " 359: array([ 9.99995864e+02, -6.28161346e-04]),\n",
       " 360: array([ 9.99995853e+02, -6.29906239e-04]),\n",
       " 361: array([ 9.99995841e+02, -6.31651132e-04]),\n",
       " 362: array([ 9.99995830e+02, -6.33396025e-04]),\n",
       " 363: array([ 9.99995818e+02, -6.35140917e-04]),\n",
       " 364: array([ 9.99995807e+02, -6.36885810e-04]),\n",
       " 365: array([ 9.99995795e+02, -6.38630703e-04]),\n",
       " 366: array([ 9.99995784e+02, -6.40375596e-04]),\n",
       " 367: array([ 9.99995772e+02, -6.42120489e-04]),\n",
       " 368: array([ 9.99995761e+02, -6.43865381e-04]),\n",
       " 369: array([ 9.99995749e+02, -6.45610274e-04]),\n",
       " 370: array([ 9.99995738e+02, -6.47355167e-04]),\n",
       " 371: array([ 9.99995726e+02, -6.49100060e-04]),\n",
       " 372: array([ 9.99995715e+02, -6.50844952e-04]),\n",
       " 373: array([ 9.99995703e+02, -6.52589845e-04]),\n",
       " 374: array([ 9.99995692e+02, -6.54334738e-04]),\n",
       " 375: array([ 9.99995680e+02, -6.56079631e-04]),\n",
       " 376: array([ 9.99995669e+02, -6.57824523e-04]),\n",
       " 377: array([ 9.99995657e+02, -6.59569416e-04]),\n",
       " 378: array([ 9.99995646e+02, -6.61314309e-04]),\n",
       " 379: array([ 9.99995634e+02, -6.63059202e-04]),\n",
       " 380: array([ 9.99995623e+02, -6.64804095e-04]),\n",
       " 381: array([ 9.99995611e+02, -6.66548987e-04]),\n",
       " 382: array([ 9.9999560e+02, -6.6829388e-04]),\n",
       " 383: array([ 9.99995589e+02, -6.70038773e-04]),\n",
       " 384: array([ 9.99995577e+02, -6.71783666e-04]),\n",
       " 385: array([ 9.99995566e+02, -6.73528558e-04]),\n",
       " 386: array([ 9.99995554e+02, -6.75273451e-04]),\n",
       " 387: array([ 9.99995543e+02, -6.77018344e-04]),\n",
       " 388: array([ 9.99995531e+02, -6.78763237e-04]),\n",
       " 389: array([ 9.99995520e+02, -6.80508129e-04]),\n",
       " 390: array([ 9.99995508e+02, -6.82253022e-04]),\n",
       " 391: array([ 9.99995497e+02, -6.83997915e-04]),\n",
       " 392: array([ 9.99995485e+02, -6.85742808e-04]),\n",
       " 393: array([ 9.99995474e+02, -6.87487701e-04]),\n",
       " 394: array([ 9.99995462e+02, -6.89232593e-04]),\n",
       " 395: array([ 9.99995451e+02, -6.90977486e-04]),\n",
       " 396: array([ 9.99995439e+02, -6.92722379e-04]),\n",
       " 397: array([ 9.99995428e+02, -6.94467272e-04]),\n",
       " 398: array([ 9.99995416e+02, -6.96212165e-04]),\n",
       " 399: array([ 9.99995405e+02, -6.97957057e-04]),\n",
       " 400: array([ 9.99995393e+02, -6.99701950e-04]),\n",
       " 401: array([ 9.99995382e+02, -7.01446843e-04]),\n",
       " 402: array([ 9.99995370e+02, -7.03191736e-04]),\n",
       " 403: array([ 9.99995359e+02, -7.04936628e-04]),\n",
       " 404: array([ 9.99995347e+02, -7.06681521e-04]),\n",
       " 405: array([ 9.99995336e+02, -7.08426414e-04]),\n",
       " 406: array([ 9.99995324e+02, -7.10171307e-04]),\n",
       " 407: array([ 9.99995313e+02, -7.11916200e-04]),\n",
       " 408: array([ 9.99995301e+02, -7.13661092e-04]),\n",
       " 409: array([ 9.99995290e+02, -7.15405985e-04]),\n",
       " 410: array([ 9.99995278e+02, -7.17150878e-04]),\n",
       " 411: array([ 9.99995267e+02, -7.18895771e-04]),\n",
       " 412: array([ 9.99995255e+02, -7.20640664e-04]),\n",
       " 413: array([ 9.99995244e+02, -7.22385556e-04]),\n",
       " 414: array([ 9.99995232e+02, -7.24130449e-04]),\n",
       " 415: array([ 9.99995221e+02, -7.25875342e-04]),\n",
       " 416: array([ 9.99995209e+02, -7.27620235e-04]),\n",
       " 417: array([ 9.99995198e+02, -7.29365128e-04]),\n",
       " 418: array([ 9.99995186e+02, -7.31110020e-04]),\n",
       " 419: array([ 9.99995175e+02, -7.32854913e-04]),\n",
       " 420: array([ 9.99995163e+02, -7.34599806e-04]),\n",
       " 421: array([ 9.99995152e+02, -7.36344699e-04]),\n",
       " 422: array([ 9.99995140e+02, -7.38089592e-04]),\n",
       " 423: array([ 9.99995129e+02, -7.39834484e-04]),\n",
       " 424: array([ 9.99995117e+02, -7.41579377e-04]),\n",
       " 425: array([ 9.99995106e+02, -7.43324270e-04]),\n",
       " 426: array([ 9.99995095e+02, -7.45069163e-04]),\n",
       " 427: array([ 9.99995083e+02, -7.46814056e-04]),\n",
       " 428: array([ 9.99995072e+02, -7.48558948e-04]),\n",
       " 429: array([ 9.99995060e+02, -7.50303841e-04]),\n",
       " 430: array([ 9.99995049e+02, -7.52048734e-04]),\n",
       " 431: array([ 9.99995037e+02, -7.53793627e-04]),\n",
       " 432: array([ 9.99995026e+02, -7.55538520e-04]),\n",
       " 433: array([ 9.99995014e+02, -7.57283412e-04]),\n",
       " 434: array([ 9.99995003e+02, -7.59028305e-04]),\n",
       " 435: array([ 9.99994991e+02, -7.60773198e-04]),\n",
       " 436: array([ 9.99994980e+02, -7.62518091e-04]),\n",
       " 437: array([ 9.99994968e+02, -7.64262984e-04]),\n",
       " 438: array([ 9.99994957e+02, -7.66007877e-04]),\n",
       " 439: array([ 9.99994945e+02, -7.67752769e-04]),\n",
       " 440: array([ 9.99994934e+02, -7.69497662e-04]),\n",
       " 441: array([ 9.99994922e+02, -7.71242555e-04]),\n",
       " 442: array([ 9.99994911e+02, -7.72987448e-04]),\n",
       " 443: array([ 9.99994899e+02, -7.74732341e-04]),\n",
       " 444: array([ 9.99994888e+02, -7.76477233e-04]),\n",
       " 445: array([ 9.99994876e+02, -7.78222126e-04]),\n",
       " 446: array([ 9.99994865e+02, -7.79967019e-04]),\n",
       " 447: array([ 9.99994853e+02, -7.81711912e-04]),\n",
       " 448: array([ 9.99994842e+02, -7.83456805e-04]),\n",
       " 449: array([ 9.99994830e+02, -7.85201698e-04]),\n",
       " 450: array([ 9.99994819e+02, -7.86946590e-04]),\n",
       " 451: array([ 9.99994807e+02, -7.88691483e-04]),\n",
       " 452: array([ 9.99994796e+02, -7.90436376e-04]),\n",
       " 453: array([ 9.99994784e+02, -7.92181269e-04]),\n",
       " 454: array([ 9.99994773e+02, -7.93926162e-04]),\n",
       " 455: array([ 9.99994761e+02, -7.95671055e-04]),\n",
       " 456: array([ 9.99994750e+02, -7.97415947e-04]),\n",
       " 457: array([ 9.99994738e+02, -7.99160840e-04]),\n",
       " 458: array([ 9.99994727e+02, -8.00905733e-04]),\n",
       " 459: array([ 9.99994715e+02, -8.02650626e-04]),\n",
       " 460: array([ 9.99994704e+02, -8.04395519e-04]),\n",
       " 461: array([ 9.99994692e+02, -8.06140411e-04]),\n",
       " 462: array([ 9.99994681e+02, -8.07885304e-04]),\n",
       " 463: array([ 9.99994669e+02, -8.09630197e-04]),\n",
       " 464: array([ 9.99994658e+02, -8.11375090e-04]),\n",
       " 465: array([ 9.99994646e+02, -8.13119983e-04]),\n",
       " 466: array([ 9.99994635e+02, -8.14864876e-04]),\n",
       " 467: array([ 9.99994623e+02, -8.16609769e-04]),\n",
       " 468: array([ 9.99994612e+02, -8.18354661e-04]),\n",
       " 469: array([ 9.99994601e+02, -8.20099554e-04]),\n",
       " 470: array([ 9.99994589e+02, -8.21844447e-04]),\n",
       " 471: array([ 9.99994578e+02, -8.23589340e-04]),\n",
       " 472: array([ 9.99994566e+02, -8.25334233e-04]),\n",
       " 473: array([ 9.99994555e+02, -8.27079126e-04]),\n",
       " 474: array([ 9.99994543e+02, -8.28824018e-04]),\n",
       " 475: array([ 9.99994532e+02, -8.30568911e-04]),\n",
       " 476: array([ 9.99994520e+02, -8.32313804e-04]),\n",
       " 477: array([ 9.99994509e+02, -8.34058697e-04]),\n",
       " 478: array([ 9.99994497e+02, -8.35803590e-04]),\n",
       " 479: array([ 9.99994486e+02, -8.37548483e-04]),\n",
       " 480: array([ 9.99994474e+02, -8.39293375e-04]),\n",
       " 481: array([ 9.99994463e+02, -8.41038268e-04]),\n",
       " 482: array([ 9.99994451e+02, -8.42783161e-04]),\n",
       " 483: array([ 9.99994440e+02, -8.44528054e-04]),\n",
       " 484: array([ 9.99994428e+02, -8.46272947e-04]),\n",
       " 485: array([ 9.99994417e+02, -8.48017840e-04]),\n",
       " 486: array([ 9.99994405e+02, -8.49762733e-04]),\n",
       " 487: array([ 9.99994394e+02, -8.51507625e-04]),\n",
       " 488: array([ 9.99994382e+02, -8.53252518e-04]),\n",
       " 489: array([ 9.99994371e+02, -8.54997411e-04]),\n",
       " 490: array([ 9.99994359e+02, -8.56742304e-04]),\n",
       " 491: array([ 9.99994348e+02, -8.58487197e-04]),\n",
       " 492: array([ 9.99994336e+02, -8.60232090e-04]),\n",
       " 493: array([ 9.99994325e+02, -8.61976982e-04]),\n",
       " 494: array([ 9.99994313e+02, -8.63721875e-04]),\n",
       " 495: array([ 9.99994302e+02, -8.65466768e-04]),\n",
       " 496: array([ 9.99994290e+02, -8.67211661e-04]),\n",
       " 497: array([ 9.99994279e+02, -8.68956554e-04]),\n",
       " 498: array([ 9.99994267e+02, -8.70701447e-04]),\n",
       " 499: array([ 9.99994256e+02, -8.72446340e-04]),\n",
       " 500: array([ 9.99994244e+02, -8.74191232e-04]),\n",
       " 501: array([ 9.99994233e+02, -8.75936125e-04]),\n",
       " 502: array([ 9.99994221e+02, -8.77681018e-04]),\n",
       " 503: array([ 9.99994210e+02, -8.79425911e-04]),\n",
       " 504: array([ 9.99994198e+02, -8.81170804e-04]),\n",
       " 505: array([ 9.99994187e+02, -8.82915697e-04]),\n",
       " 506: array([ 9.99994175e+02, -8.84660590e-04]),\n",
       " 507: array([ 9.99994164e+02, -8.86405483e-04]),\n",
       " 508: array([ 9.99994152e+02, -8.88150375e-04]),\n",
       " 509: array([ 9.99994141e+02, -8.89895268e-04]),\n",
       " 510: array([ 9.99994129e+02, -8.91640161e-04]),\n",
       " 511: array([ 9.99994118e+02, -8.93385054e-04]),\n",
       " 512: array([ 9.99994107e+02, -8.95129947e-04]),\n",
       " 513: array([ 9.99994095e+02, -8.96874840e-04]),\n",
       " 514: array([ 9.99994084e+02, -8.98619733e-04]),\n",
       " 515: array([ 9.99994072e+02, -9.00364625e-04]),\n",
       " 516: array([ 9.99994061e+02, -9.02109518e-04]),\n",
       " 517: array([ 9.99994049e+02, -9.03854411e-04]),\n",
       " 518: array([ 9.99994038e+02, -9.05599304e-04]),\n",
       " 519: array([ 9.99994026e+02, -9.07344197e-04]),\n",
       " 520: array([ 9.99994015e+02, -9.09089090e-04]),\n",
       " 521: array([ 9.99994003e+02, -9.10833983e-04]),\n",
       " 522: array([ 9.99993992e+02, -9.12578876e-04]),\n",
       " 523: array([ 9.99993980e+02, -9.14323768e-04]),\n",
       " 524: array([ 9.99993969e+02, -9.16068661e-04]),\n",
       " 525: array([ 9.99993957e+02, -9.17813554e-04]),\n",
       " 526: array([ 9.99993946e+02, -9.19558447e-04]),\n",
       " 527: array([ 9.99993934e+02, -9.21303340e-04]),\n",
       " 528: array([ 9.99993923e+02, -9.23048233e-04]),\n",
       " 529: array([ 9.99993911e+02, -9.24793126e-04]),\n",
       " 530: array([ 9.99993900e+02, -9.26538019e-04]),\n",
       " 531: array([ 9.99993888e+02, -9.28282911e-04]),\n",
       " 532: array([ 9.99993877e+02, -9.30027804e-04]),\n",
       " 533: array([ 9.99993865e+02, -9.31772697e-04]),\n",
       " 534: array([ 9.99993854e+02, -9.33517590e-04]),\n",
       " 535: array([ 9.99993842e+02, -9.35262483e-04]),\n",
       " 536: array([ 9.99993831e+02, -9.37007376e-04]),\n",
       " 537: array([ 9.99993819e+02, -9.38752269e-04]),\n",
       " 538: array([ 9.99993808e+02, -9.40497162e-04]),\n",
       " 539: array([ 9.99993796e+02, -9.42242055e-04]),\n",
       " 540: array([ 9.99993785e+02, -9.43986947e-04]),\n",
       " 541: array([ 9.99993773e+02, -9.45731840e-04]),\n",
       " 542: array([ 9.99993762e+02, -9.47476733e-04]),\n",
       " 543: array([ 9.99993750e+02, -9.49221626e-04]),\n",
       " 544: array([ 9.99993739e+02, -9.50966519e-04]),\n",
       " 545: array([ 9.99993727e+02, -9.52711412e-04]),\n",
       " 546: array([ 9.99993716e+02, -9.54456305e-04]),\n",
       " 547: array([ 9.99993704e+02, -9.56201198e-04]),\n",
       " 548: array([ 9.99993693e+02, -9.57946091e-04]),\n",
       " 549: array([ 9.99993681e+02, -9.59690983e-04]),\n",
       " 550: array([ 9.99993670e+02, -9.61435876e-04]),\n",
       " 551: array([ 9.99993658e+02, -9.63180769e-04]),\n",
       " 552: array([ 9.99993647e+02, -9.64925662e-04]),\n",
       " 553: array([ 9.99993635e+02, -9.66670555e-04]),\n",
       " 554: array([ 9.99993624e+02, -9.68415448e-04]),\n",
       " 555: array([ 9.99993613e+02, -9.70160341e-04]),\n",
       " 556: array([ 9.99993601e+02, -9.71905234e-04]),\n",
       " 557: array([ 9.99993590e+02, -9.73650127e-04]),\n",
       " 558: array([ 9.99993578e+02, -9.75395020e-04]),\n",
       " 559: array([ 9.99993567e+02, -9.77139912e-04]),\n",
       " 560: array([ 9.99993555e+02, -9.78884805e-04]),\n",
       " 561: array([ 9.99993544e+02, -9.80629698e-04]),\n",
       " 562: array([ 9.99993532e+02, -9.82374591e-04]),\n",
       " 563: array([ 9.99993521e+02, -9.84119484e-04]),\n",
       " 564: array([ 9.99993509e+02, -9.85864377e-04]),\n",
       " 565: array([ 9.99993498e+02, -9.87609270e-04]),\n",
       " 566: array([ 9.99993486e+02, -9.89354163e-04]),\n",
       " 567: array([ 9.99993475e+02, -9.91099056e-04]),\n",
       " 568: array([ 9.99993463e+02, -9.92843949e-04]),\n",
       " 569: array([ 9.99993452e+02, -9.94588841e-04]),\n",
       " 570: array([ 9.99993440e+02, -9.96333734e-04]),\n",
       " 571: array([ 9.99993429e+02, -9.98078627e-04]),\n",
       " 572: array([ 9.99993417e+02, -9.99823520e-04]),\n",
       " 573: array([ 9.99993406e+02, -1.00156841e-03]),\n",
       " 574: array([ 9.99993394e+02, -1.00331331e-03]),\n",
       " 575: array([ 9.99993383e+02, -1.00505820e-03]),\n",
       " 576: array([ 9.99993371e+02, -1.00680309e-03]),\n",
       " 577: array([ 9.99993360e+02, -1.00854798e-03]),\n",
       " 578: array([ 9.99993348e+02, -1.01029288e-03]),\n",
       " 579: array([ 9.99993337e+02, -1.01203777e-03]),\n",
       " 580: array([ 9.99993325e+02, -1.01378266e-03]),\n",
       " 581: array([ 9.99993314e+02, -1.01552756e-03]),\n",
       " 582: array([ 9.99993302e+02, -1.01727245e-03]),\n",
       " 583: array([ 9.99993291e+02, -1.01901734e-03]),\n",
       " 584: array([ 9.99993279e+02, -1.02076224e-03]),\n",
       " 585: array([ 9.99993268e+02, -1.02250713e-03]),\n",
       " 586: array([ 9.99993256e+02, -1.02425202e-03]),\n",
       " 587: array([ 9.99993245e+02, -1.02599691e-03]),\n",
       " 588: array([ 9.99993233e+02, -1.02774181e-03]),\n",
       " 589: array([ 9.99993222e+02, -1.02948670e-03]),\n",
       " 590: array([ 9.99993210e+02, -1.03123159e-03]),\n",
       " 591: array([ 9.99993199e+02, -1.03297649e-03]),\n",
       " 592: array([ 9.99993187e+02, -1.03472138e-03]),\n",
       " 593: array([ 9.99993176e+02, -1.03646627e-03]),\n",
       " 594: array([ 9.99993164e+02, -1.03821116e-03]),\n",
       " 595: array([ 9.99993153e+02, -1.03995606e-03]),\n",
       " 596: array([ 9.99993141e+02, -1.04170095e-03]),\n",
       " 597: array([ 9.99993130e+02, -1.04344584e-03]),\n",
       " 598: array([ 9.99993119e+02, -1.04519074e-03]),\n",
       " 599: array([ 9.99993107e+02, -1.04693563e-03]),\n",
       " 600: array([ 9.99993096e+02, -1.04868052e-03]),\n",
       " 601: array([ 9.99993084e+02, -1.05042541e-03]),\n",
       " 602: array([ 9.99993073e+02, -1.05217031e-03]),\n",
       " 603: array([ 9.99993061e+02, -1.05391520e-03]),\n",
       " 604: array([ 9.99993050e+02, -1.05566009e-03]),\n",
       " 605: array([ 9.99993038e+02, -1.05740499e-03]),\n",
       " 606: array([ 9.99993027e+02, -1.05914988e-03]),\n",
       " 607: array([ 9.99993015e+02, -1.06089477e-03]),\n",
       " 608: array([ 9.99993004e+02, -1.06263967e-03]),\n",
       " 609: array([ 9.99992992e+02, -1.06438456e-03]),\n",
       " 610: array([ 9.99992981e+02, -1.06612945e-03]),\n",
       " 611: array([ 9.99992969e+02, -1.06787434e-03]),\n",
       " 612: array([ 9.99992958e+02, -1.06961924e-03]),\n",
       " 613: array([ 9.99992946e+02, -1.07136413e-03]),\n",
       " 614: array([ 9.99992935e+02, -1.07310902e-03]),\n",
       " 615: array([ 9.99992923e+02, -1.07485392e-03]),\n",
       " 616: array([ 9.99992912e+02, -1.07659881e-03]),\n",
       " 617: array([ 9.9999290e+02, -1.0783437e-03]),\n",
       " 618: array([ 9.99992889e+02, -1.08008859e-03]),\n",
       " 619: array([ 9.99992877e+02, -1.08183349e-03]),\n",
       " 620: array([ 9.99992866e+02, -1.08357838e-03]),\n",
       " 621: array([ 9.99992854e+02, -1.08532327e-03]),\n",
       " 622: array([ 9.99992843e+02, -1.08706817e-03]),\n",
       " 623: array([ 9.99992831e+02, -1.08881306e-03]),\n",
       " 624: array([ 9.99992820e+02, -1.09055795e-03]),\n",
       " 625: array([ 9.99992808e+02, -1.09230285e-03]),\n",
       " 626: array([ 9.99992797e+02, -1.09404774e-03]),\n",
       " 627: array([ 9.99992785e+02, -1.09579263e-03]),\n",
       " 628: array([ 9.99992774e+02, -1.09753752e-03]),\n",
       " 629: array([ 9.99992762e+02, -1.09928242e-03]),\n",
       " 630: array([ 9.99992751e+02, -1.10102731e-03]),\n",
       " 631: array([ 9.99992739e+02, -1.10277220e-03]),\n",
       " 632: array([ 9.99992728e+02, -1.10451710e-03]),\n",
       " 633: array([ 9.99992716e+02, -1.10626199e-03]),\n",
       " 634: array([ 9.99992705e+02, -1.10800688e-03]),\n",
       " 635: array([ 9.99992693e+02, -1.10975178e-03]),\n",
       " 636: array([ 9.99992682e+02, -1.11149667e-03]),\n",
       " 637: array([ 9.99992670e+02, -1.11324156e-03]),\n",
       " 638: array([ 9.99992659e+02, -1.11498645e-03]),\n",
       " 639: array([ 9.99992648e+02, -1.11673135e-03]),\n",
       " 640: array([ 9.99992636e+02, -1.11847624e-03]),\n",
       " 641: array([ 9.99992625e+02, -1.12022113e-03]),\n",
       " 642: array([ 9.99992613e+02, -1.12196603e-03]),\n",
       " 643: array([ 9.99992602e+02, -1.12371092e-03]),\n",
       " 644: array([ 9.99992590e+02, -1.12545581e-03]),\n",
       " 645: array([ 9.99992579e+02, -1.12720070e-03]),\n",
       " 646: array([ 9.99992567e+02, -1.12894560e-03]),\n",
       " 647: array([ 9.99992556e+02, -1.13069049e-03]),\n",
       " 648: array([ 9.99992544e+02, -1.13243538e-03]),\n",
       " 649: array([ 9.99992533e+02, -1.13418028e-03]),\n",
       " 650: array([ 9.99992521e+02, -1.13592517e-03]),\n",
       " 651: array([ 9.99992510e+02, -1.13767006e-03]),\n",
       " 652: array([ 9.99992498e+02, -1.13941496e-03]),\n",
       " 653: array([ 9.99992487e+02, -1.14115985e-03]),\n",
       " 654: array([ 9.99992475e+02, -1.14290474e-03]),\n",
       " 655: array([ 9.99992464e+02, -1.14464963e-03]),\n",
       " 656: array([ 9.99992452e+02, -1.14639453e-03]),\n",
       " 657: array([ 9.99992441e+02, -1.14813942e-03]),\n",
       " 658: array([ 9.99992429e+02, -1.14988431e-03]),\n",
       " 659: array([ 9.99992418e+02, -1.15162921e-03]),\n",
       " 660: array([ 9.99992406e+02, -1.15337410e-03]),\n",
       " 661: array([ 9.99992395e+02, -1.15511899e-03]),\n",
       " 662: array([ 9.99992383e+02, -1.15686389e-03]),\n",
       " 663: array([ 9.99992372e+02, -1.15860878e-03]),\n",
       " 664: array([ 9.99992360e+02, -1.16035367e-03]),\n",
       " 665: array([ 9.99992349e+02, -1.16209856e-03]),\n",
       " 666: array([ 9.99992337e+02, -1.16384346e-03]),\n",
       " 667: array([ 9.99992326e+02, -1.16558835e-03]),\n",
       " 668: array([ 9.99992314e+02, -1.16733324e-03]),\n",
       " 669: array([ 9.99992303e+02, -1.16907814e-03]),\n",
       " 670: array([ 9.99992291e+02, -1.17082303e-03]),\n",
       " 671: array([ 9.99992280e+02, -1.17256792e-03]),\n",
       " 672: array([ 9.99992268e+02, -1.17431281e-03]),\n",
       " 673: array([ 9.99992257e+02, -1.17605771e-03]),\n",
       " 674: array([ 9.99992245e+02, -1.17780260e-03]),\n",
       " 675: array([ 9.99992234e+02, -1.17954749e-03]),\n",
       " 676: array([ 9.99992222e+02, -1.18129239e-03]),\n",
       " 677: array([ 9.99992211e+02, -1.18303728e-03]),\n",
       " 678: array([ 9.99992199e+02, -1.18478217e-03]),\n",
       " 679: array([ 9.99992188e+02, -1.18652707e-03]),\n",
       " 680: array([ 9.99992176e+02, -1.18827196e-03]),\n",
       " 681: array([ 9.99992165e+02, -1.19001685e-03]),\n",
       " 682: array([ 9.99992154e+02, -1.19176174e-03]),\n",
       " 683: array([ 9.99992142e+02, -1.19350664e-03]),\n",
       " 684: array([ 9.99992131e+02, -1.19525153e-03]),\n",
       " 685: array([ 9.99992119e+02, -1.19699642e-03]),\n",
       " 686: array([ 9.99992108e+02, -1.19874132e-03]),\n",
       " 687: array([ 9.99992096e+02, -1.20048621e-03]),\n",
       " 688: array([ 9.99992085e+02, -1.20223110e-03]),\n",
       " 689: array([ 9.99992073e+02, -1.20397600e-03]),\n",
       " 690: array([ 9.99992062e+02, -1.20572089e-03]),\n",
       " 691: array([ 9.99992050e+02, -1.20746578e-03]),\n",
       " 692: array([ 9.99992039e+02, -1.20921067e-03]),\n",
       " 693: array([ 9.99992027e+02, -1.21095557e-03]),\n",
       " 694: array([ 9.99992016e+02, -1.21270046e-03]),\n",
       " 695: array([ 9.99992004e+02, -1.21444535e-03]),\n",
       " 696: array([ 9.99991993e+02, -1.21619025e-03]),\n",
       " 697: array([ 9.99991981e+02, -1.21793514e-03]),\n",
       " 698: array([ 9.99991970e+02, -1.21968003e-03]),\n",
       " 699: array([ 9.99991958e+02, -1.22142493e-03]),\n",
       " 700: array([ 9.99991947e+02, -1.22316982e-03]),\n",
       " 701: array([ 9.99991935e+02, -1.22491471e-03]),\n",
       " 702: array([ 9.99991924e+02, -1.22665960e-03]),\n",
       " 703: array([ 9.99991912e+02, -1.22840450e-03]),\n",
       " 704: array([ 9.99991901e+02, -1.23014939e-03]),\n",
       " 705: array([ 9.99991889e+02, -1.23189428e-03]),\n",
       " 706: array([ 9.99991878e+02, -1.23363918e-03]),\n",
       " 707: array([ 9.99991866e+02, -1.23538407e-03]),\n",
       " 708: array([ 9.99991855e+02, -1.23712896e-03]),\n",
       " 709: array([ 9.99991843e+02, -1.23887386e-03]),\n",
       " 710: array([ 9.99991832e+02, -1.24061875e-03]),\n",
       " 711: array([ 9.99991820e+02, -1.24236364e-03]),\n",
       " 712: array([ 9.99991809e+02, -1.24410853e-03]),\n",
       " 713: array([ 9.99991797e+02, -1.24585343e-03]),\n",
       " 714: array([ 9.99991786e+02, -1.24759832e-03]),\n",
       " 715: array([ 9.99991774e+02, -1.24934321e-03]),\n",
       " 716: array([ 9.99991763e+02, -1.25108811e-03]),\n",
       " 717: array([ 9.99991751e+02, -1.25283300e-03]),\n",
       " 718: array([ 9.99991740e+02, -1.25457789e-03]),\n",
       " 719: array([ 9.99991728e+02, -1.25632279e-03]),\n",
       " 720: array([ 9.99991717e+02, -1.25806768e-03]),\n",
       " 721: array([ 9.99991705e+02, -1.25981257e-03]),\n",
       " 722: array([ 9.99991694e+02, -1.26155746e-03]),\n",
       " 723: array([ 9.99991682e+02, -1.26330236e-03]),\n",
       " 724: array([ 9.99991671e+02, -1.26504725e-03]),\n",
       " 725: array([ 9.99991660e+02, -1.26679214e-03]),\n",
       " 726: array([ 9.99991648e+02, -1.26853704e-03]),\n",
       " 727: array([ 9.99991637e+02, -1.27028193e-03]),\n",
       " 728: array([ 9.99991625e+02, -1.27202682e-03]),\n",
       " 729: array([ 9.99991614e+02, -1.27377172e-03]),\n",
       " 730: array([ 9.99991602e+02, -1.27551661e-03]),\n",
       " 731: array([ 9.99991591e+02, -1.27726150e-03]),\n",
       " 732: array([ 9.99991579e+02, -1.27900640e-03]),\n",
       " 733: array([ 9.99991568e+02, -1.28075129e-03]),\n",
       " 734: array([ 9.99991556e+02, -1.28249618e-03]),\n",
       " 735: array([ 9.99991545e+02, -1.28424107e-03]),\n",
       " 736: array([ 9.99991533e+02, -1.28598597e-03]),\n",
       " 737: array([ 9.99991522e+02, -1.28773086e-03]),\n",
       " 738: array([ 9.99991510e+02, -1.28947575e-03]),\n",
       " 739: array([ 9.99991499e+02, -1.29122065e-03]),\n",
       " 740: array([ 9.99991487e+02, -1.29296554e-03]),\n",
       " 741: array([ 9.99991476e+02, -1.29471043e-03]),\n",
       " 742: array([ 9.99991464e+02, -1.29645533e-03]),\n",
       " 743: array([ 9.99991453e+02, -1.29820022e-03]),\n",
       " 744: array([ 9.99991441e+02, -1.29994511e-03]),\n",
       " 745: array([ 9.9999143e+02, -1.3016900e-03]),\n",
       " 746: array([ 9.99991418e+02, -1.30343490e-03]),\n",
       " 747: array([ 9.99991407e+02, -1.30517979e-03]),\n",
       " 748: array([ 9.99991395e+02, -1.30692468e-03]),\n",
       " 749: array([ 9.99991384e+02, -1.30866958e-03]),\n",
       " 750: array([ 9.99991372e+02, -1.31041447e-03]),\n",
       " 751: array([ 9.99991361e+02, -1.31215936e-03]),\n",
       " 752: array([ 9.99991349e+02, -1.31390426e-03]),\n",
       " 753: array([ 9.99991338e+02, -1.31564915e-03]),\n",
       " 754: array([ 9.99991326e+02, -1.31739404e-03]),\n",
       " 755: array([ 9.99991315e+02, -1.31913894e-03]),\n",
       " 756: array([ 9.99991303e+02, -1.32088383e-03]),\n",
       " 757: array([ 9.99991292e+02, -1.32262872e-03]),\n",
       " 758: array([ 9.99991280e+02, -1.32437361e-03]),\n",
       " 759: array([ 9.99991269e+02, -1.32611851e-03]),\n",
       " 760: array([ 9.99991257e+02, -1.32786340e-03]),\n",
       " 761: array([ 9.99991246e+02, -1.32960829e-03]),\n",
       " 762: array([ 9.99991234e+02, -1.33135319e-03]),\n",
       " 763: array([ 9.99991223e+02, -1.33309808e-03]),\n",
       " 764: array([ 9.99991211e+02, -1.33484297e-03]),\n",
       " 765: array([ 9.99991200e+02, -1.33658787e-03]),\n",
       " 766: array([ 9.99991188e+02, -1.33833276e-03]),\n",
       " 767: array([ 9.99991177e+02, -1.34007765e-03]),\n",
       " 768: array([ 9.99991166e+02, -1.34182254e-03]),\n",
       " 769: array([ 9.99991154e+02, -1.34356744e-03]),\n",
       " 770: array([ 9.99991143e+02, -1.34531233e-03]),\n",
       " 771: array([ 9.99991131e+02, -1.34705722e-03]),\n",
       " 772: array([ 9.99991120e+02, -1.34880212e-03]),\n",
       " 773: array([ 9.99991108e+02, -1.35054701e-03]),\n",
       " 774: array([ 9.99991097e+02, -1.35229190e-03]),\n",
       " 775: array([ 9.99991085e+02, -1.35403680e-03]),\n",
       " 776: array([ 9.99991074e+02, -1.35578169e-03]),\n",
       " 777: array([ 9.99991062e+02, -1.35752658e-03]),\n",
       " 778: array([ 9.99991051e+02, -1.35927148e-03]),\n",
       " 779: array([ 9.99991039e+02, -1.36101637e-03]),\n",
       " 780: array([ 9.99991028e+02, -1.36276126e-03]),\n",
       " 781: array([ 9.99991016e+02, -1.36450615e-03]),\n",
       " 782: array([ 9.99991005e+02, -1.36625105e-03]),\n",
       " 783: array([ 9.99990993e+02, -1.36799594e-03]),\n",
       " 784: array([ 9.99990982e+02, -1.36974083e-03]),\n",
       " 785: array([ 9.99990970e+02, -1.37148573e-03]),\n",
       " 786: array([ 9.99990959e+02, -1.37323062e-03]),\n",
       " 787: array([ 9.99990947e+02, -1.37497551e-03]),\n",
       " 788: array([ 9.99990936e+02, -1.37672041e-03]),\n",
       " 789: array([ 9.99990924e+02, -1.37846530e-03]),\n",
       " 790: array([ 9.99990913e+02, -1.38021019e-03]),\n",
       " 791: array([ 9.99990901e+02, -1.38195509e-03]),\n",
       " 792: array([ 9.99990890e+02, -1.38369998e-03]),\n",
       " 793: array([ 9.99990878e+02, -1.38544487e-03]),\n",
       " 794: array([ 9.99990867e+02, -1.38718976e-03]),\n",
       " 795: array([ 9.99990855e+02, -1.38893466e-03]),\n",
       " 796: array([ 9.99990844e+02, -1.39067955e-03]),\n",
       " 797: array([ 9.99990832e+02, -1.39242444e-03]),\n",
       " 798: array([ 9.99990821e+02, -1.39416934e-03]),\n",
       " 799: array([ 9.99990809e+02, -1.39591423e-03]),\n",
       " 800: array([ 9.99990798e+02, -1.39765912e-03]),\n",
       " 801: array([ 9.99990786e+02, -1.39940402e-03]),\n",
       " 802: array([ 9.99990775e+02, -1.40114891e-03]),\n",
       " 803: array([ 9.99990763e+02, -1.40289380e-03]),\n",
       " 804: array([ 9.99990752e+02, -1.40463869e-03]),\n",
       " 805: array([ 9.99990740e+02, -1.40638359e-03]),\n",
       " 806: array([ 9.99990729e+02, -1.40812848e-03]),\n",
       " 807: array([ 9.99990717e+02, -1.40987337e-03]),\n",
       " 808: array([ 9.99990706e+02, -1.41161827e-03]),\n",
       " 809: array([ 9.99990694e+02, -1.41336316e-03]),\n",
       " 810: array([ 9.99990683e+02, -1.41510805e-03]),\n",
       " 811: array([ 9.99990672e+02, -1.41685295e-03]),\n",
       " 812: array([ 9.99990660e+02, -1.41859784e-03]),\n",
       " 813: array([ 9.99990649e+02, -1.42034273e-03]),\n",
       " 814: array([ 9.99990637e+02, -1.42208763e-03]),\n",
       " 815: array([ 9.99990626e+02, -1.42383252e-03]),\n",
       " 816: array([ 9.99990614e+02, -1.42557741e-03]),\n",
       " 817: array([ 9.99990603e+02, -1.42732231e-03]),\n",
       " 818: array([ 9.99990591e+02, -1.42906720e-03]),\n",
       " 819: array([ 9.99990580e+02, -1.43081209e-03]),\n",
       " 820: array([ 9.99990568e+02, -1.43255698e-03]),\n",
       " 821: array([ 9.99990557e+02, -1.43430188e-03]),\n",
       " 822: array([ 9.99990545e+02, -1.43604677e-03]),\n",
       " 823: array([ 9.99990534e+02, -1.43779166e-03]),\n",
       " 824: array([ 9.99990522e+02, -1.43953656e-03]),\n",
       " 825: array([ 9.99990511e+02, -1.44128145e-03]),\n",
       " 826: array([ 9.99990499e+02, -1.44302634e-03]),\n",
       " 827: array([ 9.99990488e+02, -1.44477124e-03]),\n",
       " 828: array([ 9.99990476e+02, -1.44651613e-03]),\n",
       " 829: array([ 9.99990465e+02, -1.44826102e-03]),\n",
       " 830: array([ 9.99990453e+02, -1.45000592e-03]),\n",
       " 831: array([ 9.99990442e+02, -1.45175081e-03]),\n",
       " 832: array([ 9.9999043e+02, -1.4534957e-03]),\n",
       " 833: array([ 9.99990419e+02, -1.45524059e-03]),\n",
       " 834: array([ 9.99990407e+02, -1.45698549e-03]),\n",
       " 835: array([ 9.99990396e+02, -1.45873038e-03]),\n",
       " 836: array([ 9.99990384e+02, -1.46047527e-03]),\n",
       " 837: array([ 9.99990373e+02, -1.46222017e-03]),\n",
       " 838: array([ 9.99990361e+02, -1.46396506e-03]),\n",
       " 839: array([ 9.99990350e+02, -1.46570995e-03]),\n",
       " 840: array([ 9.99990338e+02, -1.46745485e-03]),\n",
       " 841: array([ 9.99990327e+02, -1.46919974e-03]),\n",
       " 842: array([ 9.99990315e+02, -1.47094463e-03]),\n",
       " 843: array([ 9.99990304e+02, -1.47268953e-03]),\n",
       " 844: array([ 9.99990292e+02, -1.47443442e-03]),\n",
       " 845: array([ 9.99990281e+02, -1.47617931e-03]),\n",
       " 846: array([ 9.99990269e+02, -1.47792420e-03]),\n",
       " 847: array([ 9.99990258e+02, -1.47966910e-03]),\n",
       " 848: array([ 9.99990246e+02, -1.48141399e-03]),\n",
       " 849: array([ 9.99990235e+02, -1.48315888e-03]),\n",
       " 850: array([ 9.99990223e+02, -1.48490378e-03]),\n",
       " 851: array([ 9.99990212e+02, -1.48664867e-03]),\n",
       " 852: array([ 9.99990200e+02, -1.48839356e-03]),\n",
       " 853: array([ 9.99990189e+02, -1.49013846e-03]),\n",
       " 854: array([ 9.99990178e+02, -1.49188335e-03]),\n",
       " 855: array([ 9.99990166e+02, -1.49362824e-03]),\n",
       " 856: array([ 9.99990155e+02, -1.49537314e-03]),\n",
       " 857: array([ 9.99990143e+02, -1.49711803e-03]),\n",
       " 858: array([ 9.99990132e+02, -1.49886292e-03]),\n",
       " 859: array([ 9.99990120e+02, -1.50060782e-03]),\n",
       " 860: array([ 9.99990109e+02, -1.50235271e-03]),\n",
       " 861: array([ 9.99990097e+02, -1.50409760e-03]),\n",
       " 862: array([ 9.99990086e+02, -1.50584249e-03]),\n",
       " 863: array([ 9.99990074e+02, -1.50758739e-03]),\n",
       " 864: array([ 9.99990063e+02, -1.50933228e-03]),\n",
       " 865: array([ 9.99990051e+02, -1.51107717e-03]),\n",
       " 866: array([ 9.99990040e+02, -1.51282207e-03]),\n",
       " 867: array([ 9.99990028e+02, -1.51456696e-03]),\n",
       " 868: array([ 9.99990017e+02, -1.51631185e-03]),\n",
       " 869: array([ 9.99990005e+02, -1.51805675e-03]),\n",
       " 870: array([ 9.99989994e+02, -1.51980164e-03]),\n",
       " 871: array([ 9.99989982e+02, -1.52154653e-03]),\n",
       " 872: array([ 9.99989971e+02, -1.52329143e-03]),\n",
       " 873: array([ 9.99989959e+02, -1.52503632e-03]),\n",
       " 874: array([ 9.99989948e+02, -1.52678121e-03]),\n",
       " 875: array([ 9.99989936e+02, -1.52852611e-03]),\n",
       " 876: array([ 9.99989925e+02, -1.53027100e-03]),\n",
       " 877: array([ 9.99989913e+02, -1.53201589e-03]),\n",
       " 878: array([ 9.99989902e+02, -1.53376078e-03]),\n",
       " 879: array([ 9.99989890e+02, -1.53550568e-03]),\n",
       " 880: array([ 9.99989879e+02, -1.53725057e-03]),\n",
       " 881: array([ 9.99989867e+02, -1.53899546e-03]),\n",
       " 882: array([ 9.99989856e+02, -1.54074036e-03]),\n",
       " 883: array([ 9.99989844e+02, -1.54248525e-03]),\n",
       " 884: array([ 9.99989833e+02, -1.54423014e-03]),\n",
       " 885: array([ 9.99989821e+02, -1.54597504e-03]),\n",
       " 886: array([ 9.99989810e+02, -1.54771993e-03]),\n",
       " 887: array([ 9.99989798e+02, -1.54946482e-03]),\n",
       " 888: array([ 9.99989787e+02, -1.55120972e-03]),\n",
       " 889: array([ 9.99989775e+02, -1.55295461e-03]),\n",
       " 890: array([ 9.99989764e+02, -1.55469950e-03]),\n",
       " 891: array([ 9.99989752e+02, -1.55644440e-03]),\n",
       " 892: array([ 9.99989741e+02, -1.55818929e-03]),\n",
       " 893: array([ 9.99989729e+02, -1.55993418e-03]),\n",
       " 894: array([ 9.99989718e+02, -1.56167907e-03]),\n",
       " 895: array([ 9.99989707e+02, -1.56342397e-03]),\n",
       " 896: array([ 9.99989695e+02, -1.56516886e-03]),\n",
       " 897: array([ 9.99989684e+02, -1.56691375e-03]),\n",
       " 898: array([ 9.99989672e+02, -1.56865865e-03]),\n",
       " 899: array([ 9.99989661e+02, -1.57040354e-03]),\n",
       " 900: array([ 9.99989649e+02, -1.57214843e-03]),\n",
       " 901: array([ 9.99989638e+02, -1.57389333e-03]),\n",
       " 902: array([ 9.99989626e+02, -1.57563822e-03]),\n",
       " 903: array([ 9.99989615e+02, -1.57738311e-03]),\n",
       " 904: array([ 9.99989603e+02, -1.57912801e-03]),\n",
       " 905: array([ 9.99989592e+02, -1.58087290e-03]),\n",
       " 906: array([ 9.99989580e+02, -1.58261779e-03]),\n",
       " 907: array([ 9.99989569e+02, -1.58436269e-03]),\n",
       " 908: array([ 9.99989557e+02, -1.58610758e-03]),\n",
       " 909: array([ 9.99989546e+02, -1.58785247e-03]),\n",
       " 910: array([ 9.99989534e+02, -1.58959737e-03]),\n",
       " 911: array([ 9.99989523e+02, -1.59134226e-03]),\n",
       " 912: array([ 9.99989511e+02, -1.59308715e-03]),\n",
       " 913: array([ 9.99989500e+02, -1.59483204e-03]),\n",
       " 914: array([ 9.99989488e+02, -1.59657694e-03]),\n",
       " 915: array([ 9.99989477e+02, -1.59832183e-03]),\n",
       " 916: array([ 9.99989465e+02, -1.60006672e-03]),\n",
       " 917: array([ 9.99989454e+02, -1.60181162e-03]),\n",
       " 918: array([ 9.99989442e+02, -1.60355651e-03]),\n",
       " 919: array([ 9.99989431e+02, -1.60530140e-03]),\n",
       " 920: array([ 9.99989419e+02, -1.60704630e-03]),\n",
       " 921: array([ 9.99989408e+02, -1.60879119e-03]),\n",
       " 922: array([ 9.99989396e+02, -1.61053608e-03]),\n",
       " 923: array([ 9.99989385e+02, -1.61228098e-03]),\n",
       " 924: array([ 9.99989373e+02, -1.61402587e-03]),\n",
       " 925: array([ 9.99989362e+02, -1.61577076e-03]),\n",
       " 926: array([ 9.99989350e+02, -1.61751566e-03]),\n",
       " 927: array([ 9.99989339e+02, -1.61926055e-03]),\n",
       " 928: array([ 9.99989327e+02, -1.62100544e-03]),\n",
       " 929: array([ 9.99989316e+02, -1.62275034e-03]),\n",
       " 930: array([ 9.99989304e+02, -1.62449523e-03]),\n",
       " 931: array([ 9.99989293e+02, -1.62624012e-03]),\n",
       " 932: array([ 9.99989281e+02, -1.62798501e-03]),\n",
       " 933: array([ 9.99989270e+02, -1.62972991e-03]),\n",
       " 934: array([ 9.99989258e+02, -1.63147480e-03]),\n",
       " 935: array([ 9.99989247e+02, -1.63321969e-03]),\n",
       " 936: array([ 9.99989235e+02, -1.63496459e-03]),\n",
       " 937: array([ 9.99989224e+02, -1.63670948e-03]),\n",
       " 938: array([ 9.99989213e+02, -1.63845437e-03]),\n",
       " 939: array([ 9.99989201e+02, -1.64019927e-03]),\n",
       " 940: array([ 9.99989190e+02, -1.64194416e-03]),\n",
       " 941: array([ 9.99989178e+02, -1.64368905e-03]),\n",
       " 942: array([ 9.99989167e+02, -1.64543395e-03]),\n",
       " 943: array([ 9.99989155e+02, -1.64717884e-03]),\n",
       " 944: array([ 9.99989144e+02, -1.64892373e-03]),\n",
       " 945: array([ 9.99989132e+02, -1.65066863e-03]),\n",
       " 946: array([ 9.99989121e+02, -1.65241352e-03]),\n",
       " 947: array([ 9.99989109e+02, -1.65415841e-03]),\n",
       " 948: array([ 9.99989098e+02, -1.65590331e-03]),\n",
       " 949: array([ 9.99989086e+02, -1.65764820e-03]),\n",
       " 950: array([ 9.99989075e+02, -1.65939309e-03]),\n",
       " 951: array([ 9.99989063e+02, -1.66113799e-03]),\n",
       " 952: array([ 9.99989052e+02, -1.66288288e-03]),\n",
       " 953: array([ 9.99989040e+02, -1.66462777e-03]),\n",
       " 954: array([ 9.99989029e+02, -1.66637266e-03]),\n",
       " 955: array([ 9.99989017e+02, -1.66811756e-03]),\n",
       " 956: array([ 9.99989006e+02, -1.66986245e-03]),\n",
       " 957: array([ 9.99988994e+02, -1.67160734e-03]),\n",
       " 958: array([ 9.99988983e+02, -1.67335224e-03]),\n",
       " 959: array([ 9.99988971e+02, -1.67509713e-03]),\n",
       " 960: array([ 9.99988960e+02, -1.67684202e-03]),\n",
       " 961: array([ 9.99988948e+02, -1.67858692e-03]),\n",
       " 962: array([ 9.99988937e+02, -1.68033181e-03]),\n",
       " 963: array([ 9.99988925e+02, -1.68207670e-03]),\n",
       " 964: array([ 9.99988914e+02, -1.68382160e-03]),\n",
       " 965: array([ 9.99988902e+02, -1.68556649e-03]),\n",
       " 966: array([ 9.99988891e+02, -1.68731138e-03]),\n",
       " 967: array([ 9.99988879e+02, -1.68905628e-03]),\n",
       " 968: array([ 9.99988868e+02, -1.69080117e-03]),\n",
       " 969: array([ 9.99988856e+02, -1.69254606e-03]),\n",
       " 970: array([ 9.99988845e+02, -1.69429096e-03]),\n",
       " 971: array([ 9.99988833e+02, -1.69603585e-03]),\n",
       " 972: array([ 9.99988822e+02, -1.69778074e-03]),\n",
       " 973: array([ 9.99988810e+02, -1.69952564e-03]),\n",
       " 974: array([ 9.99988799e+02, -1.70127053e-03]),\n",
       " 975: array([ 9.99988787e+02, -1.70301542e-03]),\n",
       " 976: array([ 9.99988776e+02, -1.70476031e-03]),\n",
       " 977: array([ 9.99988764e+02, -1.70650521e-03]),\n",
       " 978: array([ 9.99988753e+02, -1.70825010e-03]),\n",
       " 979: array([ 9.99988741e+02, -1.70999499e-03]),\n",
       " 980: array([ 9.99988730e+02, -1.71173989e-03]),\n",
       " 981: array([ 9.99988719e+02, -1.71348478e-03]),\n",
       " 982: array([ 9.99988707e+02, -1.71522967e-03]),\n",
       " 983: array([ 9.99988696e+02, -1.71697457e-03]),\n",
       " 984: array([ 9.99988684e+02, -1.71871946e-03]),\n",
       " 985: array([ 9.99988673e+02, -1.72046435e-03]),\n",
       " 986: array([ 9.99988661e+02, -1.72220925e-03]),\n",
       " 987: array([ 9.99988650e+02, -1.72395414e-03]),\n",
       " 988: array([ 9.99988638e+02, -1.72569903e-03]),\n",
       " 989: array([ 9.99988627e+02, -1.72744393e-03]),\n",
       " 990: array([ 9.99988615e+02, -1.72918882e-03]),\n",
       " 991: array([ 9.99988604e+02, -1.73093371e-03]),\n",
       " 992: array([ 9.99988592e+02, -1.73267861e-03]),\n",
       " 993: array([ 9.99988581e+02, -1.73442350e-03]),\n",
       " 994: array([ 9.99988569e+02, -1.73616839e-03]),\n",
       " 995: array([ 9.99988558e+02, -1.73791329e-03]),\n",
       " 996: array([ 9.99988546e+02, -1.73965818e-03]),\n",
       " 997: array([ 9.99988535e+02, -1.74140307e-03]),\n",
       " 998: array([ 9.99988523e+02, -1.74314797e-03]),\n",
       " 999: array([ 9.99988512e+02, -1.74489286e-03]),\n",
       " ...}"
      ]
     },
     "execution_count": 85,
     "metadata": {},
     "output_type": "execute_result"
    }
   ],
   "source": [
    "def regresion_lineal(vectorX, vectorY, epochs, imprimirErrorCada, lr):\n",
    "    \n",
    "    unos = np.ones_like(vectorX)\n",
    "    m = 1000\n",
    "    b = 0\n",
    "    listaE = []\n",
    "    resultado = {}\n",
    "\n",
    "    # Generar Matriz\n",
    "    matriz1 = np.array([vectorX, unos])\n",
    "    matriz = matriz1.transpose()\n",
    "\n",
    "    # Vector con los parametros m,b\n",
    "    vectorP = np.array((m, b))\n",
    "\n",
    "    for i in range(epochs+1):\n",
    "    \n",
    "        yhat = (np.dot(matriz, vectorP)) / 100000\n",
    "\n",
    "        dif = vectorY - yhat\n",
    "\n",
    "        error = (np.sum((dif)**2) / len(yhat)) / 2\n",
    "\n",
    "        # Vector del error\n",
    "        vectorE = listaE.append(error) \n",
    "    \n",
    "        if i % imprimirErrorCada == 0:\n",
    "            print(error)\n",
    "\n",
    "        # Gradiente del error \n",
    "\n",
    "        matrizG = np.array((matriz[:,0]*dif,matriz[:,1]*dif)).transpose()\n",
    "\n",
    "        vectorG = np.array((np.sum(matrizG[:,0]) / len(matrizG), np.sum(matrizG[:,1]) / len(matrizG)))\n",
    "\n",
    "        # Actualizar parametros m,b\n",
    "\n",
    "        vectorP = vectorP - lr * vectorG\n",
    "        \n",
    "        resultado[i] = vectorP\n",
    "    \n",
    "    vectorE = np.asarray(listaE)\n",
    "    \n",
    "    return resultado\n",
    "\n",
    "regresion_lineal(vectorX1, train[:,0] / 100000, 10000, 1000, 0.000001)\n"
   ]
  },
  {
   "cell_type": "markdown",
   "metadata": {},
   "source": [
    "## Función Grafico para el Error"
   ]
  },
  {
   "cell_type": "code",
   "execution_count": 86,
   "metadata": {},
   "outputs": [
    {
     "data": {
      "image/png": "[encoded data removed]",
      "text/plain": [
       "<Figure size 432x288 with 1 Axes>"
      ]
     },
     "metadata": {
      "needs_background": "light"
     },
     "output_type": "display_data"
    }
   ],
   "source": [
    "def grafico_error(vectorX, vectorY, epochs, imprimirErrorCada, lr):\n",
    "    \n",
    "    unos = np.ones_like(vectorX)\n",
    "    m = 1000000\n",
    "    b = 0\n",
    "    listaE = []\n",
    "    resultado = {}\n",
    "\n",
    "    # Generar Matriz\n",
    "    matriz1 = np.array([vectorX, unos])\n",
    "    matriz = matriz1.transpose()\n",
    "\n",
    "    # Vector con los parametros m,b\n",
    "    vectorP = np.array((m, b))\n",
    "\n",
    "    for i in range(epochs+1):\n",
    "    \n",
    "        yhat = np.dot(matriz, vectorP) / 100000\n",
    "\n",
    "        dif = vectorY - yhat\n",
    "\n",
    "        error = (np.sum((dif)**2) / len(yhat)) / 2\n",
    "\n",
    "        # Vector del error\n",
    "        vectorE = listaE.append(error) \n",
    "    \n",
    "        # Gradiente del error \n",
    "\n",
    "        matrizG = np.array((matriz[:,0]*dif,matriz[:,1]*dif)).transpose()\n",
    "\n",
    "        vectorG = np.array((np.sum(matrizG[:,0]) / len(matrizG), np.sum(matrizG[:,1]) / len(matrizG)))\n",
    "\n",
    "        # Actualizar parametros m,b\n",
    "\n",
    "        vectorP = vectorP - lr * vectorG\n",
    "        \n",
    "        resultado[i] = vectorP\n",
    "    \n",
    "    vectorE = np.asarray(listaE)\n",
    "    \n",
    "    \n",
    "    # Grafica\n",
    "    x = np.arange(0, epochs+1,1)\n",
    "    y = vectorE\n",
    "\n",
    "    plt.plot(x,y)\n",
    "\n",
    "    plt.xlabel('Iteracion')\n",
    "    plt.ylabel('Error')\n",
    "    plt.title('Grafica del Error por Iteracion')\n",
    "    \n",
    "    return plt.show()\n",
    "\n",
    "\n",
    "grafico_error(vectorX1, train[:,0] / 100000, 10000, 1000, 0.00001)\n"
   ]
  },
  {
   "cell_type": "markdown",
   "metadata": {},
   "source": [
    "## Función Grafico Evolucion del Modelo"
   ]
  },
  {
   "cell_type": "code",
   "execution_count": 87,
   "metadata": {},
   "outputs": [
    {
     "name": "stdout",
     "output_type": "stream",
     "text": [
      "1.8241334310927226\n",
      "1.8241469336651748\n",
      "1.8241604363458421\n",
      "1.8241739391347247\n",
      "1.8241874420318245\n",
      "1.8242009450371421\n",
      "1.8242144481506775\n",
      "1.8242279513724327\n",
      "1.824241454702408\n",
      "1.824254958140604\n",
      "1.8242684616870224\n"
     ]
    },
    {
     "data": {
      "image/png": "[encoded data removed]",
      "text/plain": [
       "<Figure size 432x288 with 1 Axes>"
      ]
     },
     "metadata": {
      "needs_background": "light"
     },
     "output_type": "display_data"
    },
    {
     "data": {
      "image/png": "[encoded data removed]",
      "text/plain": [
       "<Figure size 432x288 with 1 Axes>"
      ]
     },
     "metadata": {
      "needs_background": "light"
     },
     "output_type": "display_data"
    },
    {
     "data": {
      "image/png": "[encoded data removed]",
      "text/plain": [
       "<Figure size 432x288 with 1 Axes>"
      ]
     },
     "metadata": {
      "needs_background": "light"
     },
     "output_type": "display_data"
    }
   ],
   "source": [
    "def grafico_evolucion(estructura_datos, n, vectorx, vectory, epochs):\n",
    "    \n",
    "    x = vectorx\n",
    "    dic = estructura_datos\n",
    "\n",
    "    for i in range (epochs+1):\n",
    "        vector = dic[i]\n",
    "        m = vector[0]\n",
    "        b = vector[1]\n",
    "        y = m * x + b\n",
    "\n",
    "        if i % n == 0:\n",
    "            plt.plot(x,y)\n",
    "            plt.scatter(vectorx, vectory,marker=\"o\",color=\"r\")\n",
    "            plt.xlabel('x')\n",
    "            plt.ylabel('y')\n",
    "            plt.xlim(0,np.max(x))\n",
    "            plt.ylim(0,np.max(y))\n",
    "            plt.title('Evolucion del Modelo')\n",
    "            plt.show()\n",
    "        \n",
    "                \n",
    "\n",
    "epochs = 10000\n",
    "grafico_evolucion(regresion_lineal(vectorX1, train[:,0] / 100000, epochs, 1000, 0.00001),5000, train[:,1], train[:,0] / 100000, epochs)\n"
   ]
  },
  {
   "cell_type": "markdown",
   "metadata": {},
   "source": [
    "## Entrenamiento de Modelos\n",
    "\n",
    "### Calidad Materiales"
   ]
  },
  {
   "cell_type": "code",
   "execution_count": 51,
   "metadata": {},
   "outputs": [],
   "source": [
    "vectorX1 = train[:,1] #Calidad Materiales \n",
    "\n",
    "vectorX2 = train[:,2] #Pies cuadrados area\n"
   ]
  },
  {
   "cell_type": "code",
   "execution_count": 88,
   "metadata": {},
   "outputs": [
    {
     "name": "stdout",
     "output_type": "stream",
     "text": [
      "1.8241334310927226\n",
      "1.8241334378439842\n",
      "1.824133444595246\n",
      "1.8241334513465077\n",
      "1.824133458097769\n",
      "1.824133464849031\n",
      "1.8241334716002924\n",
      "1.8241334783515546\n",
      "1.824133485102816\n",
      "1.8241334918540775\n",
      "1.8241334986053392\n",
      "1.8241335053566015\n",
      "1.824133512107863\n"
     ]
    },
    {
     "data": {
      "image/png": "[encoded data removed]",
      "text/plain": [
       "<Figure size 432x288 with 1 Axes>"
      ]
     },
     "metadata": {
      "needs_background": "light"
     },
     "output_type": "display_data"
    },
    {
     "data": {
      "image/png": "[encoded data removed]",
      "text/plain": [
       "<Figure size 432x288 with 1 Axes>"
      ]
     },
     "metadata": {
      "needs_background": "light"
     },
     "output_type": "display_data"
    },
    {
     "data": {
      "image/png": "[encoded data removed]",
      "text/plain": [
       "<Figure size 432x288 with 1 Axes>"
      ]
     },
     "metadata": {
      "needs_background": "light"
     },
     "output_type": "display_data"
    },
    {
     "data": {
      "image/png": "[encoded data removed]",
      "text/plain": [
       "<Figure size 432x288 with 1 Axes>"
      ]
     },
     "metadata": {
      "needs_background": "light"
     },
     "output_type": "display_data"
    },
    {
     "data": {
      "image/png": "[encoded data removed]",
      "text/plain": [
       "<Figure size 432x288 with 1 Axes>"
      ]
     },
     "metadata": {
      "needs_background": "light"
     },
     "output_type": "display_data"
    },
    {
     "data": {
      "image/png": "[encoded data removed]",
      "text/plain": [
       "<Figure size 432x288 with 1 Axes>"
      ]
     },
     "metadata": {
      "needs_background": "light"
     },
     "output_type": "display_data"
    },
    {
     "data": {
      "image/png": "[encoded data removed]",
      "text/plain": [
       "<Figure size 432x288 with 1 Axes>"
      ]
     },
     "metadata": {
      "needs_background": "light"
     },
     "output_type": "display_data"
    }
   ],
   "source": [
    "epochs = 6000\n",
    "grafico_evolucion(regresion_lineal(vectorX1, train[:,0] / 100000, epochs, 500, 0.00000001),1000, train[:,1], train[:,0] / 100000, epochs)"
   ]
  },
  {
   "cell_type": "markdown",
   "metadata": {},
   "source": [
    "### Pies Cuadrados (Area)"
   ]
  },
  {
   "cell_type": "code",
   "execution_count": 89,
   "metadata": {},
   "outputs": [
    {
     "name": "stdout",
     "output_type": "stream",
     "text": [
      "53.07869882081875\n",
      "53.07877691036687\n",
      "53.07885500003031\n",
      "53.07893308980904\n",
      "53.07901117970308\n",
      "53.079089269712426\n",
      "53.079167359837136\n",
      "53.079245450077174\n",
      "53.07932354043252\n",
      "53.079401630903156\n",
      "53.07947972148913\n",
      "53.07955781219039\n",
      "53.07963590300695\n",
      "53.0797139939388\n",
      "53.079792084985954\n"
     ]
    },
    {
     "data": {
      "image/png": "[encoded data removed]",
      "text/plain": [
       "<Figure size 432x288 with 1 Axes>"
      ]
     },
     "metadata": {
      "needs_background": "light"
     },
     "output_type": "display_data"
    },
    {
     "data": {
      "image/png": "[encoded data removed]",
      "text/plain": [
       "<Figure size 432x288 with 1 Axes>"
      ]
     },
     "metadata": {
      "needs_background": "light"
     },
     "output_type": "display_data"
    },
    {
     "data": {
      "image/png": "[encoded data removed]",
      "text/plain": [
       "<Figure size 432x288 with 1 Axes>"
      ]
     },
     "metadata": {
      "needs_background": "light"
     },
     "output_type": "display_data"
    },
    {
     "data": {
      "image/png": "[encoded data removed]",
      "text/plain": [
       "<Figure size 432x288 with 1 Axes>"
      ]
     },
     "metadata": {
      "needs_background": "light"
     },
     "output_type": "display_data"
    },
    {
     "data": {
      "image/png": "[encoded data removed]",
      "text/plain": [
       "<Figure size 432x288 with 1 Axes>"
      ]
     },
     "metadata": {
      "needs_background": "light"
     },
     "output_type": "display_data"
    },
    {
     "data": {
      "image/png": "[encoded data removed]",
      "text/plain": [
       "<Figure size 432x288 with 1 Axes>"
      ]
     },
     "metadata": {
      "needs_background": "light"
     },
     "output_type": "display_data"
    },
    {
     "data": {
      "image/png": "[encoded data removed]",
      "text/plain": [
       "<Figure size 432x288 with 1 Axes>"
      ]
     },
     "metadata": {
      "needs_background": "light"
     },
     "output_type": "display_data"
    },
    {
     "data": {
      "image/png": "[encoded data removed]",
      "text/plain": [
       "<Figure size 432x288 with 1 Axes>"
      ]
     },
     "metadata": {
      "needs_background": "light"
     },
     "output_type": "display_data"
    }
   ],
   "source": [
    "epochs = 7000\n",
    "grafico_evolucion(regresion_lineal(vectorX2, train[:,0] / 100000, epochs, 500, 0.0000000001),1000, train[:,1], train[:,0] / 100000, epochs)"
   ]
  },
  {
   "cell_type": "markdown",
   "metadata": {},
   "source": [
    "## Entrenamiento de Modelos con Scikit-Learn\n",
    "\n",
    "### Calidad Materiales"
   ]
  },
  {
   "cell_type": "code",
   "execution_count": 54,
   "metadata": {},
   "outputs": [],
   "source": [
    "import numpy as np\n",
    "from sklearn import linear_model\n",
    "from sklearn.linear_model import LinearRegression"
   ]
  },
  {
   "cell_type": "code",
   "execution_count": 55,
   "metadata": {},
   "outputs": [],
   "source": [
    "x1 = train[:,1].reshape(-1,1) #Calidad Materiales \n",
    "\n",
    "y = train[:,0].reshape(-1,1)"
   ]
  },
  {
   "cell_type": "code",
   "execution_count": 56,
   "metadata": {},
   "outputs": [
    {
     "data": {
      "text/plain": [
       "LinearRegression(copy_X=True, fit_intercept=True, n_jobs=None, normalize=False)"
      ]
     },
     "execution_count": 56,
     "metadata": {},
     "output_type": "execute_result"
    }
   ],
   "source": [
    "reg = linear_model.LinearRegression()\n",
    "reg.fit(x1, y)"
   ]
  },
  {
   "cell_type": "code",
   "execution_count": 57,
   "metadata": {},
   "outputs": [],
   "source": [
    "m_sl1 = reg.coef_[0,0]"
   ]
  },
  {
   "cell_type": "code",
   "execution_count": 58,
   "metadata": {},
   "outputs": [],
   "source": [
    "b_sl1 = reg.intercept_[0]"
   ]
  },
  {
   "cell_type": "code",
   "execution_count": 59,
   "metadata": {},
   "outputs": [
    {
     "name": "stdout",
     "output_type": "stream",
     "text": [
      "[[221414.42013537]\n",
      " [176002.42135622]\n",
      " [221414.42013537]\n",
      " ...\n",
      " [221414.42013537]\n",
      " [266826.41891453]\n",
      " [176002.42135622]]\n"
     ]
    }
   ],
   "source": [
    "y_pred1 = reg.predict(x1)\n",
    "print(y_pred1)"
   ]
  },
  {
   "cell_type": "markdown",
   "metadata": {},
   "source": [
    "### Pies Cuadrados (Area)"
   ]
  },
  {
   "cell_type": "code",
   "execution_count": 60,
   "metadata": {},
   "outputs": [],
   "source": [
    "x2 = train[:,2].reshape(-1,1) #Area \n",
    "\n",
    "y = train[:,0].reshape(-1,1)"
   ]
  },
  {
   "cell_type": "code",
   "execution_count": 61,
   "metadata": {},
   "outputs": [
    {
     "data": {
      "text/plain": [
       "LinearRegression(copy_X=True, fit_intercept=True, n_jobs=None, normalize=False)"
      ]
     },
     "execution_count": 61,
     "metadata": {},
     "output_type": "execute_result"
    }
   ],
   "source": [
    "reg2 = linear_model.LinearRegression()\n",
    "reg2.fit(x2, y)"
   ]
  },
  {
   "cell_type": "code",
   "execution_count": 62,
   "metadata": {},
   "outputs": [],
   "source": [
    "m_sl2 = reg2.coef_[0,0]"
   ]
  },
  {
   "cell_type": "code",
   "execution_count": 63,
   "metadata": {},
   "outputs": [],
   "source": [
    "b_sl2 = reg2.intercept_[0]"
   ]
  },
  {
   "cell_type": "code",
   "execution_count": 64,
   "metadata": {},
   "outputs": [
    {
     "name": "stdout",
     "output_type": "stream",
     "text": [
      "[[38776201.3836415 ]\n",
      " [57213472.88798012]\n",
      " [41682569.30550768]\n",
      " ...\n",
      " [68112352.5949783 ]\n",
      " [76831456.36057687]\n",
      " [43453637.25789489]]\n"
     ]
    }
   ],
   "source": [
    "y_pred2 = reg.predict(x2)\n",
    "print(y_pred2)"
   ]
  },
  {
   "cell_type": "markdown",
   "metadata": {},
   "source": [
    "## Funcion Promedio de los Modelos Predictivos\n",
    "\n",
    "### Calidad Materiales"
   ]
  },
  {
   "cell_type": "code",
   "execution_count": 65,
   "metadata": {},
   "outputs": [],
   "source": [
    "def promedio_y(m_manual, b_manual, m_sl, b_sl, x):\n",
    "    \n",
    "    # Modelo Manual\n",
    "    y_manual = m_manual * x + b_manual\n",
    "    \n",
    "    # Modelo Scikit-Learn\n",
    "    y_sl = m_sl * x + b_sl\n",
    "    \n",
    "    # Modelo Promedio\n",
    "    y_prom = (y_manual + y_sl) / 2\n",
    "    \n",
    "    return (y_manual, y_sl, y_prom)"
   ]
  },
  {
   "cell_type": "code",
   "execution_count": 66,
   "metadata": {},
   "outputs": [
    {
     "name": "stdout",
     "output_type": "stream",
     "text": [
      "18391393555101.164\n",
      "18398764439260.26\n",
      "18406138277709.348\n",
      "18413515071632.516\n",
      "18420894822214.363\n",
      "18428277530639.887\n",
      "18435663198094.6\n",
      "18443051825764.547\n",
      "18450443414836.22\n",
      "18457837966496.535\n",
      "18465235481932.89\n",
      "18472635962333.234\n",
      "18480039408885.848\n"
     ]
    }
   ],
   "source": [
    "dicx1 = regresion_lineal(vectorX1, train[:,0], 6000, 500, 0.00000001)\n",
    "vp1 = dicx1[6000]\n",
    "m_manual1 = vp1[0]\n",
    "b_manual1 = vp1[1]"
   ]
  },
  {
   "cell_type": "code",
   "execution_count": 67,
   "metadata": {},
   "outputs": [
    {
     "data": {
      "text/plain": [
       "(array([7016308.94344455, 6014029.91053314, 7016308.94344455, ...,\n",
       "        7016308.94344455, 8018587.97635595, 6014029.91053314]),\n",
       " array([221414.42013537, 176002.42135622, 221414.42013537, ...,\n",
       "        221414.42013537, 266826.41891453, 176002.42135622]),\n",
       " array([3618861.68178996, 3095016.16594468, 3618861.68178996, ...,\n",
       "        3618861.68178996, 4142707.19763524, 3095016.16594468]))"
      ]
     },
     "execution_count": 67,
     "metadata": {},
     "output_type": "execute_result"
    }
   ],
   "source": [
    "promedio_y(m_manual1, b_manual1, m_sl1, b_sl1, vectorX1)"
   ]
  },
  {
   "cell_type": "markdown",
   "metadata": {},
   "source": [
    "### Pies Cuadrados (Area)"
   ]
  },
  {
   "cell_type": "code",
   "execution_count": 77,
   "metadata": {},
   "outputs": [
    {
     "name": "stdout",
     "output_type": "stream",
     "text": [
      "19387033338.733387\n",
      "19387059060.90769\n",
      "19387084783.119965\n",
      "19387110505.370224\n",
      "19387136227.65847\n",
      "19387161949.9847\n",
      "19387187672.348915\n",
      "19387213394.751106\n",
      "19387239117.191284\n",
      "19387264839.669453\n",
      "19387290562.1856\n",
      "19387316284.73973\n",
      "19387342007.331844\n",
      "19387367729.961945\n",
      "19387393452.630028\n"
     ]
    }
   ],
   "source": [
    "dicx2 = regresion_lineal(vectorX2, train[:,0], epochs, 500, 0.0000000001)\n",
    "vp2 = dicx2[6000]\n",
    "m_manual2 = vp2[0]\n",
    "b_manual2 = vp2[1]"
   ]
  },
  {
   "cell_type": "code",
   "execution_count": 78,
   "metadata": {},
   "outputs": [
    {
     "data": {
      "text/plain": [
       "(array([ 8443488.64376949, 12448227.46776664,  9074777.52242914, ...,\n",
       "        14815560.76274032, 16709427.39871926,  9459469.18286236]),\n",
       " array([141562.84857277, 194323.05294136, 149879.72807915, ...,\n",
       "        225511.35109027, 250461.98960941, 154947.82652835]),\n",
       " array([4292525.74617113, 6321275.260354  , 4612328.62525414, ...,\n",
       "        7520536.0569153 , 8479944.69416434, 4807208.50469536]))"
      ]
     },
     "execution_count": 78,
     "metadata": {},
     "output_type": "execute_result"
    }
   ],
   "source": [
    "promedio_y(m_manual2, b_manual2, m_sl2, b_sl2, vectorX2)"
   ]
  },
  {
   "cell_type": "markdown",
   "metadata": {},
   "source": [
    "## Error Usando los Datos de Validacion (20%)\n",
    "\n",
    "### Calidad Materiales"
   ]
  },
  {
   "cell_type": "code",
   "execution_count": 79,
   "metadata": {},
   "outputs": [
    {
     "data": {
      "text/plain": [
       "array([1236., 1831., 1118., 1261.,  625., 1636., 1170., 2129.,  923.,\n",
       "        818.,  820., 1124., 1298., 1652., 2411., 1130., 1572.,  949.,\n",
       "       1014., 1624.,  831., 1028., 1622.,  764.,  842., 1224.,  663.,\n",
       "        728.,  879.,  815., 1212., 1382.,  864.,  866.,  884., 1630.,\n",
       "       1074., 2196., 1056., 1700., 1283., 1660., 1055., 1080.,  672.,\n",
       "        960.,  999.,  894., 1318., 1314.,  672.,  672.,  912., 1211.,\n",
       "       1168., 2136.,  788., 1138.,  894.,  912., 1702., 1507., 1361.,\n",
       "       1190., 1224., 1188., 1024.,  892.,  764.,  847., 1141., 1484.,\n",
       "        884., 1689., 1173., 2076.,  792., 1140.,  756., 1034., 1134.,\n",
       "        988., 2110., 1405.,  874., 1516.,  760.,  959., 1987.,  864.,\n",
       "       1166., 1054.,  892., 1050., 1104., 1060., 1337.,  713.,  964.,\n",
       "       2018., 1968.,  874., 1332., 1489.,  935., 1357.,  661.,  928.,\n",
       "        735., 1724., 1128.,  698., 1573., 1339., 1040.,  912., 1699.,\n",
       "        825., 1328., 1582., 1659., 1120., 1152.,  630., 1378.,  832.,\n",
       "        864., 1052., 1128., 1072., 4692., 1246., 1005.,  753., 1203.,\n",
       "       1616.,  976., 1652., 1368.,  990., 1122., 1294., 1902., 1274.,\n",
       "       1453., 1422.,  948., 1092., 1630., 1352., 1787.,  948., 1478.,\n",
       "        720., 1061.,  708., 1795.,  796.,  774.,  816., 1584.,  955.,\n",
       "       1588.,  954.,  816.,  803.,  765., 1334., 1656.,  693.,  920.,\n",
       "        864.,  872., 1114., 1284., 1172.,  728.,  960., 2156., 1776.,\n",
       "       1494.,  938., 1338.,  858.,  786., 2053.,  992., 1222.,  892.,\n",
       "       1078.,  769., 1980.,  990., 1530., 1281.,  616.,  520.,  814.,\n",
       "        882.,  925.,  848., 1668.,  840., 1661., 1108., 2633., 1026.,\n",
       "       1571.,  790.,  984.,  483.,  754.,  864., 2117.,  998., 1416.,\n",
       "        698.,  796., 1392., 1664., 1746.,  869., 1525., 1584.,  900.,\n",
       "       1221., 1500., 1133., 1687.,  939., 1136., 1160.,  950.,  864.,\n",
       "       1294., 1464.,  694., 1646.,  768.,  833.,  741., 1236.,  944.,\n",
       "       1112., 1040., 1844., 1053., 1569., 1246., 1310., 1144., 1844.,\n",
       "        708., 1069.,  848., 1575., 1344., 1252., 1223., 1048.,  804.,\n",
       "       1440.,  734.,  958.,  968.,  962., 1126., 1537.,  864., 1932.,\n",
       "       1236., 1040., 1423.,  848., 1026.,  952., 1422.,  913., 1188.,\n",
       "       1220.,  796.,  630.,  896., 1578., 1072., 1140., 1221.,  953.,\n",
       "       2073., 1188., 1078., 1256.])"
      ]
     },
     "execution_count": 79,
     "metadata": {},
     "output_type": "execute_result"
    }
   ],
   "source": [
    "test[:,0] # y\n",
    "test[:,1] # x1\n",
    "test[:,2] # x2"
   ]
  },
  {
   "cell_type": "code",
   "execution_count": 80,
   "metadata": {},
   "outputs": [],
   "source": [
    "prediccion1 = promedio_y(m_manual1, b_manual1, m_sl1, b_sl1, test[:,1])\n",
    "\n",
    "prediccion1[0] # y modelo manual\n",
    "prediccion1[1] # y modelo sl\n",
    "test[:,0] # y real\n",
    "\n",
    "# Calculo del error\n",
    "\n",
    "error_manual1 = np.abs(prediccion1[0] - test[:,0])\n",
    "error_total_manual1 = np.sum(error_manual1) / len(error_manual1)\n",
    "\n",
    "error_sl1 = np.abs(prediccion1[1] - test[:,0])\n",
    "error_total_sl1 = np.sum(error_sl1) / len(error_sl1)"
   ]
  },
  {
   "cell_type": "code",
   "execution_count": 81,
   "metadata": {},
   "outputs": [],
   "source": [
    "prediccion2 = promedio_y(m_manual2, b_manual2, m_sl2, b_sl2, test[:,2])\n",
    "\n",
    "prediccion2[0] # y modelo manual\n",
    "prediccion2[1] # y modelo sl\n",
    "test[:,0] # y real\n",
    "\n",
    "# Calculo del error\n",
    "\n",
    "error_manual2 = np.abs(prediccion2[0] - test[:,0])\n",
    "error_total_manual2 = np.sum(error_manual2) /  len(error_manual2)\n",
    "\n",
    "error_sl2 = np.abs(prediccion2[1] - test[:,0])\n",
    "error_total_sl2 = np.sum(error_sl2) / len(error_sl2)"
   ]
  },
  {
   "cell_type": "code",
   "execution_count": 82,
   "metadata": {},
   "outputs": [
    {
     "data": {
      "image/png": "[encoded data removed]",
      "text/plain": [
       "<Figure size 432x288 with 1 Axes>"
      ]
     },
     "metadata": {
      "needs_background": "light"
     },
     "output_type": "display_data"
    }
   ],
   "source": [
    "fig = plt.figure(u'Gráfica de barras')\n",
    "ax1 = fig.add_subplot(1,1,1)\n",
    "\n",
    "nombres1 = ['Error Manual 1','Error SL 1','Error Manual 2','Error SL 2']\n",
    "datos1 = [error_total_manual1, error_total_sl1, error_total_manual2, error_total_sl2]\n",
    "xx1 = range(len(datos1))\n",
    "\n",
    "ax1.bar(xx1, datos1, width=0.8, align='center')\n",
    "ax1.set_xticks(xx1)\n",
    "ax1.set_xticklabels(nombres1)\n",
    "\n",
    "plt.show()"
   ]
  },
  {
   "cell_type": "code",
   "execution_count": 83,
   "metadata": {},
   "outputs": [
    {
     "data": {
      "image/png": "[encoded data removed]",
      "text/plain": [
       "<Figure size 432x288 with 3 Axes>"
      ]
     },
     "metadata": {
      "needs_background": "light"
     },
     "output_type": "display_data"
    }
   ],
   "source": [
    "fig = plt.figure(u'Gráfica de barras')\n",
    "ax1 = fig.add_subplot(2,2,1)\n",
    "ax2 = fig.add_subplot(2,2,2)\n",
    "ax3 = fig.add_subplot(2,2,3)\n",
    "\n",
    "nombres1 = ['Error Manual 1','Error SL 1','Error Manual 2','Error SL 2']\n",
    "datos1 = [error_total_manual1, error_total_sl1, error_total_manual2, error_total_sl2]\n",
    "xx1 = range(len(datos1))\n",
    "\n",
    "ax1.bar(xx1, datos1, width=0.8, align='center')\n",
    "ax1.set_xticks(xx1)\n",
    "ax1.set_xticklabels(nombres1)\n",
    "\n",
    "\n",
    "\n",
    "nombres2 = ['Error Manual 1','Error SL 1']\n",
    "datos2 = [error_total_manual1, error_total_sl1]\n",
    "xx2 = range(len(datos2))\n",
    "\n",
    "ax2.bar(xx2, datos2, width=0.8, align='center')\n",
    "ax2.set_xticks(xx2)\n",
    "ax2.set_xticklabels(nombres2)\n",
    "\n",
    "\n",
    "\n",
    "nombres3 = ['Error Manual 2','Error SL 2']\n",
    "datos3 = [error_total_manual2, error_total_sl2]\n",
    "xx3 = range(len(datos3))\n",
    "\n",
    "ax3.bar(xx3, datos3, width=0.8, align='center')\n",
    "ax3.set_xticks(xx3)\n",
    "ax3.set_xticklabels(nombres3)\n",
    "\n",
    "\n",
    "\n",
    "plt.show()"
   ]
  },
  {
   "cell_type": "code",
   "execution_count": 84,
   "metadata": {},
   "outputs": [
    {
     "data": {
      "image/png": "[encoded data removed]",
      "text/plain": [
       "<Figure size 432x288 with 2 Axes>"
      ]
     },
     "metadata": {
      "needs_background": "light"
     },
     "output_type": "display_data"
    }
   ],
   "source": [
    "fig = plt.figure(u'Gráfica de barras')\n",
    "ax2 = fig.add_subplot(1,2,1)\n",
    "ax3 = fig.add_subplot(1,2,2)\n",
    "\n",
    "nombres1 = ['Error Manual 1','Error SL 1','Error Manual 2','Error SL 2']\n",
    "datos1 = [error_total_manual1, error_total_sl1, error_total_manual2, error_total_sl2]\n",
    "xx1 = range(len(datos1))\n",
    "\n",
    "ax1.bar(xx1, datos1, width=0.8, align='center')\n",
    "ax1.set_xticks(xx1)\n",
    "ax1.set_xticklabels(nombres1)\n",
    "\n",
    "\n",
    "\n",
    "nombres2 = ['Error Manual 1','Error SL 1']\n",
    "datos2 = [error_total_manual1, error_total_sl1]\n",
    "xx2 = range(len(datos2))\n",
    "\n",
    "ax2.bar(xx2, datos2, width=0.8, align='center')\n",
    "ax2.set_xticks(xx2)\n",
    "ax2.set_xticklabels(nombres2)\n",
    "\n",
    "\n",
    "\n",
    "nombres3 = ['Error Manual 2','Error SL 2']\n",
    "datos3 = [error_total_manual2, error_total_sl2]\n",
    "xx3 = range(len(datos3))\n",
    "\n",
    "ax3.bar(xx3, datos3, width=0.8, align='center')\n",
    "ax3.set_xticks(xx3)\n",
    "ax3.set_xticklabels(nombres3)\n",
    "\n",
    "\n",
    "\n",
    "plt.show()"
   ]
  },
  {
   "cell_type": "markdown",
   "metadata": {},
   "source": [
    "## Conclusion\n",
    "\n",
    "Se ha denotado como error 1 y error 2 a los errores que brindan los modelos manuales y generados por Scikit-Learn para las variables independientes x. Los errores 1 se refieren a la variable \"Calidad de Materiales\" y los errores 2 a la variable \"Pies Cuadrados (Área)\".\n",
    "\n",
    "\n",
    "Visualizando las gráficas de los errores se puede observar que el error promedio generado por el modelo manual para ambas variables independientes x es significativamente mayor que el generado por el modelo de Scikit-Learn.\n",
    "\n",
    "Por tanto, para estas variables independientes es más recomendado utilizar el modelo que genera Scikit-Learn ya que es el que genera el menor error."
   ]
  }
 ],
 "metadata": {
  "kernelspec": {
   "display_name": "Python 3",
   "language": "python",
   "name": "python3"
  },
  "language_info": {
   "codemirror_mode": {
    "name": "ipython",
    "version": 3
   },
   "file_extension": ".py",
   "mimetype": "text/x-python",
   "name": "python",
   "nbconvert_exporter": "python",
   "pygments_lexer": "ipython3",
   "version": "3.7.4"
  }
 },
 "nbformat": 4,
 "nbformat_minor": 4
}
